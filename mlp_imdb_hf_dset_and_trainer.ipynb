{
  "cells": [
    {
      "cell_type": "markdown",
      "metadata": {
        "colab_type": "text",
        "id": "view-in-github"
      },
      "source": [
        "<a href=\"https://colab.research.google.com/github/TurkuNLP/intro-to-nlp/blob/master/mlp_imdb_hf_dset_and_trainer.ipynb\" target=\"_parent\"><img src=\"https://colab.research.google.com/assets/colab-badge.svg\" alt=\"Open In Colab\"/></a>"
      ]
    },
    {
      "cell_type": "markdown",
      "metadata": {
        "id": "LDZZUKzfPRWT"
      },
      "source": [
        "# Setup\n",
        "\n",
        "Before we start running our own Python code, install the required Python packages using [pip](https://en.wikipedia.org/wiki/Pip):\n",
        "\n",
        "* [`transformers`](https://huggingface.co/docs/transformers/index) is a popular deep learning package primarily on top of torch, we need to reinstall it with the [torch] configuration (might take a substantial amount of time)\n",
        "* [`datasets`](https://huggingface.co/docs/datasets/) provides support for loading, creating, and manipulating datasets\n",
        "* evaluate is a library of performance metrics (like accuracy etc)\n",
        "\n",
        "**You will likely need to do a Runtime/Restart session for everything to work after the installation.**"
      ]
    },
    {
      "cell_type": "code",
      "execution_count": 1,
      "metadata": {
        "colab": {
          "base_uri": "https://localhost:8080/"
        },
        "id": "fKPHBYptQDsK",
        "outputId": "c73a989e-ed35-475a-90a8-6aeac927fc65"
      },
      "outputs": [],
      "source": [
        "# !pip3 install -q datasets evaluate\n",
        "# !pip install transformers[torch]"
      ]
    },
    {
      "cell_type": "markdown",
      "metadata": {
        "id": "xOeI-LA9RcYL"
      },
      "source": [
        "(Above, the `!` at the start of the line tells the notebook to run the line as an operating system command rather than Python code, and the `-q` argument to `pip` runs the command in \"quiet\" mode, with less output.)"
      ]
    },
    {
      "cell_type": "markdown",
      "metadata": {
        "id": "_fCdfQfNNzwt"
      },
      "source": [
        "---\n",
        "\n",
        "# Get and prepare data\n",
        "\n",
        "*   Let us work with the IMDB dataset of movie review sentiment\n",
        "*   25,000 positive reviews\n",
        "*   25,000 negative reviews\n",
        "*   50,000 unlabeled reviews (which we discard for the time being)\n"
      ]
    },
    {
      "cell_type": "code",
      "execution_count": 2,
      "metadata": {
        "colab": {
          "base_uri": "https://localhost:8080/",
          "height": 608,
          "referenced_widgets": [
            "eeb454382a57454893131f6521914a73",
            "19d1d9e90c5b4430ab42f323c4049c35",
            "0a0b6fbdf84f4b48b9c2ef49a0250404",
            "1a56cbd49d384c519b64714fea68a641",
            "5de8dbc30dcc46bf91c6b06a4e13931b",
            "218dc6efe29c4b6abddf064f6d5658ed",
            "16b02cc48b71420a9ddad7185bb3e029",
            "c68fd158757d423585d58956d1a99eaf",
            "222daa34d70b40388521329453f1f8dd",
            "54733c51d16d48f098862efe3b5981a6",
            "e39eabb6495a47b08f1cf12abe3be236",
            "d1a81417dae24a53a8b53c47e6b4381c",
            "36f0168cb84a4269bbcb22c73ab44d54",
            "4e60b02fa07540cc81b3d8fc5101bc52",
            "63ada6281f1d448b866e6068020f40ac",
            "2d45cf6772d149bfafbd014365f8f191",
            "7f80aad5a1bc443ea5c0c1b5ae871d87",
            "5cd8a219b69e46aa9913ecf9ac16d8b5",
            "ffcb6442757c4d8fa0b64d6813c261f2",
            "0ea1ef2cd8574f3385da830711032285",
            "bfd298f36bea418b8e80000245c25ed1",
            "2a0634254c42464e960eca2fd4f185a3",
            "9c98cd7ac7e340a2830fe677bf5f60cd",
            "28ea4db6f6d44017b326ce9da7830ca4",
            "288ac80ae11d421bac87e2438e62c2b5",
            "d686c7ce5f32456bb071c49d772678d0",
            "9a8e21f649e440cda780ffca8d67805c",
            "b5eebda55aad4a48889c8e7cf3ab4975",
            "f32cbba9a7b6489a831f9a6bea21938c",
            "d35803ce3faf4011ade3032954d3fc49",
            "f81a4981e95941c3a915b56f9e2f1ea0",
            "2c84144d7ea8458fafb216b32d1d6d3e",
            "13e4f6d9a4be47209385c67158a45bb3",
            "6a6bd6514aa8402e978923dde155551e",
            "a380327b8df24a01b85511c64523ca01",
            "bcc23dfef01e42fea8bb94b0c5e6f3fc",
            "aacad03af7d34da481016a5a2c801bc7",
            "9dd07ae5bb424ebdadf42d9e10196f8f",
            "cf4e654be55140b1ad6d9f5439081ee9",
            "a0ec090f1b154f328f4aa216370ebdce",
            "959de368cabf4d51b46825f895b88b97",
            "45eb295c8b9b413fae926166cd36836c",
            "466f13d171a64be3a5055424d1d71208",
            "a4206c82275847ef8c464265c9eaea08",
            "90eb5c7a2d8f4627bcaae84cfc8f4766",
            "c1521782dbe74f9bac8cda73d2c4f3fb",
            "fe4208bf6680465697a87889ec3f120c",
            "5cfdb87a29b34693b2b65fb915bd4dd6",
            "128df31502d445159c9b82651e01014f",
            "832baac0e0af4bccbc5af062076bcf96",
            "54748003511e4ff49a91c73d3f3df2f6",
            "8bc478ee4f37434a9e92e28a90c659ea",
            "cffa2115c14f40c5be8c0cee67193b49",
            "cb314a81ab75474fb481c52f4a1ed842",
            "e36d5e5b22e0407b810231a97acbf73e",
            "61bd816155a946c9b07a864c22231f85",
            "137927bd797149efb17707da77674f78",
            "41d45ef201984254877e67128611b00f",
            "9652d4067a9344edb35777d73a140e54",
            "44b7a2315a124ed6ae7d01eb9d41e87d",
            "79a8c323bee44560bd087a1f052cb1af",
            "593301961d294c0aa115fe23699fd8e7",
            "2bfb7e0fb6b744b1a1ab281a807e3511",
            "b12b0d90ed1840cda3aa64d36f2f3d7c",
            "599c8f9597aa4d7cbf08fe8740a9841b",
            "acd06f252bca41509d20ca29dd2b8b86",
            "bf459c020258434dbc54abd2761c95fa",
            "ff7a54f4cdcf4c8f9d82df85217c8309",
            "bc9291dba526497fb31cf354685ec8af",
            "8f3ece1cf54b4e7f83c5413bf359e9e3",
            "cc1efb5daac348ba87eb2e52e5c4a776",
            "b364405e003e49afb820eac3827d422d",
            "3d87aaa4f44148839e84d32f7292422e",
            "2e40d6d0905341f295f6e2563741783a",
            "9ac126c24753423698adc9d6c5b48087",
            "3c6ec360930e4a57931cca59cceb136e",
            "ca2557e24b204e9abc13522c5c192e91"
          ]
        },
        "id": "QxmgHoKDTN2_",
        "outputId": "b94c7f5d-9008-4d92-a288-5ef1c1906c4b"
      },
      "outputs": [
        {
          "name": "stderr",
          "output_type": "stream",
          "text": [
            "c:\\Python310\\lib\\site-packages\\tqdm\\auto.py:21: TqdmWarning: IProgress not found. Please update jupyter and ipywidgets. See https://ipywidgets.readthedocs.io/en/stable/user_install.html\n",
            "  from .autonotebook import tqdm as notebook_tqdm\n"
          ]
        },
        {
          "name": "stdout",
          "output_type": "stream",
          "text": [
            "DatasetDict({\n",
            "    train: Dataset({\n",
            "        features: ['text', 'label'],\n",
            "        num_rows: 25000\n",
            "    })\n",
            "    test: Dataset({\n",
            "        features: ['text', 'label'],\n",
            "        num_rows: 25000\n",
            "    })\n",
            "    unsupervised: Dataset({\n",
            "        features: ['text', 'label'],\n",
            "        num_rows: 50000\n",
            "    })\n",
            "})\n"
          ]
        }
      ],
      "source": [
        "from pprint import pprint #pprint => pretty-print, I use it occassionally throughout the notebook\n",
        "import datasets\n",
        "import torch\n",
        "dset=datasets.load_dataset(\"imdb\")\n",
        "pprint(dset)"
      ]
    },
    {
      "cell_type": "code",
      "execution_count": 3,
      "metadata": {
        "id": "lbmgiOj4pWw-"
      },
      "outputs": [],
      "source": [
        "dset=dset.shuffle() #This is never a bad idea, datasets may have ordering to them, which is not what we want\n",
        "del dset[\"unsupervised\"] #Delete the unlabeled part of the dataset, we don't need it for anything"
      ]
    },
    {
      "cell_type": "code",
      "execution_count": 4,
      "metadata": {
        "colab": {
          "base_uri": "https://localhost:8080/"
        },
        "id": "KI3kyD3vry8C",
        "outputId": "2666b3f2-8982-402a-dc8c-88c438f38d2b"
      },
      "outputs": [
        {
          "name": "stdout",
          "output_type": "stream",
          "text": [
            "('There were a lot of films made by Hollywood during the war years that were '\n",
            " 'designed to drum up support for our troops from the public. Seen today, some '\n",
            " 'might dismiss them or just see them as propaganda--which they technically '\n",
            " 'are, but of a positive sort and meant to unify the nation. This film is a '\n",
            " 'pretty effective and entertaining example of the genre--having a pretty '\n",
            " \"realistic script and good production values. Pat O'Brien plays pretty much \"\n",
            " 'the same character he played in MANY other films (you know, the '\n",
            " 'tough-talking, hard-driven but \"swell guy\"). Randolph Scott is, as always, '\n",
            " 'competent and entertaining and the rest of the extras are excellent (look '\n",
            " 'for a young Robert Ryan as one of the bombardiers in training). While the '\n",
            " 'story is reminiscent of several other movies about our pilots and crews, the '\n",
            " 'film is well-crafted enough to make it interesting and not too far-fetched. '\n",
            " 'That it, perhaps, except for the very end--where the film is a bit '\n",
            " 'over-the-top but also VERY satisfying. About the only serious negative, and '\n",
            " 'this is mostly for nitpickers, is that some of the stock footage is somewhat '\n",
            " 'sloppily integrated in the film and \"nuts\" like me who are both history '\n",
            " 'teachers and airplane lovers will probably notice this--all others probably '\n",
            " \"won't notice.\")\n",
            "1\n"
          ]
        }
      ],
      "source": [
        "pprint(dset['train'][0]['text'])\n",
        "print(dset['train'][0]['label'])"
      ]
    },
    {
      "cell_type": "markdown",
      "metadata": {
        "id": "KMnqQ78cMpk2"
      },
      "source": [
        "## Tokenize and map vocabulary\n",
        "         \n",
        "*   We need to achieve two complementary tasks\n",
        "*   **Tokenize** split the text into units which can be interpreted as features (words in this case)\n",
        "*   **Map vocabulary** build the feature vector for each example\n",
        "*   Since this is NLP, here it means listing the non-zero elements of the feature vector, or in other words the indices of the vocabulary items\n",
        "* Since we work with the bag of words (BoW) representation, these do not need to be (and are not) in the order in which they appear in the text\n",
        "* These indices then refer to the rows in the embedding matrix\n",
        "*   A traditional and well-tested way it to use sklearn's feature extraction package\n",
        "*   CountVectorizer is most likely what we want in here, because we only want the ids, nothing else\n",
        "* But for other NLP work the TfidfVectorizer is also very handy\n",
        "\n"
      ]
    },
    {
      "cell_type": "code",
      "execution_count": 5,
      "metadata": {
        "colab": {
          "base_uri": "https://localhost:8080/",
          "height": 74
        },
        "id": "MYOtKJu7Mohd",
        "outputId": "0a40cefe-fb14-4cc6-e371-a3bc7582c262"
      },
      "outputs": [
        {
          "data": {
            "text/html": [
              "<style>#sk-container-id-1 {color: black;}#sk-container-id-1 pre{padding: 0;}#sk-container-id-1 div.sk-toggleable {background-color: white;}#sk-container-id-1 label.sk-toggleable__label {cursor: pointer;display: block;width: 100%;margin-bottom: 0;padding: 0.3em;box-sizing: border-box;text-align: center;}#sk-container-id-1 label.sk-toggleable__label-arrow:before {content: \"▸\";float: left;margin-right: 0.25em;color: #696969;}#sk-container-id-1 label.sk-toggleable__label-arrow:hover:before {color: black;}#sk-container-id-1 div.sk-estimator:hover label.sk-toggleable__label-arrow:before {color: black;}#sk-container-id-1 div.sk-toggleable__content {max-height: 0;max-width: 0;overflow: hidden;text-align: left;background-color: #f0f8ff;}#sk-container-id-1 div.sk-toggleable__content pre {margin: 0.2em;color: black;border-radius: 0.25em;background-color: #f0f8ff;}#sk-container-id-1 input.sk-toggleable__control:checked~div.sk-toggleable__content {max-height: 200px;max-width: 100%;overflow: auto;}#sk-container-id-1 input.sk-toggleable__control:checked~label.sk-toggleable__label-arrow:before {content: \"▾\";}#sk-container-id-1 div.sk-estimator input.sk-toggleable__control:checked~label.sk-toggleable__label {background-color: #d4ebff;}#sk-container-id-1 div.sk-label input.sk-toggleable__control:checked~label.sk-toggleable__label {background-color: #d4ebff;}#sk-container-id-1 input.sk-hidden--visually {border: 0;clip: rect(1px 1px 1px 1px);clip: rect(1px, 1px, 1px, 1px);height: 1px;margin: -1px;overflow: hidden;padding: 0;position: absolute;width: 1px;}#sk-container-id-1 div.sk-estimator {font-family: monospace;background-color: #f0f8ff;border: 1px dotted black;border-radius: 0.25em;box-sizing: border-box;margin-bottom: 0.5em;}#sk-container-id-1 div.sk-estimator:hover {background-color: #d4ebff;}#sk-container-id-1 div.sk-parallel-item::after {content: \"\";width: 100%;border-bottom: 1px solid gray;flex-grow: 1;}#sk-container-id-1 div.sk-label:hover label.sk-toggleable__label {background-color: #d4ebff;}#sk-container-id-1 div.sk-serial::before {content: \"\";position: absolute;border-left: 1px solid gray;box-sizing: border-box;top: 0;bottom: 0;left: 50%;z-index: 0;}#sk-container-id-1 div.sk-serial {display: flex;flex-direction: column;align-items: center;background-color: white;padding-right: 0.2em;padding-left: 0.2em;position: relative;}#sk-container-id-1 div.sk-item {position: relative;z-index: 1;}#sk-container-id-1 div.sk-parallel {display: flex;align-items: stretch;justify-content: center;background-color: white;position: relative;}#sk-container-id-1 div.sk-item::before, #sk-container-id-1 div.sk-parallel-item::before {content: \"\";position: absolute;border-left: 1px solid gray;box-sizing: border-box;top: 0;bottom: 0;left: 50%;z-index: -1;}#sk-container-id-1 div.sk-parallel-item {display: flex;flex-direction: column;z-index: 1;position: relative;background-color: white;}#sk-container-id-1 div.sk-parallel-item:first-child::after {align-self: flex-end;width: 50%;}#sk-container-id-1 div.sk-parallel-item:last-child::after {align-self: flex-start;width: 50%;}#sk-container-id-1 div.sk-parallel-item:only-child::after {width: 0;}#sk-container-id-1 div.sk-dashed-wrapped {border: 1px dashed gray;margin: 0 0.4em 0.5em 0.4em;box-sizing: border-box;padding-bottom: 0.4em;background-color: white;}#sk-container-id-1 div.sk-label label {font-family: monospace;font-weight: bold;display: inline-block;line-height: 1.2em;}#sk-container-id-1 div.sk-label-container {text-align: center;}#sk-container-id-1 div.sk-container {/* jupyter's `normalize.less` sets `[hidden] { display: none; }` but bootstrap.min.css set `[hidden] { display: none !important; }` so we also need the `!important` here to be able to override the default hidden behavior on the sphinx rendered scikit-learn.org. See: https://github.com/scikit-learn/scikit-learn/issues/21755 */display: inline-block !important;position: relative;}#sk-container-id-1 div.sk-text-repr-fallback {display: none;}</style><div id=\"sk-container-id-1\" class=\"sk-top-container\"><div class=\"sk-text-repr-fallback\"><pre>CountVectorizer(binary=True, max_features=20000)</pre><b>In a Jupyter environment, please rerun this cell to show the HTML representation or trust the notebook. <br />On GitHub, the HTML representation is unable to render, please try loading this page with nbviewer.org.</b></div><div class=\"sk-container\" hidden><div class=\"sk-item\"><div class=\"sk-estimator sk-toggleable\"><input class=\"sk-toggleable__control sk-hidden--visually\" id=\"sk-estimator-id-1\" type=\"checkbox\" checked><label for=\"sk-estimator-id-1\" class=\"sk-toggleable__label sk-toggleable__label-arrow\">CountVectorizer</label><div class=\"sk-toggleable__content\"><pre>CountVectorizer(binary=True, max_features=20000)</pre></div></div></div></div></div>"
            ],
            "text/plain": [
              "CountVectorizer(binary=True, max_features=20000)"
            ]
          },
          "execution_count": 5,
          "metadata": {},
          "output_type": "execute_result"
        }
      ],
      "source": [
        "import sklearn.feature_extraction\n",
        "\n",
        "# max_features means the size of the vocabulary\n",
        "# which means max_features most-common words\n",
        "vectorizer=sklearn.feature_extraction.text.CountVectorizer(binary=True,max_features=20000)\n",
        "\n",
        "texts=[ex[\"text\"] for ex in dset[\"train\"]] #get a list of all texts from the training data\n",
        "vectorizer.fit(texts) #\"Trains\" the vectorizer, i.e. builds its vocabulary\n"
      ]
    },
    {
      "cell_type": "markdown",
      "metadata": {
        "id": "UDNy3w8reO6C"
      },
      "source": [
        "# Building the feature vectors\n",
        "\n",
        "* This is super-easy with the vectorizer\n",
        "* It produces a sparse matrix of the non-zero elements"
      ]
    },
    {
      "cell_type": "code",
      "execution_count": 6,
      "metadata": {
        "id": "5H9AQOc2rGIO"
      },
      "outputs": [],
      "source": [
        "def vectorize_example(ex):\n",
        "    vectorized=vectorizer.transform([ex[\"text\"]]) # [...] because the vectorizer expects a list/iterable over inputs, not one input\n",
        "    non_zero_features=vectorized.nonzero()[1] #.nonzero gives a pair of (rows,columns), we want the columns\n",
        "    non_zero_features+=1 #feature index 0 will have a special meaning\n",
        "                         # so let us not produce it by adding +1 to everything\n",
        "    return {\"input_ids\":non_zero_features}\n",
        "\n",
        "vectorized=vectorize_example(dset[\"train\"][0])"
      ]
    },
    {
      "cell_type": "code",
      "execution_count": 7,
      "metadata": {
        "colab": {
          "base_uri": "https://localhost:8080/"
        },
        "id": "ECqsgmwTXaOC",
        "outputId": "e143c995-d850-44d8-f869-1cca6b2b7a9d"
      },
      "outputs": [
        {
          "name": "stdout",
          "output_type": "stream",
          "text": [
            "{'input_ids': array([  309,   663,   727,   774,   793,   887,  1115,  1207,  1980,\n",
            "        2248,  2390,  2604,  2625,  3053,  3696,  4208,  4293,  4951,\n",
            "        5265,  5590,  5617,  5697,  5835,  6044,  6118,  6141,  6357,\n",
            "        6367,  6370,  6543,  6663,  6815,  6878,  6887,  7120,  7127,\n",
            "        7346,  7593,  7801,  8103,  8241,  8325,  8350,  8599,  8649,\n",
            "        9085,  9391,  9428,  9602,  9630,  9890, 10090, 10475, 10638,\n",
            "       10681, 10703, 10829, 10886, 10970, 11176, 11190, 11376, 11723,\n",
            "       11765, 11778, 11942, 12005, 12202, 12214, 12269, 12363, 12439,\n",
            "       12445, 12504, 12564, 12565, 12574, 12627, 12905, 13059, 13238,\n",
            "       13325, 13333, 13512, 13713, 13778, 13805, 13879, 13982, 14231,\n",
            "       14340, 14641, 14825, 15085, 15297, 15370, 15429, 15567, 15603,\n",
            "       15682, 15696, 15791, 15830, 16354, 16542, 16554, 16592, 17039,\n",
            "       17075, 17404, 17532, 17648, 17727, 17752, 17893, 17897, 17910,\n",
            "       17929, 17944, 17968, 18115, 18122, 18166, 18175, 18221, 18285,\n",
            "       18445, 18922, 19013, 19112, 19359, 19509, 19521, 19551, 19559,\n",
            "       19562, 19590, 19639, 19745, 19902, 19927, 19928])}\n"
          ]
        }
      ],
      "source": [
        "print(vectorized)"
      ]
    },
    {
      "cell_type": "code",
      "execution_count": 8,
      "metadata": {
        "colab": {
          "base_uri": "https://localhost:8080/"
        },
        "id": "yvgd3IrWfCai",
        "outputId": "b80449c1-9a60-4be1-c26e-7c9e2f7db5a4"
      },
      "outputs": [
        {
          "name": "stdout",
          "output_type": "stream",
          "text": [
            "('about, airplane, all, also, always, and, are, as, bit, both, brien, but, by, '\n",
            " 'character, competent, crafted, crews, designed, dismiss, driven, drum, '\n",
            " 'during, effective, end, enough, entertaining, example, excellent, except, '\n",
            " 'extras, far, fetched, film, films, footage, for, from, genre, good, guy, '\n",
            " 'hard, having, he, history, hollywood, in, integrated, interesting, is, it, '\n",
            " 'just, know, like, look, lot, lovers, made, make, many, me, meant, might, '\n",
            " 'mostly, movies, much, nation, negative, not, notice, nuts, of, one, only, '\n",
            " 'or, other, others, our, over, pat, perhaps, pilots, played, plays, positive, '\n",
            " 'pretty, probably, production, propaganda, public, randolph, realistic, '\n",
            " 'reminiscent, rest, robert, ryan, same, satisfying, scott, script, see, seen, '\n",
            " 'serious, several, sloppily, some, somewhat, sort, stock, story, support, '\n",
            " 'swell, talking, teachers, technically, that, the, them, there, they, this, '\n",
            " 'to, today, too, top, tough, training, troops, up, values, very, war, well, '\n",
            " 'were, where, which, while, who, will, won, years, you, young')\n"
          ]
        }
      ],
      "source": [
        "# We can map back to vocabulary and check that everything works\n",
        "# vectorizer.vocabulary_ is a dictionary {key:word, value:idx}\n",
        "\n",
        "idx2word=dict((i,w) for (w,i) in vectorizer.vocabulary_.items()) #inverse the vocab dictionary\n",
        "words=[]\n",
        "for idx in vectorized[\"input_ids\"]:\n",
        "    words.append(idx2word[idx-1]) ## It is easy to forgot we moved all by +1\n",
        "pprint(\", \".join(words)) #This is now the bag of words representation of the document"
      ]
    },
    {
      "cell_type": "markdown",
      "metadata": {
        "id": "i33KIMgkiIn7"
      },
      "source": [
        "# Tokenizing / vectorizing the whole dataset\n",
        "\n",
        "* The datasets library allows us to efficiently map() a function across the whole dataset\n",
        "* Can run in parallel\n",
        "\n",
        "**Note**: confusingly, and unlike the Python`map` function, [`Dataset.map`](https://huggingface.co/docs/datasets/package_reference/main_classes.html#datasets.Dataset.map) function _updates_ its argument dataset, keeping existing values. Here, the call adds the values returned by the function call (here `input_ids`) to each example while also keeping the original `text` and `label` values.\n"
      ]
    },
    {
      "cell_type": "code",
      "execution_count": 9,
      "metadata": {
        "colab": {
          "base_uri": "https://localhost:8080/",
          "height": 1000,
          "referenced_widgets": [
            "0e858b1ccaef4fd18be0b4079e4c8646",
            "1094731701564aee869d72736d8f9a88",
            "cdc28da3728a49f8915dabf766dc26a8",
            "ccf998160452482fa9d67af801e9d169",
            "c75541bed1794a6bb05890ca783e0bb1",
            "124e307a758c406684bfc6da8997a7d3",
            "2fb1b9bb43d84dd3aacd4589fc2aada4",
            "bb1b8547de064474a0c18bf66cce7889",
            "c3a1eebd59d44f9db9e351eeabc79a9a",
            "d6b3ac69a446496eafc88a80347a5393",
            "9a4b67c0fb774ac7b147098e1efd7260",
            "22941c5f34504afd834c27bc7b14467d",
            "cb72facec89145b5bc20444949ac3200",
            "957fa9d3dc3344faa6b28534b3051e19",
            "e758295d086a495e99fca994d7509ad3",
            "8b1014a383764fe6b5e5c0c341b5e8f5",
            "f622826c23b647c78671cf589f8b389e",
            "b01b1e69045c47f5a743821f14d9d970",
            "15dd150da71c4818ade5f27be603a147",
            "b9b95ed802084d41b4975bf5169ea9ae",
            "7129ce8bc63745ad9605fc60bf086c3a",
            "c2d63cd124644f59a7dabfc69f790948"
          ]
        },
        "id": "33xMYRd0q2B9",
        "outputId": "46afec68-135d-4bef-8373-3e523411e28c"
      },
      "outputs": [
        {
          "name": "stderr",
          "output_type": "stream",
          "text": [
            "Map: 100%|██████████| 25000/25000 [00:11<00:00, 2228.05 examples/s]\n",
            "Map: 100%|██████████| 25000/25000 [00:10<00:00, 2306.90 examples/s]"
          ]
        },
        {
          "name": "stdout",
          "output_type": "stream",
          "text": [
            "{'input_ids': [309,\n",
            "               663,\n",
            "               727,\n",
            "               774,\n",
            "               793,\n",
            "               887,\n",
            "               1115,\n",
            "               1207,\n",
            "               1980,\n",
            "               2248,\n",
            "               2390,\n",
            "               2604,\n",
            "               2625,\n",
            "               3053,\n",
            "               3696,\n",
            "               4208,\n",
            "               4293,\n",
            "               4951,\n",
            "               5265,\n",
            "               5590,\n",
            "               5617,\n",
            "               5697,\n",
            "               5835,\n",
            "               6044,\n",
            "               6118,\n",
            "               6141,\n",
            "               6357,\n",
            "               6367,\n",
            "               6370,\n",
            "               6543,\n",
            "               6663,\n",
            "               6815,\n",
            "               6878,\n",
            "               6887,\n",
            "               7120,\n",
            "               7127,\n",
            "               7346,\n",
            "               7593,\n",
            "               7801,\n",
            "               8103,\n",
            "               8241,\n",
            "               8325,\n",
            "               8350,\n",
            "               8599,\n",
            "               8649,\n",
            "               9085,\n",
            "               9391,\n",
            "               9428,\n",
            "               9602,\n",
            "               9630,\n",
            "               9890,\n",
            "               10090,\n",
            "               10475,\n",
            "               10638,\n",
            "               10681,\n",
            "               10703,\n",
            "               10829,\n",
            "               10886,\n",
            "               10970,\n",
            "               11176,\n",
            "               11190,\n",
            "               11376,\n",
            "               11723,\n",
            "               11765,\n",
            "               11778,\n",
            "               11942,\n",
            "               12005,\n",
            "               12202,\n",
            "               12214,\n",
            "               12269,\n",
            "               12363,\n",
            "               12439,\n",
            "               12445,\n",
            "               12504,\n",
            "               12564,\n",
            "               12565,\n",
            "               12574,\n",
            "               12627,\n",
            "               12905,\n",
            "               13059,\n",
            "               13238,\n",
            "               13325,\n",
            "               13333,\n",
            "               13512,\n",
            "               13713,\n",
            "               13778,\n",
            "               13805,\n",
            "               13879,\n",
            "               13982,\n",
            "               14231,\n",
            "               14340,\n",
            "               14641,\n",
            "               14825,\n",
            "               15085,\n",
            "               15297,\n",
            "               15370,\n",
            "               15429,\n",
            "               15567,\n",
            "               15603,\n",
            "               15682,\n",
            "               15696,\n",
            "               15791,\n",
            "               15830,\n",
            "               16354,\n",
            "               16542,\n",
            "               16554,\n",
            "               16592,\n",
            "               17039,\n",
            "               17075,\n",
            "               17404,\n",
            "               17532,\n",
            "               17648,\n",
            "               17727,\n",
            "               17752,\n",
            "               17893,\n",
            "               17897,\n",
            "               17910,\n",
            "               17929,\n",
            "               17944,\n",
            "               17968,\n",
            "               18115,\n",
            "               18122,\n",
            "               18166,\n",
            "               18175,\n",
            "               18221,\n",
            "               18285,\n",
            "               18445,\n",
            "               18922,\n",
            "               19013,\n",
            "               19112,\n",
            "               19359,\n",
            "               19509,\n",
            "               19521,\n",
            "               19551,\n",
            "               19559,\n",
            "               19562,\n",
            "               19590,\n",
            "               19639,\n",
            "               19745,\n",
            "               19902,\n",
            "               19927,\n",
            "               19928],\n",
            " 'label': 1,\n",
            " 'text': 'There were a lot of films made by Hollywood during the war years '\n",
            "         'that were designed to drum up support for our troops from the '\n",
            "         'public. Seen today, some might dismiss them or just see them as '\n",
            "         'propaganda--which they technically are, but of a positive sort and '\n",
            "         'meant to unify the nation. This film is a pretty effective and '\n",
            "         'entertaining example of the genre--having a pretty realistic script '\n",
            "         \"and good production values. Pat O'Brien plays pretty much the same \"\n",
            "         'character he played in MANY other films (you know, the '\n",
            "         'tough-talking, hard-driven but \"swell guy\"). Randolph Scott is, as '\n",
            "         'always, competent and entertaining and the rest of the extras are '\n",
            "         'excellent (look for a young Robert Ryan as one of the bombardiers in '\n",
            "         'training). While the story is reminiscent of several other movies '\n",
            "         'about our pilots and crews, the film is well-crafted enough to make '\n",
            "         'it interesting and not too far-fetched. That it, perhaps, except for '\n",
            "         'the very end--where the film is a bit over-the-top but also VERY '\n",
            "         'satisfying. About the only serious negative, and this is mostly for '\n",
            "         'nitpickers, is that some of the stock footage is somewhat sloppily '\n",
            "         'integrated in the film and \"nuts\" like me who are both history '\n",
            "         'teachers and airplane lovers will probably notice this--all others '\n",
            "         \"probably won't notice.\"}\n"
          ]
        },
        {
          "name": "stderr",
          "output_type": "stream",
          "text": [
            "\n"
          ]
        }
      ],
      "source": [
        "# Apply the tokenizer to the whole dataset using .map()\n",
        "dset_tokenized = dset.map(vectorize_example)\n",
        "pprint(dset_tokenized[\"train\"][0])"
      ]
    },
    {
      "cell_type": "markdown",
      "metadata": {
        "id": "XTtyHQpIIJWw"
      },
      "source": [
        "## Input encoding for MLP\n",
        "\n",
        "* Our `input_ids` are an array containing the indices of the tokens found in the text\n",
        "* This corresponds to the indices into the row of the embedding matrix in the model\n",
        "* That seems to be exactly what we need!\n"
      ]
    },
    {
      "cell_type": "markdown",
      "metadata": {
        "id": "JvaP1DpHjI3f"
      },
      "source": [
        "# Batching and padding\n",
        "\n",
        "* When working with neural networks, one rarely trains one example at a time\n",
        "* Instead, processing always happens a batch at a time\n",
        "* This has two important reasons:\n",
        "  1. No batching is too slow (GPU parallelization cannot kick in across examples)\n",
        "  2. The gradients are averaged across the whole batch and applied only once, i.e. batching acts as a regularizer and improves the stability of the training\n"
      ]
    },
    {
      "cell_type": "markdown",
      "metadata": {
        "id": "hNYxw92nj51B"
      },
      "source": [
        "# Padding and Collation (forming a batch)\n",
        "\n",
        "## Padding:\n",
        "\n",
        "* In order to build a batch as a 2D array of (example, seq), we need to fit together examples of different length\n",
        "* Solution: pad the shorter examples with zeroes to the length of the longest example in the batch\n",
        "* Make sure that zero is understood as padding value rather than a (hypothetical) feature with index 0\n",
        "* This is best shown by example, it is in the end easier than it may sound\n",
        "\n",
        "## Collation:\n",
        "\n",
        "* Much like examples are dictionaries with the data, also batches are dictionaries with the data\n",
        "* The only difference is that in a batch, all data tensors have one extra dimension, that's all there is to it\n",
        "\n",
        "## Collator function:\n",
        "\n",
        "* Padding and collation is taken care of by a single function in the HF libraries\n",
        "* It receives a list of examples, and returns a ready batch\n",
        "* The surrounding library code takes care of forming these lists\n",
        "* Let's try to implement one below"
      ]
    },
    {
      "cell_type": "code",
      "execution_count": 10,
      "metadata": {
        "colab": {
          "base_uri": "https://localhost:8080/"
        },
        "id": "zXXDxNo6kwfA",
        "outputId": "f09fa880-47c2-42d9-b137-f21aa2a78f4b"
      },
      "outputs": [
        {
          "name": "stdout",
          "output_type": "stream",
          "text": [
            "Shape of labels: torch.Size([2])\n",
            "Shape of input_ids: torch.Size([2, 153])\n",
            "tensor([0, 1])\n",
            "tensor([[  309,   417,   535,   663,   727,   774,   860,   887,   963,  1115,\n",
            "          1207,  1228,  1337,  1377,  1495,  1517,  1702,  1756,  1764,  2237,\n",
            "          2295,  2711,  3086,  3328,  3511,  3599,  3612,  3636,  4169,  4368,\n",
            "          5089,  5372,  5429,  5434,  5490,  5552,  5798,  6044,  6288,  6308,\n",
            "          6357,  6825,  6878,  6939,  7018,  7127,  7165,  7222,  7346,  7406,\n",
            "          7472,  7697,  7777,  7932,  8117,  8128,  8290,  8322,  8484,  8783,\n",
            "          8823,  8929,  9085,  9602,  9630,  9789,  9798,  9890, 10008, 10014,\n",
            "         10263, 10350, 10398, 10475, 10508, 10513, 10558, 10576, 10638, 10829,\n",
            "         10883, 10970, 11386, 11681, 11721, 11731, 11762, 11949, 12055, 12134,\n",
            "         12202, 12239, 12363, 12437, 12445, 12539, 12618, 12712, 13209, 13285,\n",
            "         13325, 13781, 14079, 14235, 14310, 14349, 14596, 14993, 15007, 15291,\n",
            "         15502, 15603, 15776, 15778, 15835, 16020, 16033, 16278, 16478, 16891,\n",
            "         16952, 17009, 17085, 17697, 17885, 17893, 17897, 17907, 17910, 17929,\n",
            "         17944, 17968, 18016, 18074, 18083, 18115, 18234, 18412, 18991, 19156,\n",
            "         19333, 19354, 19414, 19509, 19590, 19639, 19658, 19707, 19785, 19797,\n",
            "         19842, 19927, 19933],\n",
            "        [   10,   239,   727,   860,   887,   959,  1517,  2604,  2924,  3032,\n",
            "          3603,  4757,  6100,  6118,  6310,  6450,  6887,  7016,  7127,  7346,\n",
            "          7578,  7593,  7692,  7757,  7801,  8047,  8103,  8156,  8322,  8350,\n",
            "          8740,  8768,  8929,  9085,  9630,  9890, 10014, 10475, 10558, 10970,\n",
            "         11135, 11176, 11865, 12077, 12180, 12202, 12363, 12364, 12437, 12439,\n",
            "         12577, 13093, 14417, 15682, 15777, 16040, 17893, 17897, 17917, 17954,\n",
            "         17968, 17980, 18074, 18115, 18526, 18922, 19398, 19414, 19440, 19509,\n",
            "         19540, 19549, 19807, 19927, 19933,     0,     0,     0,     0,     0,\n",
            "             0,     0,     0,     0,     0,     0,     0,     0,     0,     0,\n",
            "             0,     0,     0,     0,     0,     0,     0,     0,     0,     0,\n",
            "             0,     0,     0,     0,     0,     0,     0,     0,     0,     0,\n",
            "             0,     0,     0,     0,     0,     0,     0,     0,     0,     0,\n",
            "             0,     0,     0,     0,     0,     0,     0,     0,     0,     0,\n",
            "             0,     0,     0,     0,     0,     0,     0,     0,     0,     0,\n",
            "             0,     0,     0,     0,     0,     0,     0,     0,     0,     0,\n",
            "             0,     0,     0]])\n"
          ]
        }
      ],
      "source": [
        "# 1) I need to define it here, will explain below\n",
        "# 2) I show here a very straightforward implementation of padding and collation\n",
        "# 3) Normally, one would use transformers.DataCollatorWithPadding but that assumes\n",
        "#    a particular tokenizer, to which it outsources much of the work, and we do not\n",
        "#    have it\n",
        "def collator(list_of_examples):\n",
        "    #this is easy, labels are made into a single tensor\n",
        "    batch={\"labels\":torch.tensor(list(ex[\"label\"] for ex in list_of_examples))}\n",
        "    #the worse bit is now to pad the examples, as they are of different length\n",
        "    tensors=[]\n",
        "    max_len=max(len(example[\"input_ids\"]) for example in list_of_examples) #this is the longest example in the batch\n",
        "    #everything needs to be padded to fit in length the longest example\n",
        "    #(so we can build a single tensor out of it)\n",
        "    for example in list_of_examples:\n",
        "        ids=torch.tensor(example[\"input_ids\"]) #pick the input ids\n",
        "        # pad(what,(from_left, from_right)) <- this is how we call the stock pad function\n",
        "        padded=torch.nn.functional.pad(ids,(0,max_len-ids.shape[0])) #pad by max - current length, pads with zero by default\n",
        "        tensors.append(padded) #accumulated the padded ids\n",
        "    batch[\"input_ids\"]=torch.vstack(tensors) #now that we have all of them the same length, a simple vstack() stacks them up\n",
        "    return batch #...and that's all there is to it\n",
        "\n",
        "\n",
        "\n",
        "#Build a batch from 2 examples, with padding\n",
        "batch=collator([dset_tokenized[\"train\"][2],dset_tokenized[\"train\"][7]])\n",
        "print(\"Shape of labels:\",batch[\"labels\"].shape)\n",
        "print(\"Shape of input_ids:\",batch[\"input_ids\"].shape)\n",
        "pprint(batch[\"labels\"])\n",
        "pprint(batch[\"input_ids\"])"
      ]
    },
    {
      "cell_type": "markdown",
      "metadata": {
        "id": "AOYYF5I1OWG9"
      },
      "source": [
        "# Build the MLP model\n",
        "\n",
        "* Now that all of our data is in shape, we can build the model\n",
        "* That is luckily quite easy in this case\n",
        "\n",
        "The model class in its simplest form has `__init__()` which instantiates the layers and `forward()` which implements the actual computation. For more information on these, please see the [PyTorch turorial](https://pytorch.org/tutorials/beginner/introyt/modelsyt_tutorial.html)."
      ]
    },
    {
      "cell_type": "code",
      "execution_count": 11,
      "metadata": {
        "id": "vP4FtrMwCpGi"
      },
      "outputs": [],
      "source": [
        "import torch\n",
        "import transformers\n",
        "\n",
        "# A model wants a config, I can simply inherit from the base\n",
        "# class for pretrained configs\n",
        "class MLPConfig(transformers.PretrainedConfig):\n",
        "    pass\n",
        "\n",
        "# This is the model\n",
        "class MLP(transformers.PreTrainedModel):\n",
        "\n",
        "    config_class=MLPConfig\n",
        "\n",
        "    # In the initialization method, one instantiates the layers\n",
        "    # these will be, for the most part the trained parameters of the model\n",
        "    def __init__(self,config):\n",
        "        super().__init__(config)\n",
        "        self.vocab_size=config.vocab_size #embedding matrix row count\n",
        "        # Build and initialize embedding of vocab size +1 x hidden size (+1 because of the padding index 0!)\n",
        "        self.embedding=torch.nn.Embedding(num_embeddings=self.vocab_size+1,embedding_dim=config.hidden_size,padding_idx=0)\n",
        "        # Normally you would not initialize these yourself, but I have my reasons here ;)\n",
        "        torch.nn.init.uniform_(self.embedding.weight.data,-0.001,0.001) #initialize the embeddings with small random values\n",
        "        # Note! This function is relatively clever and keeps the embedding for 0, the padding, pure zeros\n",
        "        # This takes care of the lower half of the network, now the upper half\n",
        "        # Output layer: hidden size x output size\n",
        "        self.output=torch.nn.Linear(in_features=config.hidden_size,out_features=config.nlabels)\n",
        "        # Now we have the parameters of the model\n",
        "\n",
        "\n",
        "    # The computation of the model is put into the forward() function\n",
        "    # it receives a batch of data and optionally the correct `labels`\n",
        "    #\n",
        "    # If given `labels` it returns (loss,output)\n",
        "    # if not, then it returns (output,)\n",
        "    def forward(self,input_ids,labels=None):\n",
        "        #1) sum up the embeddings of the items\n",
        "        embedded=self.embedding(input_ids) #(batch,ids)->(batch,ids,embedding_dim)\n",
        "        # Since the Embedding keeps the first row of the matrix pure zeros, we don't need to worry about the padding\n",
        "        # so next we sum the embeddings across the word dimension\n",
        "        # (batch,ids,embedding_dim) -> (batch,embedding_dim)\n",
        "        embedded_summed=torch.sum(embedded,dim=1)\n",
        "\n",
        "        #2) apply non-linearity\n",
        "        # (batch,embedding_dim) -> (batch,embedding_dim)\n",
        "        projected=torch.tanh(embedded_summed) #Note how non-linearity is applied here and not when configuring the layer in __init__()\n",
        "\n",
        "        #3) and now apply the upper, output layer of the network\n",
        "        # (batch,embedding_dim) -> (batch, num_of_classes i.e. 2 in our case)\n",
        "        logits=self.output(projected)\n",
        "\n",
        "        # ...and that's all there is to it!\n",
        "\n",
        "        #print(\"input_ids.shape\",input_ids.shape)\n",
        "        #print(\"embedded.shape\",embedded.shape)\n",
        "        #print(\"embedded_summed.shape\",embedded_summed.shape)\n",
        "        #print(\"projected.shape\",projected.shape)\n",
        "        #print(\"logits.shape\",logits.shape)\n",
        "\n",
        "        # If we have labels, we ought to calculate the loss\n",
        "        if labels is not None:\n",
        "            loss=torch.nn.CrossEntropyLoss() #This loss is meant for classification, so let's use it\n",
        "            # You run it as loss(model_output,correct_labels)\n",
        "            return (loss(logits,labels),logits)\n",
        "        else:\n",
        "            # No labels, so just return the logits\n",
        "            return (logits,)\n",
        "\n"
      ]
    },
    {
      "cell_type": "code",
      "execution_count": 12,
      "metadata": {
        "colab": {
          "base_uri": "https://localhost:8080/"
        },
        "id": "JQjSGUYGwrzh",
        "outputId": "dee23720-0d1b-4037-fca2-8906e3ae7740"
      },
      "outputs": [
        {
          "data": {
            "text/plain": [
              "(tensor(0.6963, grad_fn=<NllLossBackward0>),\n",
              " tensor([[-0.6534, -0.7853],\n",
              "         [-0.6594, -0.7869]], grad_fn=<AddmmBackward0>))"
            ]
          },
          "execution_count": 12,
          "metadata": {},
          "output_type": "execute_result"
        }
      ],
      "source": [
        "# Configure the model:\n",
        "#   these parameters are used in the model's __init__()\n",
        "mlp_config=MLPConfig(vocab_size=len(vectorizer.vocabulary_),hidden_size=1,nlabels=2)\n",
        "\n",
        "# And now we can instantiate it\n",
        "mlp=MLP(mlp_config)\n",
        "\n",
        "#we can make a little test with a fake batch formed by the two first example\n",
        "fake_batch=collator([dset_tokenized[\"train\"][0],dset_tokenized[\"train\"][1]])\n",
        "mlp(**fake_batch) #** expands input_ids and labels as parameters of the call"
      ]
    },
    {
      "cell_type": "markdown",
      "metadata": {
        "id": "tdlcMObzQGGP"
      },
      "source": [
        "# Train the model\n",
        "\n",
        "We will use the Hugging Face [Trainer](https://huggingface.co/docs/transformers/main_classes/trainer) class for training\n",
        "\n",
        "* Loads of arguments that control the training\n",
        "* Configurable metrics to evaluate performance\n",
        "* Data collator builds the batches\n",
        "* Early stopping callback stops when eval loss no longer improves\n",
        "* Model load/save\n",
        "* Excellent foundation for later deep learning course\n",
        "  "
      ]
    },
    {
      "cell_type": "markdown",
      "metadata": {
        "id": "aZgcNi4B76SX"
      },
      "source": [
        "First, let's create a [`TrainingArguments`](https://huggingface.co/docs/transformers/v4.17.0/en/main_classes/trainer#transformers.TrainingArguments) object to specify hyperparameters and various other settings for training.\n",
        "\n",
        "Printing this simple dataclass object will show not only the values we set, but also the defaults for all other arguments. Don't worry if you don't understand what all of these do! Many are not relevant to us here, and you can find the details in [`Trainer` documentation](https://huggingface.co/docs/transformers/main_classes/trainer) if you are interested."
      ]
    },
    {
      "cell_type": "markdown",
      "metadata": {
        "id": "4sJwNXPU-dQX"
      },
      "source": [
        "Next, let's create a metric for evaluating performance during and after training. We can use the convenience function [`load_metric`](https://huggingface.co/docs/datasets/about_metrics) to load one of many pre-made metrics and wrap this for use by the trainer.\n",
        "\n",
        "As the task is simple binary classification and our data is even 50:50 balanced, we can comfortably use the basic `accuracy` metric, defined as the proportion of correctly predicted labels out of all labels."
      ]
    },
    {
      "cell_type": "code",
      "execution_count": 13,
      "metadata": {
        "colab": {
          "base_uri": "https://localhost:8080/",
          "height": 49,
          "referenced_widgets": [
            "c29e659569f141229de8e4a25ccc00f3",
            "01d2e73d04914715b58c7b2227e5defe",
            "6b8ec5013a5b4fbabfe2a9a63777a3e5",
            "1445fa6563764220a29cbd7d30045d2c",
            "bcf5048367eb46bd97f800049a0a164c",
            "3bb2265a872a40cb9704dee3cf5e8858",
            "189c4e0f87a64e81a62f92ef431d133b",
            "9b8c5af3524146e2ad367d7b2ba65486",
            "ba26f013e85341eca873279c5dafbdf3",
            "2acbffae3c3f44428c8cdc494004cd5e",
            "ccf5918a328f44da9a5d061b46cb89ef"
          ]
        },
        "id": "u3jxIItb0BL9",
        "outputId": "194d58a9-2a06-40dc-f864-d2ee21fa8761"
      },
      "outputs": [],
      "source": [
        "import numpy as np\n",
        "import evaluate\n",
        "\n",
        "accuracy = evaluate.load(\"accuracy\")\n",
        "\n",
        "def compute_accuracy(outputs_and_labels):\n",
        "    outputs, labels = outputs_and_labels\n",
        "    predictions = np.argmax(outputs, axis=-1) #pick the index of the \"winning\" label\n",
        "    return accuracy.compute(predictions=predictions, references=labels)"
      ]
    },
    {
      "cell_type": "markdown",
      "metadata": {
        "id": "S7kbz8uU-zpQ"
      },
      "source": [
        "We can then create the `Trainer` and train the model by invoking the [`Trainer.train`](https://huggingface.co/docs/transformers/main_classes/trainer#transformers.Trainer.train) function.\n",
        "\n",
        "In addition to the model, the settings passed in through the `TrainingArguments` object created above (`trainer_args`), the data, and the metric defined above, we create and pass the following to the `Trainer`:\n",
        "\n",
        "* [data collator](https://huggingface.co/docs/transformers/main_classes/data_collator): groups input into batches\n",
        "* [`EarlyStoppingCallback`](https://huggingface.co/docs/transformers/main_classes/callback#transformers.EarlyStoppingCallback): stops training when performance stops improving"
      ]
    },
    {
      "cell_type": "code",
      "execution_count": 14,
      "metadata": {
        "colab": {
          "base_uri": "https://localhost:8080/",
          "height": 1000
        },
        "id": "AoEoWsj4P_zN",
        "outputId": "cad78b34-185a-4911-cf21-2c207f86f922"
      },
      "outputs": [
        {
          "name": "stderr",
          "output_type": "stream",
          "text": [
            "c:\\Python310\\lib\\site-packages\\accelerate\\accelerator.py:432: FutureWarning: Passing the following arguments to `Accelerator` is deprecated and will be removed in version 1.0 of Accelerate: dict_keys(['dispatch_batches', 'split_batches', 'even_batches', 'use_seedable_sampler']). Please pass an `accelerate.DataLoaderConfiguration` instead: \n",
            "dataloader_config = DataLoaderConfiguration(dispatch_batches=None, split_batches=False, even_batches=True, use_seedable_sampler=True)\n",
            "  warnings.warn(\n",
            "  2%|▎         | 500/20000 [00:02<01:17, 250.38it/s]"
          ]
        },
        {
          "name": "stdout",
          "output_type": "stream",
          "text": [
            "{'loss': 0.6583, 'grad_norm': 1.975420355796814, 'learning_rate': 9.75e-05, 'epoch': 0.2}\n"
          ]
        },
        {
          "name": "stderr",
          "output_type": "stream",
          "text": [
            "                                                    \n",
            "  3%|▎         | 533/20000 [00:02<02:08, 151.06it/s]"
          ]
        },
        {
          "name": "stdout",
          "output_type": "stream",
          "text": [
            "{'eval_loss': 0.626163125038147, 'eval_accuracy': 0.755, 'eval_runtime': 0.2775, 'eval_samples_per_second': 3603.846, 'eval_steps_per_second': 450.481, 'epoch': 0.2}\n"
          ]
        },
        {
          "name": "stderr",
          "output_type": "stream",
          "text": [
            "  5%|▌         | 1000/20000 [00:04<01:17, 245.51it/s]"
          ]
        },
        {
          "name": "stdout",
          "output_type": "stream",
          "text": [
            "{'loss': 0.5922, 'grad_norm': 2.7488622665405273, 'learning_rate': 9.5e-05, 'epoch': 0.4}\n"
          ]
        },
        {
          "name": "stderr",
          "output_type": "stream",
          "text": [
            "                                                     \n",
            "  5%|▌         | 1042/20000 [00:04<02:00, 157.07it/s]"
          ]
        },
        {
          "name": "stdout",
          "output_type": "stream",
          "text": [
            "{'eval_loss': 0.5700194239616394, 'eval_accuracy': 0.836, 'eval_runtime': 0.2568, 'eval_samples_per_second': 3894.093, 'eval_steps_per_second': 486.762, 'epoch': 0.4}\n"
          ]
        },
        {
          "name": "stderr",
          "output_type": "stream",
          "text": [
            "  8%|▊         | 1500/20000 [00:06<01:23, 222.70it/s]"
          ]
        },
        {
          "name": "stdout",
          "output_type": "stream",
          "text": [
            "{'loss': 0.5401, 'grad_norm': 2.3465497493743896, 'learning_rate': 9.250000000000001e-05, 'epoch': 0.6}\n"
          ]
        },
        {
          "name": "stderr",
          "output_type": "stream",
          "text": [
            "                                                     \n",
            "  8%|▊         | 1539/20000 [00:07<02:13, 138.35it/s]"
          ]
        },
        {
          "name": "stdout",
          "output_type": "stream",
          "text": [
            "{'eval_loss': 0.5279545783996582, 'eval_accuracy': 0.85, 'eval_runtime': 0.2798, 'eval_samples_per_second': 3574.205, 'eval_steps_per_second': 446.776, 'epoch': 0.6}\n"
          ]
        },
        {
          "name": "stderr",
          "output_type": "stream",
          "text": [
            " 10%|█         | 2000/20000 [00:09<01:16, 236.56it/s]"
          ]
        },
        {
          "name": "stdout",
          "output_type": "stream",
          "text": [
            "{'loss': 0.5017, 'grad_norm': 2.4568042755126953, 'learning_rate': 9e-05, 'epoch': 0.8}\n"
          ]
        },
        {
          "name": "stderr",
          "output_type": "stream",
          "text": [
            "                                                     \n",
            " 10%|█         | 2039/20000 [00:09<01:54, 156.93it/s]"
          ]
        },
        {
          "name": "stdout",
          "output_type": "stream",
          "text": [
            "{'eval_loss': 0.49599993228912354, 'eval_accuracy': 0.858, 'eval_runtime': 0.2708, 'eval_samples_per_second': 3692.907, 'eval_steps_per_second': 461.613, 'epoch': 0.8}\n"
          ]
        },
        {
          "name": "stderr",
          "output_type": "stream",
          "text": [
            " 12%|█▎        | 2500/20000 [00:11<01:11, 244.30it/s]"
          ]
        },
        {
          "name": "stdout",
          "output_type": "stream",
          "text": [
            "{'loss': 0.4679, 'grad_norm': 2.159085512161255, 'learning_rate': 8.75e-05, 'epoch': 1.0}\n"
          ]
        },
        {
          "name": "stderr",
          "output_type": "stream",
          "text": [
            "                                                     \n",
            " 13%|█▎        | 2532/20000 [00:12<02:00, 144.78it/s]"
          ]
        },
        {
          "name": "stdout",
          "output_type": "stream",
          "text": [
            "{'eval_loss': 0.4717452824115753, 'eval_accuracy': 0.858, 'eval_runtime': 0.2938, 'eval_samples_per_second': 3404.006, 'eval_steps_per_second': 425.501, 'epoch': 1.0}\n"
          ]
        },
        {
          "name": "stderr",
          "output_type": "stream",
          "text": [
            " 15%|█▌        | 3000/20000 [00:13<01:11, 238.84it/s]"
          ]
        },
        {
          "name": "stdout",
          "output_type": "stream",
          "text": [
            "{'loss': 0.4336, 'grad_norm': 1.9245243072509766, 'learning_rate': 8.5e-05, 'epoch': 1.2}\n"
          ]
        },
        {
          "name": "stderr",
          "output_type": "stream",
          "text": [
            "                                                     \n",
            " 15%|█▌        | 3042/20000 [00:14<01:57, 143.80it/s]"
          ]
        },
        {
          "name": "stdout",
          "output_type": "stream",
          "text": [
            "{'eval_loss': 0.44959747791290283, 'eval_accuracy': 0.862, 'eval_runtime': 0.3237, 'eval_samples_per_second': 3088.812, 'eval_steps_per_second': 386.102, 'epoch': 1.2}\n"
          ]
        },
        {
          "name": "stderr",
          "output_type": "stream",
          "text": [
            " 18%|█▊        | 3500/20000 [00:16<01:07, 245.86it/s]"
          ]
        },
        {
          "name": "stdout",
          "output_type": "stream",
          "text": [
            "{'loss': 0.4074, 'grad_norm': 2.0657458305358887, 'learning_rate': 8.25e-05, 'epoch': 1.4}\n"
          ]
        },
        {
          "name": "stderr",
          "output_type": "stream",
          "text": [
            "                                                     \n",
            " 18%|█▊        | 3534/20000 [00:16<01:48, 151.43it/s]"
          ]
        },
        {
          "name": "stdout",
          "output_type": "stream",
          "text": [
            "{'eval_loss': 0.43159961700439453, 'eval_accuracy': 0.865, 'eval_runtime': 0.2712, 'eval_samples_per_second': 3687.433, 'eval_steps_per_second': 460.929, 'epoch': 1.4}\n"
          ]
        },
        {
          "name": "stderr",
          "output_type": "stream",
          "text": [
            " 20%|██        | 4000/20000 [00:18<01:07, 235.73it/s]"
          ]
        },
        {
          "name": "stdout",
          "output_type": "stream",
          "text": [
            "{'loss': 0.3865, 'grad_norm': 2.1560709476470947, 'learning_rate': 8e-05, 'epoch': 1.6}\n"
          ]
        },
        {
          "name": "stderr",
          "output_type": "stream",
          "text": [
            "                                                     \n",
            " 20%|██        | 4039/20000 [00:19<01:45, 151.44it/s]"
          ]
        },
        {
          "name": "stdout",
          "output_type": "stream",
          "text": [
            "{'eval_loss': 0.41702765226364136, 'eval_accuracy': 0.869, 'eval_runtime': 0.2778, 'eval_samples_per_second': 3599.692, 'eval_steps_per_second': 449.962, 'epoch': 1.6}\n"
          ]
        },
        {
          "name": "stderr",
          "output_type": "stream",
          "text": [
            " 22%|██▎       | 4500/20000 [00:21<01:06, 233.54it/s]"
          ]
        },
        {
          "name": "stdout",
          "output_type": "stream",
          "text": [
            "{'loss': 0.3796, 'grad_norm': 4.033065319061279, 'learning_rate': 7.75e-05, 'epoch': 1.8}\n"
          ]
        },
        {
          "name": "stderr",
          "output_type": "stream",
          "text": [
            "                                                     \n",
            " 23%|██▎       | 4550/20000 [00:21<01:38, 156.39it/s]"
          ]
        },
        {
          "name": "stdout",
          "output_type": "stream",
          "text": [
            "{'eval_loss': 0.40641021728515625, 'eval_accuracy': 0.867, 'eval_runtime': 0.2748, 'eval_samples_per_second': 3639.028, 'eval_steps_per_second': 454.879, 'epoch': 1.8}\n"
          ]
        },
        {
          "name": "stderr",
          "output_type": "stream",
          "text": [
            " 25%|██▌       | 5000/20000 [00:23<01:04, 233.21it/s]"
          ]
        },
        {
          "name": "stdout",
          "output_type": "stream",
          "text": [
            "{'loss': 0.3668, 'grad_norm': 3.2504334449768066, 'learning_rate': 7.500000000000001e-05, 'epoch': 2.0}\n"
          ]
        },
        {
          "name": "stderr",
          "output_type": "stream",
          "text": [
            "                                                     \n",
            " 25%|██▌       | 5043/20000 [00:24<01:42, 146.37it/s]"
          ]
        },
        {
          "name": "stdout",
          "output_type": "stream",
          "text": [
            "{'eval_loss': 0.39603421092033386, 'eval_accuracy': 0.869, 'eval_runtime': 0.2818, 'eval_samples_per_second': 3548.658, 'eval_steps_per_second': 443.582, 'epoch': 2.0}\n"
          ]
        },
        {
          "name": "stderr",
          "output_type": "stream",
          "text": [
            " 28%|██▊       | 5500/20000 [00:26<01:01, 235.34it/s]"
          ]
        },
        {
          "name": "stdout",
          "output_type": "stream",
          "text": [
            "{'loss': 0.34, 'grad_norm': 2.857222557067871, 'learning_rate': 7.25e-05, 'epoch': 2.2}\n"
          ]
        },
        {
          "name": "stderr",
          "output_type": "stream",
          "text": [
            "                                                     \n",
            " 28%|██▊       | 5521/20000 [00:26<01:56, 123.93it/s]"
          ]
        },
        {
          "name": "stdout",
          "output_type": "stream",
          "text": [
            "{'eval_loss': 0.38606444001197815, 'eval_accuracy': 0.87, 'eval_runtime': 0.2898, 'eval_samples_per_second': 3450.756, 'eval_steps_per_second': 431.344, 'epoch': 2.2}\n"
          ]
        },
        {
          "name": "stderr",
          "output_type": "stream",
          "text": [
            " 30%|███       | 6000/20000 [00:28<00:59, 235.36it/s]"
          ]
        },
        {
          "name": "stdout",
          "output_type": "stream",
          "text": [
            "{'loss': 0.3297, 'grad_norm': 2.555288076400757, 'learning_rate': 7e-05, 'epoch': 2.4}\n"
          ]
        },
        {
          "name": "stderr",
          "output_type": "stream",
          "text": [
            "                                                     \n",
            " 30%|███       | 6021/20000 [00:28<01:50, 126.54it/s]"
          ]
        },
        {
          "name": "stdout",
          "output_type": "stream",
          "text": [
            "{'eval_loss': 0.3812720477581024, 'eval_accuracy': 0.869, 'eval_runtime': 0.2748, 'eval_samples_per_second': 3638.997, 'eval_steps_per_second': 454.875, 'epoch': 2.4}\n"
          ]
        },
        {
          "name": "stderr",
          "output_type": "stream",
          "text": [
            " 32%|███▎      | 6500/20000 [00:30<00:57, 236.00it/s]"
          ]
        },
        {
          "name": "stdout",
          "output_type": "stream",
          "text": [
            "{'loss': 0.3248, 'grad_norm': 2.3878984451293945, 'learning_rate': 6.750000000000001e-05, 'epoch': 2.6}\n"
          ]
        },
        {
          "name": "stderr",
          "output_type": "stream",
          "text": [
            "                                                     \n",
            " 33%|███▎      | 6535/20000 [00:31<01:29, 149.69it/s]"
          ]
        },
        {
          "name": "stdout",
          "output_type": "stream",
          "text": [
            "{'eval_loss': 0.37184736132621765, 'eval_accuracy': 0.871, 'eval_runtime': 0.2718, 'eval_samples_per_second': 3679.095, 'eval_steps_per_second': 459.887, 'epoch': 2.6}\n"
          ]
        },
        {
          "name": "stderr",
          "output_type": "stream",
          "text": [
            " 35%|███▌      | 7000/20000 [00:33<00:48, 265.97it/s]"
          ]
        },
        {
          "name": "stdout",
          "output_type": "stream",
          "text": [
            "{'loss': 0.3243, 'grad_norm': 1.4271084070205688, 'learning_rate': 6.500000000000001e-05, 'epoch': 2.8}\n"
          ]
        },
        {
          "name": "stderr",
          "output_type": "stream",
          "text": [
            "                                                     \n",
            " 35%|███▌      | 7019/20000 [00:33<01:34, 137.54it/s]"
          ]
        },
        {
          "name": "stdout",
          "output_type": "stream",
          "text": [
            "{'eval_loss': 0.36847248673439026, 'eval_accuracy': 0.871, 'eval_runtime': 0.2738, 'eval_samples_per_second': 3652.299, 'eval_steps_per_second': 456.537, 'epoch': 2.8}\n"
          ]
        },
        {
          "name": "stderr",
          "output_type": "stream",
          "text": [
            " 38%|███▊      | 7500/20000 [00:35<00:52, 236.87it/s]"
          ]
        },
        {
          "name": "stdout",
          "output_type": "stream",
          "text": [
            "{'loss': 0.3129, 'grad_norm': 1.0424630641937256, 'learning_rate': 6.25e-05, 'epoch': 3.0}\n"
          ]
        },
        {
          "name": "stderr",
          "output_type": "stream",
          "text": [
            "                                                     \n",
            " 38%|███▊      | 7519/20000 [00:36<01:38, 126.77it/s]"
          ]
        },
        {
          "name": "stdout",
          "output_type": "stream",
          "text": [
            "{'eval_loss': 0.3635754883289337, 'eval_accuracy': 0.871, 'eval_runtime': 0.2788, 'eval_samples_per_second': 3586.8, 'eval_steps_per_second': 448.35, 'epoch': 3.0}\n"
          ]
        },
        {
          "name": "stderr",
          "output_type": "stream",
          "text": [
            " 40%|████      | 8000/20000 [00:38<00:51, 230.97it/s]"
          ]
        },
        {
          "name": "stdout",
          "output_type": "stream",
          "text": [
            "{'loss': 0.2944, 'grad_norm': 3.294731855392456, 'learning_rate': 6e-05, 'epoch': 3.2}\n"
          ]
        },
        {
          "name": "stderr",
          "output_type": "stream",
          "text": [
            "                                                     \n",
            " 40%|████      | 8029/20000 [00:38<01:24, 141.09it/s]"
          ]
        },
        {
          "name": "stdout",
          "output_type": "stream",
          "text": [
            "{'eval_loss': 0.3592401146888733, 'eval_accuracy': 0.875, 'eval_runtime': 0.2668, 'eval_samples_per_second': 3748.244, 'eval_steps_per_second': 468.531, 'epoch': 3.2}\n"
          ]
        },
        {
          "name": "stderr",
          "output_type": "stream",
          "text": [
            " 42%|████▎     | 8500/20000 [00:40<00:54, 212.35it/s]"
          ]
        },
        {
          "name": "stdout",
          "output_type": "stream",
          "text": [
            "{'loss': 0.2953, 'grad_norm': 1.5611852407455444, 'learning_rate': 5.7499999999999995e-05, 'epoch': 3.4}\n"
          ]
        },
        {
          "name": "stderr",
          "output_type": "stream",
          "text": [
            "                                                     \n",
            " 43%|████▎     | 8545/20000 [00:41<01:27, 130.97it/s]"
          ]
        },
        {
          "name": "stdout",
          "output_type": "stream",
          "text": [
            "{'eval_loss': 0.354093074798584, 'eval_accuracy': 0.876, 'eval_runtime': 0.3327, 'eval_samples_per_second': 3005.342, 'eval_steps_per_second': 375.668, 'epoch': 3.4}\n"
          ]
        },
        {
          "name": "stderr",
          "output_type": "stream",
          "text": [
            " 45%|████▌     | 9000/20000 [00:43<00:51, 214.93it/s]"
          ]
        },
        {
          "name": "stdout",
          "output_type": "stream",
          "text": [
            "{'loss': 0.2811, 'grad_norm': 2.1189277172088623, 'learning_rate': 5.500000000000001e-05, 'epoch': 3.6}\n"
          ]
        },
        {
          "name": "stderr",
          "output_type": "stream",
          "text": [
            "                                                     \n",
            " 45%|████▌     | 9041/20000 [00:43<01:21, 134.86it/s]"
          ]
        },
        {
          "name": "stdout",
          "output_type": "stream",
          "text": [
            "{'eval_loss': 0.3509368300437927, 'eval_accuracy': 0.878, 'eval_runtime': 0.2998, 'eval_samples_per_second': 3335.908, 'eval_steps_per_second': 416.989, 'epoch': 3.6}\n"
          ]
        },
        {
          "name": "stderr",
          "output_type": "stream",
          "text": [
            " 48%|████▊     | 9500/20000 [00:46<00:45, 231.44it/s]"
          ]
        },
        {
          "name": "stdout",
          "output_type": "stream",
          "text": [
            "{'loss': 0.2822, 'grad_norm': 1.1012611389160156, 'learning_rate': 5.25e-05, 'epoch': 3.8}\n"
          ]
        },
        {
          "name": "stderr",
          "output_type": "stream",
          "text": [
            "                                                     \n",
            " 48%|████▊     | 9522/20000 [00:46<01:27, 119.82it/s]"
          ]
        },
        {
          "name": "stdout",
          "output_type": "stream",
          "text": [
            "{'eval_loss': 0.34702131152153015, 'eval_accuracy': 0.876, 'eval_runtime': 0.2948, 'eval_samples_per_second': 3392.478, 'eval_steps_per_second': 424.06, 'epoch': 3.8}\n"
          ]
        },
        {
          "name": "stderr",
          "output_type": "stream",
          "text": [
            " 50%|█████     | 10000/20000 [00:48<00:45, 221.63it/s]"
          ]
        },
        {
          "name": "stdout",
          "output_type": "stream",
          "text": [
            "{'loss': 0.2785, 'grad_norm': 2.7950217723846436, 'learning_rate': 5e-05, 'epoch': 4.0}\n"
          ]
        },
        {
          "name": "stderr",
          "output_type": "stream",
          "text": [
            "                                                      \n",
            " 50%|█████     | 10028/20000 [00:49<01:20, 123.55it/s]"
          ]
        },
        {
          "name": "stdout",
          "output_type": "stream",
          "text": [
            "{'eval_loss': 0.34454190731048584, 'eval_accuracy': 0.878, 'eval_runtime': 0.3557, 'eval_samples_per_second': 2811.173, 'eval_steps_per_second': 351.397, 'epoch': 4.0}\n"
          ]
        },
        {
          "name": "stderr",
          "output_type": "stream",
          "text": [
            " 52%|█████▎    | 10500/20000 [00:51<00:42, 225.56it/s]"
          ]
        },
        {
          "name": "stdout",
          "output_type": "stream",
          "text": [
            "{'loss': 0.2695, 'grad_norm': 1.3874621391296387, 'learning_rate': 4.75e-05, 'epoch': 4.2}\n"
          ]
        },
        {
          "name": "stderr",
          "output_type": "stream",
          "text": [
            "                                                      \n",
            " 53%|█████▎    | 10535/20000 [00:51<01:10, 133.69it/s]"
          ]
        },
        {
          "name": "stdout",
          "output_type": "stream",
          "text": [
            "{'eval_loss': 0.34322279691696167, 'eval_accuracy': 0.879, 'eval_runtime': 0.3018, 'eval_samples_per_second': 3313.798, 'eval_steps_per_second': 414.225, 'epoch': 4.2}\n"
          ]
        },
        {
          "name": "stderr",
          "output_type": "stream",
          "text": [
            " 55%|█████▌    | 11000/20000 [00:53<00:34, 258.56it/s]"
          ]
        },
        {
          "name": "stdout",
          "output_type": "stream",
          "text": [
            "{'loss': 0.2667, 'grad_norm': 1.060739517211914, 'learning_rate': 4.5e-05, 'epoch': 4.4}\n"
          ]
        },
        {
          "name": "stderr",
          "output_type": "stream",
          "text": [
            "                                                      \n",
            " 55%|█████▌    | 11042/20000 [00:54<01:00, 147.73it/s]"
          ]
        },
        {
          "name": "stdout",
          "output_type": "stream",
          "text": [
            "{'eval_loss': 0.3405061662197113, 'eval_accuracy': 0.879, 'eval_runtime': 0.3208, 'eval_samples_per_second': 3117.686, 'eval_steps_per_second': 389.711, 'epoch': 4.4}\n"
          ]
        },
        {
          "name": "stderr",
          "output_type": "stream",
          "text": [
            " 57%|█████▊    | 11500/20000 [00:56<00:37, 227.35it/s]"
          ]
        },
        {
          "name": "stdout",
          "output_type": "stream",
          "text": [
            "{'loss': 0.2599, 'grad_norm': 1.0553910732269287, 'learning_rate': 4.25e-05, 'epoch': 4.6}\n"
          ]
        },
        {
          "name": "stderr",
          "output_type": "stream",
          "text": [
            "                                                      \n",
            " 58%|█████▊    | 11533/20000 [00:56<01:06, 128.00it/s]"
          ]
        },
        {
          "name": "stdout",
          "output_type": "stream",
          "text": [
            "{'eval_loss': 0.3408918082714081, 'eval_accuracy': 0.876, 'eval_runtime': 0.3227, 'eval_samples_per_second': 3098.386, 'eval_steps_per_second': 387.298, 'epoch': 4.6}\n"
          ]
        },
        {
          "name": "stderr",
          "output_type": "stream",
          "text": [
            " 60%|██████    | 12000/20000 [00:58<00:33, 239.57it/s]"
          ]
        },
        {
          "name": "stdout",
          "output_type": "stream",
          "text": [
            "{'loss': 0.255, 'grad_norm': 0.8699699640274048, 'learning_rate': 4e-05, 'epoch': 4.8}\n"
          ]
        },
        {
          "name": "stderr",
          "output_type": "stream",
          "text": [
            "                                                      \n",
            " 60%|██████    | 12037/20000 [00:59<00:54, 146.03it/s]"
          ]
        },
        {
          "name": "stdout",
          "output_type": "stream",
          "text": [
            "{'eval_loss': 0.33644694089889526, 'eval_accuracy': 0.877, 'eval_runtime': 0.2678, 'eval_samples_per_second': 3734.012, 'eval_steps_per_second': 466.752, 'epoch': 4.8}\n"
          ]
        },
        {
          "name": "stderr",
          "output_type": "stream",
          "text": [
            " 62%|██████▎   | 12500/20000 [01:00<00:26, 285.78it/s]"
          ]
        },
        {
          "name": "stdout",
          "output_type": "stream",
          "text": [
            "{'loss': 0.2524, 'grad_norm': 2.6817328929901123, 'learning_rate': 3.7500000000000003e-05, 'epoch': 5.0}\n"
          ]
        },
        {
          "name": "stderr",
          "output_type": "stream",
          "text": [
            "                                                      \n",
            " 63%|██████▎   | 12546/20000 [01:01<00:42, 176.79it/s]"
          ]
        },
        {
          "name": "stdout",
          "output_type": "stream",
          "text": [
            "{'eval_loss': 0.33510279655456543, 'eval_accuracy': 0.877, 'eval_runtime': 0.2568, 'eval_samples_per_second': 3894.028, 'eval_steps_per_second': 486.753, 'epoch': 5.0}\n"
          ]
        },
        {
          "name": "stderr",
          "output_type": "stream",
          "text": [
            " 65%|██████▌   | 13000/20000 [01:03<00:23, 292.42it/s]"
          ]
        },
        {
          "name": "stdout",
          "output_type": "stream",
          "text": [
            "{'loss': 0.2457, 'grad_norm': 1.7121978998184204, 'learning_rate': 3.5e-05, 'epoch': 5.2}\n"
          ]
        },
        {
          "name": "stderr",
          "output_type": "stream",
          "text": [
            "                                                      \n",
            " 65%|██████▌   | 13044/20000 [01:03<00:38, 179.50it/s]"
          ]
        },
        {
          "name": "stdout",
          "output_type": "stream",
          "text": [
            "{'eval_loss': 0.33463847637176514, 'eval_accuracy': 0.88, 'eval_runtime': 0.2558, 'eval_samples_per_second': 3909.297, 'eval_steps_per_second': 488.662, 'epoch': 5.2}\n"
          ]
        },
        {
          "name": "stderr",
          "output_type": "stream",
          "text": [
            " 68%|██████▊   | 13500/20000 [01:05<00:23, 272.98it/s]"
          ]
        },
        {
          "name": "stdout",
          "output_type": "stream",
          "text": [
            "{'loss': 0.2498, 'grad_norm': 2.505117416381836, 'learning_rate': 3.2500000000000004e-05, 'epoch': 5.4}\n"
          ]
        },
        {
          "name": "stderr",
          "output_type": "stream",
          "text": [
            "                                                      \n",
            " 68%|██████▊   | 13542/20000 [01:05<00:36, 174.79it/s]"
          ]
        },
        {
          "name": "stdout",
          "output_type": "stream",
          "text": [
            "{'eval_loss': 0.3334589898586273, 'eval_accuracy': 0.88, 'eval_runtime': 0.2438, 'eval_samples_per_second': 4101.58, 'eval_steps_per_second': 512.697, 'epoch': 5.4}\n"
          ]
        },
        {
          "name": "stderr",
          "output_type": "stream",
          "text": [
            " 70%|███████   | 14000/20000 [01:07<00:21, 277.59it/s]"
          ]
        },
        {
          "name": "stdout",
          "output_type": "stream",
          "text": [
            "{'loss': 0.2463, 'grad_norm': 2.836984872817993, 'learning_rate': 3e-05, 'epoch': 5.6}\n"
          ]
        },
        {
          "name": "stderr",
          "output_type": "stream",
          "text": [
            "                                                      \n",
            " 70%|███████   | 14041/20000 [01:07<00:32, 185.79it/s]"
          ]
        },
        {
          "name": "stdout",
          "output_type": "stream",
          "text": [
            "{'eval_loss': 0.332540899515152, 'eval_accuracy': 0.879, 'eval_runtime': 0.2638, 'eval_samples_per_second': 3790.68, 'eval_steps_per_second': 473.835, 'epoch': 5.6}\n"
          ]
        },
        {
          "name": "stderr",
          "output_type": "stream",
          "text": [
            " 72%|███████▎  | 14500/20000 [01:09<00:20, 263.82it/s]"
          ]
        },
        {
          "name": "stdout",
          "output_type": "stream",
          "text": [
            "{'loss': 0.244, 'grad_norm': 1.3389812707901, 'learning_rate': 2.7500000000000004e-05, 'epoch': 5.8}\n"
          ]
        },
        {
          "name": "stderr",
          "output_type": "stream",
          "text": [
            "                                                      \n",
            " 73%|███████▎  | 14531/20000 [01:09<00:31, 171.48it/s]"
          ]
        },
        {
          "name": "stdout",
          "output_type": "stream",
          "text": [
            "{'eval_loss': 0.3314771056175232, 'eval_accuracy': 0.88, 'eval_runtime': 0.2438, 'eval_samples_per_second': 4101.572, 'eval_steps_per_second': 512.696, 'epoch': 5.8}\n"
          ]
        },
        {
          "name": "stderr",
          "output_type": "stream",
          "text": [
            " 75%|███████▌  | 15000/20000 [01:11<00:19, 261.69it/s]"
          ]
        },
        {
          "name": "stdout",
          "output_type": "stream",
          "text": [
            "{'loss': 0.2362, 'grad_norm': 2.1340742111206055, 'learning_rate': 2.5e-05, 'epoch': 6.0}\n"
          ]
        },
        {
          "name": "stderr",
          "output_type": "stream",
          "text": [
            "                                                      \n",
            " 75%|███████▌  | 15055/20000 [01:12<00:27, 179.86it/s]"
          ]
        },
        {
          "name": "stdout",
          "output_type": "stream",
          "text": [
            "{'eval_loss': 0.3325459063053131, 'eval_accuracy': 0.876, 'eval_runtime': 0.2588, 'eval_samples_per_second': 3863.77, 'eval_steps_per_second': 482.971, 'epoch': 6.0}\n"
          ]
        },
        {
          "name": "stderr",
          "output_type": "stream",
          "text": [
            " 78%|███████▊  | 15500/20000 [01:13<00:17, 262.50it/s]"
          ]
        },
        {
          "name": "stdout",
          "output_type": "stream",
          "text": [
            "{'loss': 0.2388, 'grad_norm': 2.4404351711273193, 'learning_rate': 2.25e-05, 'epoch': 6.2}\n"
          ]
        },
        {
          "name": "stderr",
          "output_type": "stream",
          "text": [
            "                                                      \n",
            " 78%|███████▊  | 15526/20000 [01:14<00:27, 163.04it/s]"
          ]
        },
        {
          "name": "stdout",
          "output_type": "stream",
          "text": [
            "{'eval_loss': 0.33158859610557556, 'eval_accuracy': 0.877, 'eval_runtime': 0.2748, 'eval_samples_per_second': 3639.199, 'eval_steps_per_second': 454.9, 'epoch': 6.2}\n"
          ]
        },
        {
          "name": "stderr",
          "output_type": "stream",
          "text": [
            " 80%|████████  | 16000/20000 [01:15<00:14, 266.85it/s]"
          ]
        },
        {
          "name": "stdout",
          "output_type": "stream",
          "text": [
            "{'loss': 0.2287, 'grad_norm': 3.0940356254577637, 'learning_rate': 2e-05, 'epoch': 6.4}\n"
          ]
        },
        {
          "name": "stderr",
          "output_type": "stream",
          "text": [
            "                                                      \n",
            " 80%|████████  | 16042/20000 [01:16<00:22, 179.46it/s]"
          ]
        },
        {
          "name": "stdout",
          "output_type": "stream",
          "text": [
            "{'eval_loss': 0.3296988010406494, 'eval_accuracy': 0.877, 'eval_runtime': 0.2428, 'eval_samples_per_second': 4118.471, 'eval_steps_per_second': 514.809, 'epoch': 6.4}\n"
          ]
        },
        {
          "name": "stderr",
          "output_type": "stream",
          "text": [
            " 82%|████████▎ | 16500/20000 [01:18<00:12, 282.96it/s]"
          ]
        },
        {
          "name": "stdout",
          "output_type": "stream",
          "text": [
            "{'loss': 0.2391, 'grad_norm': 1.530745029449463, 'learning_rate': 1.75e-05, 'epoch': 6.6}\n"
          ]
        },
        {
          "name": "stderr",
          "output_type": "stream",
          "text": [
            "                                                      \n",
            " 83%|████████▎ | 16539/20000 [01:18<00:20, 171.11it/s]"
          ]
        },
        {
          "name": "stdout",
          "output_type": "stream",
          "text": [
            "{'eval_loss': 0.32932910323143005, 'eval_accuracy': 0.877, 'eval_runtime': 0.2578, 'eval_samples_per_second': 3878.852, 'eval_steps_per_second': 484.857, 'epoch': 6.6}\n"
          ]
        },
        {
          "name": "stderr",
          "output_type": "stream",
          "text": [
            " 85%|████████▌ | 17000/20000 [01:20<00:09, 304.45it/s]"
          ]
        },
        {
          "name": "stdout",
          "output_type": "stream",
          "text": [
            "{'loss': 0.2359, 'grad_norm': 2.5117459297180176, 'learning_rate': 1.5e-05, 'epoch': 6.8}\n"
          ]
        },
        {
          "name": "stderr",
          "output_type": "stream",
          "text": [
            "                                                      \n",
            " 85%|████████▌ | 17037/20000 [01:20<00:15, 194.07it/s]"
          ]
        },
        {
          "name": "stdout",
          "output_type": "stream",
          "text": [
            "{'eval_loss': 0.3290819227695465, 'eval_accuracy': 0.879, 'eval_runtime': 0.2488, 'eval_samples_per_second': 4019.072, 'eval_steps_per_second': 502.384, 'epoch': 6.8}\n"
          ]
        },
        {
          "name": "stderr",
          "output_type": "stream",
          "text": [
            " 88%|████████▊ | 17500/20000 [01:22<00:08, 277.86it/s]"
          ]
        },
        {
          "name": "stdout",
          "output_type": "stream",
          "text": [
            "{'loss': 0.2272, 'grad_norm': 3.980609655380249, 'learning_rate': 1.25e-05, 'epoch': 7.0}\n"
          ]
        },
        {
          "name": "stderr",
          "output_type": "stream",
          "text": [
            "                                                      \n",
            " 88%|████████▊ | 17530/20000 [01:22<00:14, 169.87it/s]"
          ]
        },
        {
          "name": "stdout",
          "output_type": "stream",
          "text": [
            "{'eval_loss': 0.329011470079422, 'eval_accuracy': 0.876, 'eval_runtime': 0.2608, 'eval_samples_per_second': 3834.41, 'eval_steps_per_second': 479.301, 'epoch': 7.0}\n"
          ]
        },
        {
          "name": "stderr",
          "output_type": "stream",
          "text": [
            " 90%|█████████ | 18000/20000 [01:24<00:07, 273.69it/s]"
          ]
        },
        {
          "name": "stdout",
          "output_type": "stream",
          "text": [
            "{'loss': 0.2349, 'grad_norm': 0.7230764627456665, 'learning_rate': 1e-05, 'epoch': 7.2}\n"
          ]
        },
        {
          "name": "stderr",
          "output_type": "stream",
          "text": [
            "                                                      \n",
            " 90%|█████████ | 18045/20000 [01:24<00:11, 176.42it/s]"
          ]
        },
        {
          "name": "stdout",
          "output_type": "stream",
          "text": [
            "{'eval_loss': 0.3287281394004822, 'eval_accuracy': 0.876, 'eval_runtime': 0.2658, 'eval_samples_per_second': 3762.146, 'eval_steps_per_second': 470.268, 'epoch': 7.2}\n"
          ]
        },
        {
          "name": "stderr",
          "output_type": "stream",
          "text": [
            " 92%|█████████▎| 18500/20000 [01:26<00:05, 255.69it/s]"
          ]
        },
        {
          "name": "stdout",
          "output_type": "stream",
          "text": [
            "{'loss': 0.2306, 'grad_norm': 2.3993921279907227, 'learning_rate': 7.5e-06, 'epoch': 7.4}\n"
          ]
        },
        {
          "name": "stderr",
          "output_type": "stream",
          "text": [
            "                                                      \n",
            " 93%|█████████▎| 18546/20000 [01:26<00:08, 166.13it/s]"
          ]
        },
        {
          "name": "stdout",
          "output_type": "stream",
          "text": [
            "{'eval_loss': 0.3281780481338501, 'eval_accuracy': 0.877, 'eval_runtime': 0.2658, 'eval_samples_per_second': 3762.278, 'eval_steps_per_second': 470.285, 'epoch': 7.4}\n"
          ]
        },
        {
          "name": "stderr",
          "output_type": "stream",
          "text": [
            " 95%|█████████▌| 19000/20000 [01:28<00:03, 268.57it/s]"
          ]
        },
        {
          "name": "stdout",
          "output_type": "stream",
          "text": [
            "{'loss': 0.2289, 'grad_norm': 1.8705499172210693, 'learning_rate': 5e-06, 'epoch': 7.6}\n"
          ]
        },
        {
          "name": "stderr",
          "output_type": "stream",
          "text": [
            "                                                      \n",
            " 95%|█████████▌| 19027/20000 [01:29<00:06, 143.71it/s]"
          ]
        },
        {
          "name": "stdout",
          "output_type": "stream",
          "text": [
            "{'eval_loss': 0.3281436860561371, 'eval_accuracy': 0.877, 'eval_runtime': 0.2798, 'eval_samples_per_second': 3574.077, 'eval_steps_per_second': 446.76, 'epoch': 7.6}\n"
          ]
        },
        {
          "name": "stderr",
          "output_type": "stream",
          "text": [
            " 98%|█████████▊| 19500/20000 [01:31<00:01, 255.06it/s]"
          ]
        },
        {
          "name": "stdout",
          "output_type": "stream",
          "text": [
            "{'loss': 0.2228, 'grad_norm': 2.5482091903686523, 'learning_rate': 2.5e-06, 'epoch': 7.8}\n"
          ]
        },
        {
          "name": "stderr",
          "output_type": "stream",
          "text": [
            "                                                      \n",
            " 98%|█████████▊| 19533/20000 [01:31<00:02, 166.51it/s]"
          ]
        },
        {
          "name": "stdout",
          "output_type": "stream",
          "text": [
            "{'eval_loss': 0.3280504643917084, 'eval_accuracy': 0.877, 'eval_runtime': 0.2618, 'eval_samples_per_second': 3819.754, 'eval_steps_per_second': 477.469, 'epoch': 7.8}\n"
          ]
        },
        {
          "name": "stderr",
          "output_type": "stream",
          "text": [
            "100%|██████████| 20000/20000 [01:33<00:00, 259.13it/s]"
          ]
        },
        {
          "name": "stdout",
          "output_type": "stream",
          "text": [
            "{'loss': 0.2258, 'grad_norm': 2.163818836212158, 'learning_rate': 0.0, 'epoch': 8.0}\n"
          ]
        },
        {
          "name": "stderr",
          "output_type": "stream",
          "text": [
            "                                                      \n",
            "100%|██████████| 20000/20000 [01:33<00:00, 213.63it/s]\n"
          ]
        },
        {
          "name": "stdout",
          "output_type": "stream",
          "text": [
            "{'eval_loss': 0.3280525505542755, 'eval_accuracy': 0.878, 'eval_runtime': 0.2868, 'eval_samples_per_second': 3487.044, 'eval_steps_per_second': 435.881, 'epoch': 8.0}\n",
            "{'train_runtime': 93.6142, 'train_samples_per_second': 2136.428, 'train_steps_per_second': 213.643, 'train_loss': 0.315899222946167, 'epoch': 8.0}\n"
          ]
        },
        {
          "name": "stderr",
          "output_type": "stream",
          "text": [
            "100%|██████████| 3125/3125 [00:05<00:00, 568.69it/s]\n",
            "c:\\Python310\\lib\\site-packages\\accelerate\\accelerator.py:432: FutureWarning: Passing the following arguments to `Accelerator` is deprecated and will be removed in version 1.0 of Accelerate: dict_keys(['dispatch_batches', 'split_batches', 'even_batches', 'use_seedable_sampler']). Please pass an `accelerate.DataLoaderConfiguration` instead: \n",
            "dataloader_config = DataLoaderConfiguration(dispatch_batches=None, split_batches=False, even_batches=True, use_seedable_sampler=True)\n",
            "  warnings.warn(\n"
          ]
        },
        {
          "name": "stdout",
          "output_type": "stream",
          "text": [
            "For hyperparameters learning rate: 0.0001 and batch size: 10 we get evaluation results: {'eval_loss': 0.29560860991477966, 'eval_accuracy': 0.88672, 'eval_runtime': 5.5001, 'eval_samples_per_second': 4545.35, 'eval_steps_per_second': 568.169, 'epoch': 8.0}\n"
          ]
        },
        {
          "name": "stderr",
          "output_type": "stream",
          "text": [
            "  2%|▎         | 500/20000 [00:02<01:51, 174.77it/s]"
          ]
        },
        {
          "name": "stdout",
          "output_type": "stream",
          "text": [
            "{'loss': 0.8386, 'grad_norm': 0.1504293978214264, 'learning_rate': 9.75e-05, 'epoch': 0.4}\n"
          ]
        },
        {
          "name": "stderr",
          "output_type": "stream",
          "text": [
            "\n",
            "  3%|▎         | 525/20000 [00:03<02:52, 112.83it/s]"
          ]
        },
        {
          "name": "stdout",
          "output_type": "stream",
          "text": [
            "{'eval_loss': 0.7952902913093567, 'eval_accuracy': 0.511, 'eval_runtime': 0.2628, 'eval_samples_per_second': 3805.251, 'eval_steps_per_second': 475.656, 'epoch': 0.4}\n"
          ]
        },
        {
          "name": "stderr",
          "output_type": "stream",
          "text": [
            "  5%|▌         | 1000/20000 [00:05<01:46, 179.05it/s]"
          ]
        },
        {
          "name": "stdout",
          "output_type": "stream",
          "text": [
            "{'loss': 0.7837, 'grad_norm': 0.27661505341529846, 'learning_rate': 9.5e-05, 'epoch': 0.8}\n"
          ]
        },
        {
          "name": "stderr",
          "output_type": "stream",
          "text": [
            "\n",
            "  5%|▌         | 1029/20000 [00:06<02:52, 109.75it/s]"
          ]
        },
        {
          "name": "stdout",
          "output_type": "stream",
          "text": [
            "{'eval_loss': 0.7614069581031799, 'eval_accuracy': 0.511, 'eval_runtime': 0.2648, 'eval_samples_per_second': 3776.346, 'eval_steps_per_second': 472.043, 'epoch': 0.8}\n"
          ]
        },
        {
          "name": "stderr",
          "output_type": "stream",
          "text": [
            "  8%|▊         | 1500/20000 [00:08<01:35, 194.14it/s]"
          ]
        },
        {
          "name": "stdout",
          "output_type": "stream",
          "text": [
            "{'loss': 0.7588, 'grad_norm': 0.31281256675720215, 'learning_rate': 9.250000000000001e-05, 'epoch': 1.2}\n"
          ]
        },
        {
          "name": "stderr",
          "output_type": "stream",
          "text": [
            "\n",
            "  8%|▊         | 1530/20000 [00:09<02:25, 126.66it/s]"
          ]
        },
        {
          "name": "stdout",
          "output_type": "stream",
          "text": [
            "{'eval_loss': 0.7368647456169128, 'eval_accuracy': 0.511, 'eval_runtime': 0.2448, 'eval_samples_per_second': 4084.52, 'eval_steps_per_second': 510.565, 'epoch': 1.2}\n"
          ]
        },
        {
          "name": "stderr",
          "output_type": "stream",
          "text": [
            " 10%|█         | 2000/20000 [00:11<01:38, 182.71it/s]"
          ]
        },
        {
          "name": "stdout",
          "output_type": "stream",
          "text": [
            "{'loss': 0.7324, 'grad_norm': 0.053261566907167435, 'learning_rate': 9e-05, 'epoch': 1.6}\n"
          ]
        },
        {
          "name": "stderr",
          "output_type": "stream",
          "text": [
            "\n",
            " 10%|█         | 2018/20000 [00:12<03:05, 96.68it/s] "
          ]
        },
        {
          "name": "stdout",
          "output_type": "stream",
          "text": [
            "{'eval_loss': 0.7199645638465881, 'eval_accuracy': 0.511, 'eval_runtime': 0.2778, 'eval_samples_per_second': 3599.763, 'eval_steps_per_second': 449.97, 'epoch': 1.6}\n"
          ]
        },
        {
          "name": "stderr",
          "output_type": "stream",
          "text": [
            " 12%|█▎        | 2500/20000 [00:14<01:42, 170.74it/s]"
          ]
        },
        {
          "name": "stdout",
          "output_type": "stream",
          "text": [
            "{'loss': 0.7154, 'grad_norm': 0.29361963272094727, 'learning_rate': 8.75e-05, 'epoch': 2.0}\n"
          ]
        },
        {
          "name": "stderr",
          "output_type": "stream",
          "text": [
            "\n",
            " 13%|█▎        | 2520/20000 [00:15<02:38, 110.52it/s]"
          ]
        },
        {
          "name": "stdout",
          "output_type": "stream",
          "text": [
            "{'eval_loss': 0.6987423300743103, 'eval_accuracy': 0.511, 'eval_runtime': 0.2678, 'eval_samples_per_second': 3734.092, 'eval_steps_per_second': 466.762, 'epoch': 2.0}\n"
          ]
        },
        {
          "name": "stderr",
          "output_type": "stream",
          "text": [
            " 15%|█▌        | 3000/20000 [00:18<01:34, 179.30it/s]"
          ]
        },
        {
          "name": "stdout",
          "output_type": "stream",
          "text": [
            "{'loss': 0.6681, 'grad_norm': 0.4215930104255676, 'learning_rate': 8.5e-05, 'epoch': 2.4}\n"
          ]
        },
        {
          "name": "stderr",
          "output_type": "stream",
          "text": [
            "\n",
            " 15%|█▌        | 3031/20000 [00:18<02:21, 120.33it/s]"
          ]
        },
        {
          "name": "stdout",
          "output_type": "stream",
          "text": [
            "{'eval_loss': 0.6432206630706787, 'eval_accuracy': 0.511, 'eval_runtime': 0.2717, 'eval_samples_per_second': 3680.635, 'eval_steps_per_second': 460.079, 'epoch': 2.4}\n"
          ]
        },
        {
          "name": "stderr",
          "output_type": "stream",
          "text": [
            " 18%|█▊        | 3500/20000 [00:20<01:25, 192.81it/s]"
          ]
        },
        {
          "name": "stdout",
          "output_type": "stream",
          "text": [
            "{'loss': 0.6175, 'grad_norm': 0.5486705303192139, 'learning_rate': 8.25e-05, 'epoch': 2.8}\n"
          ]
        },
        {
          "name": "stderr",
          "output_type": "stream",
          "text": [
            "\n",
            " 18%|█▊        | 3518/20000 [00:21<02:24, 114.43it/s]"
          ]
        },
        {
          "name": "stdout",
          "output_type": "stream",
          "text": [
            "{'eval_loss': 0.6087296009063721, 'eval_accuracy': 0.511, 'eval_runtime': 0.2757, 'eval_samples_per_second': 3626.65, 'eval_steps_per_second': 453.331, 'epoch': 2.8}\n"
          ]
        },
        {
          "name": "stderr",
          "output_type": "stream",
          "text": [
            " 20%|██        | 4000/20000 [00:23<01:24, 188.57it/s]"
          ]
        },
        {
          "name": "stdout",
          "output_type": "stream",
          "text": [
            "{'loss': 0.5879, 'grad_norm': 0.623862087726593, 'learning_rate': 8e-05, 'epoch': 3.2}\n"
          ]
        },
        {
          "name": "stderr",
          "output_type": "stream",
          "text": [
            "\n",
            " 20%|██        | 4035/20000 [00:24<02:13, 119.27it/s]"
          ]
        },
        {
          "name": "stdout",
          "output_type": "stream",
          "text": [
            "{'eval_loss': 0.578356146812439, 'eval_accuracy': 0.605, 'eval_runtime': 0.2618, 'eval_samples_per_second': 3819.768, 'eval_steps_per_second': 477.471, 'epoch': 3.2}\n"
          ]
        },
        {
          "name": "stderr",
          "output_type": "stream",
          "text": [
            " 22%|██▎       | 4500/20000 [00:26<01:23, 184.82it/s]"
          ]
        },
        {
          "name": "stdout",
          "output_type": "stream",
          "text": [
            "{'loss': 0.5475, 'grad_norm': 0.6084717512130737, 'learning_rate': 7.75e-05, 'epoch': 3.6}\n"
          ]
        },
        {
          "name": "stderr",
          "output_type": "stream",
          "text": [
            "\n",
            " 23%|██▎       | 4523/20000 [00:27<02:09, 119.39it/s]"
          ]
        },
        {
          "name": "stdout",
          "output_type": "stream",
          "text": [
            "{'eval_loss': 0.5531769394874573, 'eval_accuracy': 0.748, 'eval_runtime': 0.2608, 'eval_samples_per_second': 3834.351, 'eval_steps_per_second': 479.294, 'epoch': 3.6}\n"
          ]
        },
        {
          "name": "stderr",
          "output_type": "stream",
          "text": [
            " 25%|██▌       | 5000/20000 [00:29<01:14, 202.02it/s]"
          ]
        },
        {
          "name": "stdout",
          "output_type": "stream",
          "text": [
            "{'loss': 0.527, 'grad_norm': 0.6708065271377563, 'learning_rate': 7.500000000000001e-05, 'epoch': 4.0}\n"
          ]
        },
        {
          "name": "stderr",
          "output_type": "stream",
          "text": [
            "\n",
            " 25%|██▌       | 5035/20000 [00:30<02:08, 116.32it/s]"
          ]
        },
        {
          "name": "stdout",
          "output_type": "stream",
          "text": [
            "{'eval_loss': 0.5306767225265503, 'eval_accuracy': 0.807, 'eval_runtime': 0.2758, 'eval_samples_per_second': 3625.775, 'eval_steps_per_second': 453.222, 'epoch': 4.0}\n"
          ]
        },
        {
          "name": "stderr",
          "output_type": "stream",
          "text": [
            " 28%|██▊       | 5500/20000 [00:32<01:19, 183.02it/s]"
          ]
        },
        {
          "name": "stdout",
          "output_type": "stream",
          "text": [
            "{'loss': 0.4986, 'grad_norm': 0.5904823541641235, 'learning_rate': 7.25e-05, 'epoch': 4.4}\n"
          ]
        },
        {
          "name": "stderr",
          "output_type": "stream",
          "text": [
            "\n",
            " 28%|██▊       | 5518/20000 [00:33<01:59, 121.68it/s]"
          ]
        },
        {
          "name": "stdout",
          "output_type": "stream",
          "text": [
            "{'eval_loss': 0.510912299156189, 'eval_accuracy': 0.834, 'eval_runtime': 0.2458, 'eval_samples_per_second': 4068.21, 'eval_steps_per_second': 508.526, 'epoch': 4.4}\n"
          ]
        },
        {
          "name": "stderr",
          "output_type": "stream",
          "text": [
            " 30%|███       | 6000/20000 [00:35<01:23, 167.63it/s]"
          ]
        },
        {
          "name": "stdout",
          "output_type": "stream",
          "text": [
            "{'loss': 0.4768, 'grad_norm': 0.5276439189910889, 'learning_rate': 7e-05, 'epoch': 4.8}\n"
          ]
        },
        {
          "name": "stderr",
          "output_type": "stream",
          "text": [
            "\n",
            " 30%|███       | 6012/20000 [00:36<02:42, 85.97it/s] "
          ]
        },
        {
          "name": "stdout",
          "output_type": "stream",
          "text": [
            "{'eval_loss': 0.4935261309146881, 'eval_accuracy': 0.85, 'eval_runtime': 0.2968, 'eval_samples_per_second': 3369.636, 'eval_steps_per_second': 421.205, 'epoch': 4.8}\n"
          ]
        },
        {
          "name": "stderr",
          "output_type": "stream",
          "text": [
            " 32%|███▎      | 6500/20000 [00:39<01:23, 161.48it/s]"
          ]
        },
        {
          "name": "stdout",
          "output_type": "stream",
          "text": [
            "{'loss': 0.4555, 'grad_norm': 0.6918878555297852, 'learning_rate': 6.750000000000001e-05, 'epoch': 5.2}\n"
          ]
        },
        {
          "name": "stderr",
          "output_type": "stream",
          "text": [
            "\n",
            " 33%|███▎      | 6516/20000 [00:39<02:25, 92.72it/s] "
          ]
        },
        {
          "name": "stdout",
          "output_type": "stream",
          "text": [
            "{'eval_loss': 0.47851672768592834, 'eval_accuracy': 0.858, 'eval_runtime': 0.2518, 'eval_samples_per_second': 3971.333, 'eval_steps_per_second': 496.417, 'epoch': 5.2}\n"
          ]
        },
        {
          "name": "stderr",
          "output_type": "stream",
          "text": [
            " 35%|███▌      | 7000/20000 [00:42<01:18, 165.05it/s]"
          ]
        },
        {
          "name": "stdout",
          "output_type": "stream",
          "text": [
            "{'loss': 0.4395, 'grad_norm': 0.7690708041191101, 'learning_rate': 6.500000000000001e-05, 'epoch': 5.6}\n"
          ]
        },
        {
          "name": "stderr",
          "output_type": "stream",
          "text": [
            "\n",
            " 35%|███▌      | 7024/20000 [00:42<02:00, 107.74it/s]"
          ]
        },
        {
          "name": "stdout",
          "output_type": "stream",
          "text": [
            "{'eval_loss': 0.4650004208087921, 'eval_accuracy': 0.871, 'eval_runtime': 0.2828, 'eval_samples_per_second': 3536.143, 'eval_steps_per_second': 442.018, 'epoch': 5.6}\n"
          ]
        },
        {
          "name": "stderr",
          "output_type": "stream",
          "text": [
            " 38%|███▊      | 7500/20000 [00:45<01:03, 196.99it/s]"
          ]
        },
        {
          "name": "stdout",
          "output_type": "stream",
          "text": [
            "{'loss': 0.4235, 'grad_norm': 0.8667647838592529, 'learning_rate': 6.25e-05, 'epoch': 6.0}\n"
          ]
        },
        {
          "name": "stderr",
          "output_type": "stream",
          "text": [
            "\n",
            " 38%|███▊      | 7520/20000 [00:45<02:00, 103.42it/s]"
          ]
        },
        {
          "name": "stdout",
          "output_type": "stream",
          "text": [
            "{'eval_loss': 0.4533432126045227, 'eval_accuracy': 0.878, 'eval_runtime': 0.2828, 'eval_samples_per_second': 3536.322, 'eval_steps_per_second': 442.04, 'epoch': 6.0}\n"
          ]
        },
        {
          "name": "stderr",
          "output_type": "stream",
          "text": [
            " 40%|████      | 8000/20000 [00:48<01:01, 194.72it/s]"
          ]
        },
        {
          "name": "stdout",
          "output_type": "stream",
          "text": [
            "{'loss': 0.4052, 'grad_norm': 0.9528253674507141, 'learning_rate': 6e-05, 'epoch': 6.4}\n"
          ]
        },
        {
          "name": "stderr",
          "output_type": "stream",
          "text": [
            "\n",
            " 40%|████      | 8029/20000 [00:48<01:40, 119.66it/s]"
          ]
        },
        {
          "name": "stdout",
          "output_type": "stream",
          "text": [
            "{'eval_loss': 0.44190019369125366, 'eval_accuracy': 0.874, 'eval_runtime': 0.2508, 'eval_samples_per_second': 3986.879, 'eval_steps_per_second': 498.36, 'epoch': 6.4}\n"
          ]
        },
        {
          "name": "stderr",
          "output_type": "stream",
          "text": [
            " 42%|████▎     | 8500/20000 [00:51<01:04, 179.62it/s]"
          ]
        },
        {
          "name": "stdout",
          "output_type": "stream",
          "text": [
            "{'loss': 0.3978, 'grad_norm': 0.8194842338562012, 'learning_rate': 5.7499999999999995e-05, 'epoch': 6.8}\n"
          ]
        },
        {
          "name": "stderr",
          "output_type": "stream",
          "text": [
            "\n",
            " 43%|████▎     | 8522/20000 [00:51<01:40, 114.50it/s]"
          ]
        },
        {
          "name": "stdout",
          "output_type": "stream",
          "text": [
            "{'eval_loss': 0.43253856897354126, 'eval_accuracy': 0.879, 'eval_runtime': 0.2838, 'eval_samples_per_second': 3523.885, 'eval_steps_per_second': 440.486, 'epoch': 6.8}\n"
          ]
        },
        {
          "name": "stderr",
          "output_type": "stream",
          "text": [
            " 45%|████▌     | 9000/20000 [00:54<00:55, 199.82it/s]"
          ]
        },
        {
          "name": "stdout",
          "output_type": "stream",
          "text": [
            "{'loss': 0.3825, 'grad_norm': 0.6796664595603943, 'learning_rate': 5.500000000000001e-05, 'epoch': 7.2}\n"
          ]
        },
        {
          "name": "stderr",
          "output_type": "stream",
          "text": [
            "\n",
            " 45%|████▌     | 9021/20000 [00:54<01:31, 119.78it/s]"
          ]
        },
        {
          "name": "stdout",
          "output_type": "stream",
          "text": [
            "{'eval_loss': 0.4239366948604584, 'eval_accuracy': 0.88, 'eval_runtime': 0.2698, 'eval_samples_per_second': 3706.342, 'eval_steps_per_second': 463.293, 'epoch': 7.2}\n"
          ]
        },
        {
          "name": "stderr",
          "output_type": "stream",
          "text": [
            " 48%|████▊     | 9500/20000 [00:57<00:57, 183.78it/s]"
          ]
        },
        {
          "name": "stdout",
          "output_type": "stream",
          "text": [
            "{'loss': 0.3725, 'grad_norm': 0.7921114563941956, 'learning_rate': 5.25e-05, 'epoch': 7.6}\n"
          ]
        },
        {
          "name": "stderr",
          "output_type": "stream",
          "text": [
            "\n",
            " 48%|████▊     | 9518/20000 [00:57<01:48, 96.71it/s] "
          ]
        },
        {
          "name": "stdout",
          "output_type": "stream",
          "text": [
            "{'eval_loss': 0.4163285493850708, 'eval_accuracy': 0.881, 'eval_runtime': 0.2719, 'eval_samples_per_second': 3677.208, 'eval_steps_per_second': 459.651, 'epoch': 7.6}\n"
          ]
        },
        {
          "name": "stderr",
          "output_type": "stream",
          "text": [
            " 50%|█████     | 10000/20000 [01:00<00:52, 192.26it/s]"
          ]
        },
        {
          "name": "stdout",
          "output_type": "stream",
          "text": [
            "{'loss': 0.3603, 'grad_norm': 1.1452027559280396, 'learning_rate': 5e-05, 'epoch': 8.0}\n"
          ]
        },
        {
          "name": "stderr",
          "output_type": "stream",
          "text": [
            "\n",
            " 50%|█████     | 10026/20000 [01:01<01:28, 112.32it/s]"
          ]
        },
        {
          "name": "stdout",
          "output_type": "stream",
          "text": [
            "{'eval_loss': 0.40922772884368896, 'eval_accuracy': 0.881, 'eval_runtime': 0.2978, 'eval_samples_per_second': 3358.304, 'eval_steps_per_second': 419.788, 'epoch': 8.0}\n"
          ]
        },
        {
          "name": "stderr",
          "output_type": "stream",
          "text": [
            " 52%|█████▎    | 10500/20000 [01:03<00:49, 191.10it/s]"
          ]
        },
        {
          "name": "stdout",
          "output_type": "stream",
          "text": [
            "{'loss': 0.3518, 'grad_norm': 0.7225984930992126, 'learning_rate': 4.75e-05, 'epoch': 8.4}\n"
          ]
        },
        {
          "name": "stderr",
          "output_type": "stream",
          "text": [
            "\n",
            " 53%|█████▎    | 10522/20000 [01:03<01:18, 121.40it/s]"
          ]
        },
        {
          "name": "stdout",
          "output_type": "stream",
          "text": [
            "{'eval_loss': 0.4031497538089752, 'eval_accuracy': 0.879, 'eval_runtime': 0.2658, 'eval_samples_per_second': 3762.342, 'eval_steps_per_second': 470.293, 'epoch': 8.4}\n"
          ]
        },
        {
          "name": "stderr",
          "output_type": "stream",
          "text": [
            " 55%|█████▌    | 11000/20000 [01:06<00:46, 192.38it/s]"
          ]
        },
        {
          "name": "stdout",
          "output_type": "stream",
          "text": [
            "{'loss': 0.3459, 'grad_norm': 0.655992329120636, 'learning_rate': 4.5e-05, 'epoch': 8.8}\n"
          ]
        },
        {
          "name": "stderr",
          "output_type": "stream",
          "text": [
            "\n",
            " 55%|█████▌    | 11016/20000 [01:06<01:24, 106.30it/s]"
          ]
        },
        {
          "name": "stdout",
          "output_type": "stream",
          "text": [
            "{'eval_loss': 0.39779335260391235, 'eval_accuracy': 0.881, 'eval_runtime': 0.2638, 'eval_samples_per_second': 3790.701, 'eval_steps_per_second': 473.838, 'epoch': 8.8}\n"
          ]
        },
        {
          "name": "stderr",
          "output_type": "stream",
          "text": [
            " 57%|█████▊    | 11500/20000 [01:09<00:46, 184.15it/s]"
          ]
        },
        {
          "name": "stdout",
          "output_type": "stream",
          "text": [
            "{'loss': 0.3342, 'grad_norm': 0.8498794436454773, 'learning_rate': 4.25e-05, 'epoch': 9.2}\n"
          ]
        },
        {
          "name": "stderr",
          "output_type": "stream",
          "text": [
            "\n",
            " 58%|█████▊    | 11527/20000 [01:10<01:13, 114.75it/s]"
          ]
        },
        {
          "name": "stdout",
          "output_type": "stream",
          "text": [
            "{'eval_loss': 0.3923555314540863, 'eval_accuracy': 0.884, 'eval_runtime': 0.2618, 'eval_samples_per_second': 3819.73, 'eval_steps_per_second': 477.466, 'epoch': 9.2}\n"
          ]
        },
        {
          "name": "stderr",
          "output_type": "stream",
          "text": [
            " 60%|██████    | 12000/20000 [01:12<00:44, 180.62it/s]"
          ]
        },
        {
          "name": "stdout",
          "output_type": "stream",
          "text": [
            "{'loss': 0.3278, 'grad_norm': 0.5982756614685059, 'learning_rate': 4e-05, 'epoch': 9.6}\n"
          ]
        },
        {
          "name": "stderr",
          "output_type": "stream",
          "text": [
            "\n",
            " 60%|██████    | 12013/20000 [01:13<01:22, 97.18it/s] "
          ]
        },
        {
          "name": "stdout",
          "output_type": "stream",
          "text": [
            "{'eval_loss': 0.38852548599243164, 'eval_accuracy': 0.881, 'eval_runtime': 0.2758, 'eval_samples_per_second': 3626.017, 'eval_steps_per_second': 453.252, 'epoch': 9.6}\n"
          ]
        },
        {
          "name": "stderr",
          "output_type": "stream",
          "text": [
            " 62%|██████▎   | 12500/20000 [01:15<00:40, 184.95it/s]"
          ]
        },
        {
          "name": "stdout",
          "output_type": "stream",
          "text": [
            "{'loss': 0.3238, 'grad_norm': 0.7996907830238342, 'learning_rate': 3.7500000000000003e-05, 'epoch': 10.0}\n"
          ]
        },
        {
          "name": "stderr",
          "output_type": "stream",
          "text": [
            "\n",
            " 63%|██████▎   | 12526/20000 [01:16<01:02, 118.83it/s]"
          ]
        },
        {
          "name": "stdout",
          "output_type": "stream",
          "text": [
            "{'eval_loss': 0.3844417631626129, 'eval_accuracy': 0.881, 'eval_runtime': 0.2778, 'eval_samples_per_second': 3599.93, 'eval_steps_per_second': 449.991, 'epoch': 10.0}\n"
          ]
        },
        {
          "name": "stderr",
          "output_type": "stream",
          "text": [
            " 65%|██████▌   | 13000/20000 [01:18<00:36, 190.28it/s]"
          ]
        },
        {
          "name": "stdout",
          "output_type": "stream",
          "text": [
            "{'loss': 0.3151, 'grad_norm': 0.5297321081161499, 'learning_rate': 3.5e-05, 'epoch': 10.4}\n"
          ]
        },
        {
          "name": "stderr",
          "output_type": "stream",
          "text": [
            "\n",
            " 65%|██████▌   | 13018/20000 [01:18<01:04, 108.81it/s]"
          ]
        },
        {
          "name": "stdout",
          "output_type": "stream",
          "text": [
            "{'eval_loss': 0.3805669844150543, 'eval_accuracy': 0.881, 'eval_runtime': 0.2468, 'eval_samples_per_second': 4051.462, 'eval_steps_per_second': 506.433, 'epoch': 10.4}\n"
          ]
        },
        {
          "name": "stderr",
          "output_type": "stream",
          "text": [
            " 68%|██████▊   | 13500/20000 [01:21<00:36, 180.30it/s]"
          ]
        },
        {
          "name": "stdout",
          "output_type": "stream",
          "text": [
            "{'loss': 0.3119, 'grad_norm': 0.7898861169815063, 'learning_rate': 3.2500000000000004e-05, 'epoch': 10.8}\n"
          ]
        },
        {
          "name": "stderr",
          "output_type": "stream",
          "text": [
            "\n",
            " 68%|██████▊   | 13521/20000 [01:21<00:54, 118.66it/s]"
          ]
        },
        {
          "name": "stdout",
          "output_type": "stream",
          "text": [
            "{'eval_loss': 0.37745100259780884, 'eval_accuracy': 0.881, 'eval_runtime': 0.2478, 'eval_samples_per_second': 4035.383, 'eval_steps_per_second': 504.423, 'epoch': 10.8}\n"
          ]
        },
        {
          "name": "stderr",
          "output_type": "stream",
          "text": [
            " 70%|███████   | 14000/20000 [01:24<00:33, 176.96it/s]"
          ]
        },
        {
          "name": "stdout",
          "output_type": "stream",
          "text": [
            "{'loss': 0.3047, 'grad_norm': 0.6138377785682678, 'learning_rate': 3e-05, 'epoch': 11.2}\n"
          ]
        },
        {
          "name": "stderr",
          "output_type": "stream",
          "text": [
            "\n",
            " 70%|███████   | 14015/20000 [01:24<01:00, 99.53it/s] "
          ]
        },
        {
          "name": "stdout",
          "output_type": "stream",
          "text": [
            "{'eval_loss': 0.37473854422569275, 'eval_accuracy': 0.881, 'eval_runtime': 0.2698, 'eval_samples_per_second': 3706.417, 'eval_steps_per_second': 463.302, 'epoch': 11.2}\n"
          ]
        },
        {
          "name": "stderr",
          "output_type": "stream",
          "text": [
            " 72%|███████▎  | 14500/20000 [01:27<00:27, 200.55it/s]"
          ]
        },
        {
          "name": "stdout",
          "output_type": "stream",
          "text": [
            "{'loss': 0.3061, 'grad_norm': 0.6179391145706177, 'learning_rate': 2.7500000000000004e-05, 'epoch': 11.6}\n"
          ]
        },
        {
          "name": "stderr",
          "output_type": "stream",
          "text": [
            "\n",
            " 73%|███████▎  | 14527/20000 [01:27<00:46, 117.76it/s]"
          ]
        },
        {
          "name": "stdout",
          "output_type": "stream",
          "text": [
            "{'eval_loss': 0.37205424904823303, 'eval_accuracy': 0.877, 'eval_runtime': 0.265, 'eval_samples_per_second': 3773.913, 'eval_steps_per_second': 471.739, 'epoch': 11.6}\n"
          ]
        },
        {
          "name": "stderr",
          "output_type": "stream",
          "text": [
            " 75%|███████▌  | 15000/20000 [01:30<00:25, 193.52it/s]"
          ]
        },
        {
          "name": "stdout",
          "output_type": "stream",
          "text": [
            "{'loss': 0.2967, 'grad_norm': 0.7773591876029968, 'learning_rate': 2.5e-05, 'epoch': 12.0}\n"
          ]
        },
        {
          "name": "stderr",
          "output_type": "stream",
          "text": [
            "\n",
            " 75%|███████▌  | 15023/20000 [01:30<00:44, 112.64it/s]"
          ]
        },
        {
          "name": "stdout",
          "output_type": "stream",
          "text": [
            "{'eval_loss': 0.3700031042098999, 'eval_accuracy': 0.879, 'eval_runtime': 0.3051, 'eval_samples_per_second': 3277.356, 'eval_steps_per_second': 409.669, 'epoch': 12.0}\n"
          ]
        },
        {
          "name": "stderr",
          "output_type": "stream",
          "text": [
            " 78%|███████▊  | 15500/20000 [01:33<00:25, 174.46it/s]"
          ]
        },
        {
          "name": "stdout",
          "output_type": "stream",
          "text": [
            "{'loss': 0.2935, 'grad_norm': 0.7209528684616089, 'learning_rate': 2.25e-05, 'epoch': 12.4}\n"
          ]
        },
        {
          "name": "stderr",
          "output_type": "stream",
          "text": [
            "\n",
            " 78%|███████▊  | 15522/20000 [01:34<00:38, 114.94it/s]"
          ]
        },
        {
          "name": "stdout",
          "output_type": "stream",
          "text": [
            "{'eval_loss': 0.36818501353263855, 'eval_accuracy': 0.879, 'eval_runtime': 0.2678, 'eval_samples_per_second': 3734.248, 'eval_steps_per_second': 466.781, 'epoch': 12.4}\n"
          ]
        },
        {
          "name": "stderr",
          "output_type": "stream",
          "text": [
            " 80%|████████  | 16000/20000 [01:36<00:21, 188.46it/s]"
          ]
        },
        {
          "name": "stdout",
          "output_type": "stream",
          "text": [
            "{'loss': 0.2921, 'grad_norm': 0.5444722175598145, 'learning_rate': 2e-05, 'epoch': 12.8}\n"
          ]
        },
        {
          "name": "stderr",
          "output_type": "stream",
          "text": [
            "\n",
            " 80%|████████  | 16041/20000 [01:37<00:31, 125.40it/s]"
          ]
        },
        {
          "name": "stdout",
          "output_type": "stream",
          "text": [
            "{'eval_loss': 0.36650732159614563, 'eval_accuracy': 0.879, 'eval_runtime': 0.2718, 'eval_samples_per_second': 3679.25, 'eval_steps_per_second': 459.906, 'epoch': 12.8}\n"
          ]
        },
        {
          "name": "stderr",
          "output_type": "stream",
          "text": [
            " 82%|████████▎ | 16500/20000 [01:39<00:18, 186.88it/s]"
          ]
        },
        {
          "name": "stdout",
          "output_type": "stream",
          "text": [
            "{'loss': 0.2893, 'grad_norm': 0.7671304941177368, 'learning_rate': 1.75e-05, 'epoch': 13.2}\n"
          ]
        },
        {
          "name": "stderr",
          "output_type": "stream",
          "text": [
            "\n",
            " 83%|████████▎ | 16534/20000 [01:40<00:28, 122.03it/s]"
          ]
        },
        {
          "name": "stdout",
          "output_type": "stream",
          "text": [
            "{'eval_loss': 0.36460793018341064, 'eval_accuracy': 0.879, 'eval_runtime': 0.2468, 'eval_samples_per_second': 4051.739, 'eval_steps_per_second': 506.467, 'epoch': 13.2}\n"
          ]
        },
        {
          "name": "stderr",
          "output_type": "stream",
          "text": [
            " 85%|████████▌ | 17000/20000 [01:42<00:18, 160.54it/s]"
          ]
        },
        {
          "name": "stdout",
          "output_type": "stream",
          "text": [
            "{'loss': 0.284, 'grad_norm': 0.9091994762420654, 'learning_rate': 1.5e-05, 'epoch': 13.6}\n"
          ]
        },
        {
          "name": "stderr",
          "output_type": "stream",
          "text": [
            "\n",
            " 85%|████████▌ | 17032/20000 [01:43<00:28, 105.35it/s]"
          ]
        },
        {
          "name": "stdout",
          "output_type": "stream",
          "text": [
            "{'eval_loss': 0.36354658007621765, 'eval_accuracy': 0.879, 'eval_runtime': 0.2793, 'eval_samples_per_second': 3580.912, 'eval_steps_per_second': 447.614, 'epoch': 13.6}\n"
          ]
        },
        {
          "name": "stderr",
          "output_type": "stream",
          "text": [
            " 88%|████████▊ | 17500/20000 [01:46<00:14, 168.05it/s]"
          ]
        },
        {
          "name": "stdout",
          "output_type": "stream",
          "text": [
            "{'loss': 0.2849, 'grad_norm': 1.1262788772583008, 'learning_rate': 1.25e-05, 'epoch': 14.0}\n"
          ]
        },
        {
          "name": "stderr",
          "output_type": "stream",
          "text": [
            "\n",
            " 88%|████████▊ | 17529/20000 [01:46<00:22, 112.32it/s]"
          ]
        },
        {
          "name": "stdout",
          "output_type": "stream",
          "text": [
            "{'eval_loss': 0.36270976066589355, 'eval_accuracy': 0.877, 'eval_runtime': 0.2678, 'eval_samples_per_second': 3734.225, 'eval_steps_per_second': 466.778, 'epoch': 14.0}\n"
          ]
        },
        {
          "name": "stderr",
          "output_type": "stream",
          "text": [
            " 90%|█████████ | 18000/20000 [01:49<00:13, 152.50it/s]"
          ]
        },
        {
          "name": "stdout",
          "output_type": "stream",
          "text": [
            "{'loss': 0.2816, 'grad_norm': 0.9295393228530884, 'learning_rate': 1e-05, 'epoch': 14.4}\n"
          ]
        },
        {
          "name": "stderr",
          "output_type": "stream",
          "text": [
            "\n",
            " 90%|█████████ | 18031/20000 [01:50<00:19, 102.47it/s]"
          ]
        },
        {
          "name": "stdout",
          "output_type": "stream",
          "text": [
            "{'eval_loss': 0.3618873953819275, 'eval_accuracy': 0.878, 'eval_runtime': 0.2628, 'eval_samples_per_second': 3805.237, 'eval_steps_per_second': 475.655, 'epoch': 14.4}\n"
          ]
        },
        {
          "name": "stderr",
          "output_type": "stream",
          "text": [
            " 92%|█████████▎| 18500/20000 [01:52<00:07, 197.38it/s]"
          ]
        },
        {
          "name": "stdout",
          "output_type": "stream",
          "text": [
            "{'loss': 0.2818, 'grad_norm': 1.0897672176361084, 'learning_rate': 7.5e-06, 'epoch': 14.8}\n"
          ]
        },
        {
          "name": "stderr",
          "output_type": "stream",
          "text": [
            "\n",
            " 93%|█████████▎| 18513/20000 [01:53<00:13, 106.92it/s]"
          ]
        },
        {
          "name": "stdout",
          "output_type": "stream",
          "text": [
            "{'eval_loss': 0.36121028661727905, 'eval_accuracy': 0.877, 'eval_runtime': 0.2648, 'eval_samples_per_second': 3776.512, 'eval_steps_per_second': 472.064, 'epoch': 14.8}\n"
          ]
        },
        {
          "name": "stderr",
          "output_type": "stream",
          "text": [
            " 95%|█████████▌| 19000/20000 [01:55<00:04, 211.18it/s]"
          ]
        },
        {
          "name": "stdout",
          "output_type": "stream",
          "text": [
            "{'loss': 0.2772, 'grad_norm': 0.7404012680053711, 'learning_rate': 5e-06, 'epoch': 15.2}\n"
          ]
        },
        {
          "name": "stderr",
          "output_type": "stream",
          "text": [
            "\n",
            " 95%|█████████▌| 19034/20000 [01:55<00:07, 131.56it/s]"
          ]
        },
        {
          "name": "stdout",
          "output_type": "stream",
          "text": [
            "{'eval_loss': 0.3605952262878418, 'eval_accuracy': 0.877, 'eval_runtime': 0.2538, 'eval_samples_per_second': 3939.797, 'eval_steps_per_second': 492.475, 'epoch': 15.2}\n"
          ]
        },
        {
          "name": "stderr",
          "output_type": "stream",
          "text": [
            " 98%|█████████▊| 19500/20000 [01:58<00:02, 185.85it/s]"
          ]
        },
        {
          "name": "stdout",
          "output_type": "stream",
          "text": [
            "{'loss': 0.2788, 'grad_norm': 0.9889945387840271, 'learning_rate': 2.5e-06, 'epoch': 15.6}\n"
          ]
        },
        {
          "name": "stderr",
          "output_type": "stream",
          "text": [
            "\n",
            " 98%|█████████▊| 19529/20000 [01:58<00:03, 119.06it/s]"
          ]
        },
        {
          "name": "stdout",
          "output_type": "stream",
          "text": [
            "{'eval_loss': 0.3603634536266327, 'eval_accuracy': 0.877, 'eval_runtime': 0.2638, 'eval_samples_per_second': 3790.68, 'eval_steps_per_second': 473.835, 'epoch': 15.6}\n"
          ]
        },
        {
          "name": "stderr",
          "output_type": "stream",
          "text": [
            "100%|██████████| 20000/20000 [02:01<00:00, 148.49it/s]"
          ]
        },
        {
          "name": "stdout",
          "output_type": "stream",
          "text": [
            "{'loss': 0.281, 'grad_norm': 1.848215937614441, 'learning_rate': 0.0, 'epoch': 16.0}\n"
          ]
        },
        {
          "name": "stderr",
          "output_type": "stream",
          "text": [
            "\n",
            "100%|██████████| 20000/20000 [02:01<00:00, 163.95it/s]\n"
          ]
        },
        {
          "name": "stdout",
          "output_type": "stream",
          "text": [
            "{'eval_loss': 0.3602670431137085, 'eval_accuracy': 0.877, 'eval_runtime': 0.3747, 'eval_samples_per_second': 2668.737, 'eval_steps_per_second': 333.592, 'epoch': 16.0}\n",
            "{'train_runtime': 121.9853, 'train_samples_per_second': 3279.083, 'train_steps_per_second': 163.954, 'train_loss': 0.4262873779296875, 'epoch': 16.0}\n"
          ]
        },
        {
          "name": "stderr",
          "output_type": "stream",
          "text": [
            "100%|██████████| 3125/3125 [00:05<00:00, 529.90it/s]\n",
            "c:\\Python310\\lib\\site-packages\\accelerate\\accelerator.py:432: FutureWarning: Passing the following arguments to `Accelerator` is deprecated and will be removed in version 1.0 of Accelerate: dict_keys(['dispatch_batches', 'split_batches', 'even_batches', 'use_seedable_sampler']). Please pass an `accelerate.DataLoaderConfiguration` instead: \n",
            "dataloader_config = DataLoaderConfiguration(dispatch_batches=None, split_batches=False, even_batches=True, use_seedable_sampler=True)\n",
            "  warnings.warn(\n"
          ]
        },
        {
          "name": "stdout",
          "output_type": "stream",
          "text": [
            "For hyperparameters learning rate: 0.0001 and batch size: 20 we get evaluation results: {'eval_loss': 0.3384949564933777, 'eval_accuracy': 0.88752, 'eval_runtime': 5.9043, 'eval_samples_per_second': 4234.212, 'eval_steps_per_second': 529.277, 'epoch': 16.0}\n"
          ]
        },
        {
          "name": "stderr",
          "output_type": "stream",
          "text": [
            "  2%|▎         | 500/20000 [00:05<02:46, 117.14it/s]"
          ]
        },
        {
          "name": "stdout",
          "output_type": "stream",
          "text": [
            "{'loss': 0.7106, 'grad_norm': 0.43437546491622925, 'learning_rate': 9.75e-05, 'epoch': 0.8}\n"
          ]
        },
        {
          "name": "stderr",
          "output_type": "stream",
          "text": [
            "\n",
            "  3%|▎         | 520/20000 [00:05<04:20, 74.84it/s] "
          ]
        },
        {
          "name": "stdout",
          "output_type": "stream",
          "text": [
            "{'eval_loss': 0.6751135587692261, 'eval_accuracy': 0.543, 'eval_runtime': 0.2798, 'eval_samples_per_second': 3574.214, 'eval_steps_per_second': 446.777, 'epoch': 0.8}\n"
          ]
        },
        {
          "name": "stderr",
          "output_type": "stream",
          "text": [
            "  5%|▌         | 1000/20000 [00:10<02:42, 116.78it/s]"
          ]
        },
        {
          "name": "stdout",
          "output_type": "stream",
          "text": [
            "{'loss': 0.6336, 'grad_norm': 0.714234471321106, 'learning_rate': 9.5e-05, 'epoch': 1.6}\n"
          ]
        },
        {
          "name": "stderr",
          "output_type": "stream",
          "text": [
            "\n",
            "  5%|▌         | 1018/20000 [00:10<04:23, 72.07it/s] "
          ]
        },
        {
          "name": "stdout",
          "output_type": "stream",
          "text": [
            "{'eval_loss': 0.6050335764884949, 'eval_accuracy': 0.611, 'eval_runtime': 0.2768, 'eval_samples_per_second': 3612.911, 'eval_steps_per_second': 451.614, 'epoch': 1.6}\n"
          ]
        },
        {
          "name": "stderr",
          "output_type": "stream",
          "text": [
            "  8%|▊         | 1500/20000 [00:14<02:47, 110.77it/s]"
          ]
        },
        {
          "name": "stdout",
          "output_type": "stream",
          "text": [
            "{'loss': 0.5592, 'grad_norm': 0.697924792766571, 'learning_rate': 9.250000000000001e-05, 'epoch': 2.4}\n"
          ]
        },
        {
          "name": "stderr",
          "output_type": "stream",
          "text": [
            "\n",
            "  8%|▊         | 1517/20000 [00:15<04:04, 75.49it/s] "
          ]
        },
        {
          "name": "stdout",
          "output_type": "stream",
          "text": [
            "{'eval_loss': 0.5518912076950073, 'eval_accuracy': 0.755, 'eval_runtime': 0.2738, 'eval_samples_per_second': 3652.239, 'eval_steps_per_second': 456.53, 'epoch': 2.4}\n"
          ]
        },
        {
          "name": "stderr",
          "output_type": "stream",
          "text": [
            " 10%|█         | 2000/20000 [00:19<02:35, 116.03it/s]"
          ]
        },
        {
          "name": "stdout",
          "output_type": "stream",
          "text": [
            "{'loss': 0.5076, 'grad_norm': 0.6308731436729431, 'learning_rate': 9e-05, 'epoch': 3.2}\n"
          ]
        },
        {
          "name": "stderr",
          "output_type": "stream",
          "text": [
            "\n",
            " 10%|█         | 2013/20000 [00:19<04:15, 70.39it/s] "
          ]
        },
        {
          "name": "stdout",
          "output_type": "stream",
          "text": [
            "{'eval_loss': 0.5140492916107178, 'eval_accuracy': 0.826, 'eval_runtime': 0.2518, 'eval_samples_per_second': 3971.345, 'eval_steps_per_second': 496.418, 'epoch': 3.2}\n"
          ]
        },
        {
          "name": "stderr",
          "output_type": "stream",
          "text": [
            " 12%|█▎        | 2500/20000 [00:23<02:32, 114.78it/s]"
          ]
        },
        {
          "name": "stdout",
          "output_type": "stream",
          "text": [
            "{'loss': 0.4678, 'grad_norm': 0.7280415296554565, 'learning_rate': 8.75e-05, 'epoch': 4.0}\n"
          ]
        },
        {
          "name": "stderr",
          "output_type": "stream",
          "text": [
            "\n",
            " 13%|█▎        | 2513/20000 [00:24<04:04, 71.62it/s] "
          ]
        },
        {
          "name": "stdout",
          "output_type": "stream",
          "text": [
            "{'eval_loss': 0.4839768707752228, 'eval_accuracy': 0.855, 'eval_runtime': 0.2438, 'eval_samples_per_second': 4101.552, 'eval_steps_per_second': 512.694, 'epoch': 4.0}\n"
          ]
        },
        {
          "name": "stderr",
          "output_type": "stream",
          "text": [
            " 15%|█▌        | 3000/20000 [00:28<02:24, 117.50it/s]"
          ]
        },
        {
          "name": "stdout",
          "output_type": "stream",
          "text": [
            "{'loss': 0.4344, 'grad_norm': 0.6449002623558044, 'learning_rate': 8.5e-05, 'epoch': 4.8}\n"
          ]
        },
        {
          "name": "stderr",
          "output_type": "stream",
          "text": [
            "\n",
            " 15%|█▌        | 3018/20000 [00:29<04:05, 69.05it/s] "
          ]
        },
        {
          "name": "stdout",
          "output_type": "stream",
          "text": [
            "{'eval_loss': 0.4597229063510895, 'eval_accuracy': 0.862, 'eval_runtime': 0.2868, 'eval_samples_per_second': 3487.033, 'eval_steps_per_second': 435.879, 'epoch': 4.8}\n"
          ]
        },
        {
          "name": "stderr",
          "output_type": "stream",
          "text": [
            " 18%|█▊        | 3500/20000 [00:34<02:44, 100.08it/s]"
          ]
        },
        {
          "name": "stdout",
          "output_type": "stream",
          "text": [
            "{'loss': 0.4081, 'grad_norm': 0.6376309990882874, 'learning_rate': 8.25e-05, 'epoch': 5.6}\n"
          ]
        },
        {
          "name": "stderr",
          "output_type": "stream",
          "text": [
            "\n",
            " 18%|█▊        | 3515/20000 [00:34<04:46, 57.44it/s] "
          ]
        },
        {
          "name": "stdout",
          "output_type": "stream",
          "text": [
            "{'eval_loss': 0.4408509433269501, 'eval_accuracy': 0.87, 'eval_runtime': 0.3517, 'eval_samples_per_second': 2843.128, 'eval_steps_per_second': 355.391, 'epoch': 5.6}\n"
          ]
        },
        {
          "name": "stderr",
          "output_type": "stream",
          "text": [
            " 20%|██        | 4000/20000 [00:39<02:13, 120.29it/s]"
          ]
        },
        {
          "name": "stdout",
          "output_type": "stream",
          "text": [
            "{'loss': 0.3828, 'grad_norm': 0.7221898436546326, 'learning_rate': 8e-05, 'epoch': 6.4}\n"
          ]
        },
        {
          "name": "stderr",
          "output_type": "stream",
          "text": [
            "\n",
            " 20%|██        | 4020/20000 [00:39<03:24, 78.17it/s] "
          ]
        },
        {
          "name": "stdout",
          "output_type": "stream",
          "text": [
            "{'eval_loss': 0.42397230863571167, 'eval_accuracy': 0.872, 'eval_runtime': 0.2628, 'eval_samples_per_second': 3804.996, 'eval_steps_per_second': 475.624, 'epoch': 6.4}\n"
          ]
        },
        {
          "name": "stderr",
          "output_type": "stream",
          "text": [
            " 22%|██▎       | 4500/20000 [00:43<02:04, 124.14it/s]"
          ]
        },
        {
          "name": "stdout",
          "output_type": "stream",
          "text": [
            "{'loss': 0.3661, 'grad_norm': 0.6974118947982788, 'learning_rate': 7.75e-05, 'epoch': 7.2}\n"
          ]
        },
        {
          "name": "stderr",
          "output_type": "stream",
          "text": [
            "\n",
            " 23%|██▎       | 4511/20000 [00:44<03:26, 75.12it/s] "
          ]
        },
        {
          "name": "stdout",
          "output_type": "stream",
          "text": [
            "{'eval_loss': 0.4105381965637207, 'eval_accuracy': 0.874, 'eval_runtime': 0.2648, 'eval_samples_per_second': 3776.193, 'eval_steps_per_second': 472.024, 'epoch': 7.2}\n"
          ]
        },
        {
          "name": "stderr",
          "output_type": "stream",
          "text": [
            " 25%|██▌       | 5000/20000 [00:48<02:10, 115.34it/s]"
          ]
        },
        {
          "name": "stdout",
          "output_type": "stream",
          "text": [
            "{'loss': 0.3462, 'grad_norm': 0.8744311332702637, 'learning_rate': 7.500000000000001e-05, 'epoch': 8.0}\n"
          ]
        },
        {
          "name": "stderr",
          "output_type": "stream",
          "text": [
            "\n",
            " 25%|██▌       | 5008/20000 [00:48<03:57, 63.15it/s] "
          ]
        },
        {
          "name": "stdout",
          "output_type": "stream",
          "text": [
            "{'eval_loss': 0.3986619710922241, 'eval_accuracy': 0.875, 'eval_runtime': 0.2637, 'eval_samples_per_second': 3792.572, 'eval_steps_per_second': 474.072, 'epoch': 8.0}\n"
          ]
        },
        {
          "name": "stderr",
          "output_type": "stream",
          "text": [
            " 28%|██▊       | 5500/20000 [00:52<02:13, 108.59it/s]"
          ]
        },
        {
          "name": "stdout",
          "output_type": "stream",
          "text": [
            "{'loss': 0.3317, 'grad_norm': 0.8686572909355164, 'learning_rate': 7.25e-05, 'epoch': 8.8}\n"
          ]
        },
        {
          "name": "stderr",
          "output_type": "stream",
          "text": [
            "\n",
            " 28%|██▊       | 5509/20000 [00:53<04:03, 59.49it/s] "
          ]
        },
        {
          "name": "stdout",
          "output_type": "stream",
          "text": [
            "{'eval_loss': 0.3891453742980957, 'eval_accuracy': 0.876, 'eval_runtime': 0.2778, 'eval_samples_per_second': 3600.085, 'eval_steps_per_second': 450.011, 'epoch': 8.8}\n"
          ]
        },
        {
          "name": "stderr",
          "output_type": "stream",
          "text": [
            " 30%|███       | 6000/20000 [00:57<02:21, 98.82it/s] "
          ]
        },
        {
          "name": "stdout",
          "output_type": "stream",
          "text": [
            "{'loss': 0.3151, 'grad_norm': 0.49478963017463684, 'learning_rate': 7e-05, 'epoch': 9.6}\n"
          ]
        },
        {
          "name": "stderr",
          "output_type": "stream",
          "text": [
            "\n",
            " 30%|███       | 6021/20000 [00:58<03:19, 70.24it/s]"
          ]
        },
        {
          "name": "stdout",
          "output_type": "stream",
          "text": [
            "{'eval_loss': 0.38111498951911926, 'eval_accuracy': 0.873, 'eval_runtime': 0.2878, 'eval_samples_per_second': 3474.744, 'eval_steps_per_second': 434.343, 'epoch': 9.6}\n"
          ]
        },
        {
          "name": "stderr",
          "output_type": "stream",
          "text": [
            " 32%|███▎      | 6500/20000 [01:02<02:03, 109.28it/s]"
          ]
        },
        {
          "name": "stdout",
          "output_type": "stream",
          "text": [
            "{'loss': 0.3051, 'grad_norm': 0.6052960753440857, 'learning_rate': 6.750000000000001e-05, 'epoch': 10.4}\n"
          ]
        },
        {
          "name": "stderr",
          "output_type": "stream",
          "text": [
            "\n",
            " 33%|███▎      | 6515/20000 [01:03<03:29, 64.26it/s] "
          ]
        },
        {
          "name": "stdout",
          "output_type": "stream",
          "text": [
            "{'eval_loss': 0.3733939528465271, 'eval_accuracy': 0.874, 'eval_runtime': 0.3048, 'eval_samples_per_second': 3281.248, 'eval_steps_per_second': 410.156, 'epoch': 10.4}\n"
          ]
        },
        {
          "name": "stderr",
          "output_type": "stream",
          "text": [
            " 35%|███▌      | 7000/20000 [01:07<01:55, 112.18it/s]"
          ]
        },
        {
          "name": "stdout",
          "output_type": "stream",
          "text": [
            "{'loss': 0.2932, 'grad_norm': 0.42489829659461975, 'learning_rate': 6.500000000000001e-05, 'epoch': 11.2}\n"
          ]
        },
        {
          "name": "stderr",
          "output_type": "stream",
          "text": [
            "\n",
            " 35%|███▌      | 7023/20000 [01:08<02:59, 72.49it/s] "
          ]
        },
        {
          "name": "stdout",
          "output_type": "stream",
          "text": [
            "{'eval_loss': 0.3671647608280182, 'eval_accuracy': 0.874, 'eval_runtime': 0.2878, 'eval_samples_per_second': 3474.931, 'eval_steps_per_second': 434.366, 'epoch': 11.2}\n"
          ]
        },
        {
          "name": "stderr",
          "output_type": "stream",
          "text": [
            " 38%|███▊      | 7500/20000 [01:12<01:41, 122.70it/s]"
          ]
        },
        {
          "name": "stdout",
          "output_type": "stream",
          "text": [
            "{'loss': 0.2844, 'grad_norm': 0.6699868440628052, 'learning_rate': 6.25e-05, 'epoch': 12.0}\n"
          ]
        },
        {
          "name": "stderr",
          "output_type": "stream",
          "text": [
            "\n",
            " 38%|███▊      | 7514/20000 [01:12<02:34, 80.78it/s] "
          ]
        },
        {
          "name": "stdout",
          "output_type": "stream",
          "text": [
            "{'eval_loss': 0.3621117174625397, 'eval_accuracy': 0.873, 'eval_runtime': 0.2558, 'eval_samples_per_second': 3909.297, 'eval_steps_per_second': 488.662, 'epoch': 12.0}\n"
          ]
        },
        {
          "name": "stderr",
          "output_type": "stream",
          "text": [
            " 40%|████      | 8000/20000 [01:17<01:52, 106.55it/s]"
          ]
        },
        {
          "name": "stdout",
          "output_type": "stream",
          "text": [
            "{'loss': 0.2738, 'grad_norm': 0.4537354111671448, 'learning_rate': 6e-05, 'epoch': 12.8}\n"
          ]
        },
        {
          "name": "stderr",
          "output_type": "stream",
          "text": [
            "\n",
            " 40%|████      | 8018/20000 [01:17<02:50, 70.26it/s] "
          ]
        },
        {
          "name": "stdout",
          "output_type": "stream",
          "text": [
            "{'eval_loss': 0.3574422001838684, 'eval_accuracy': 0.873, 'eval_runtime': 0.2768, 'eval_samples_per_second': 3612.917, 'eval_steps_per_second': 451.615, 'epoch': 12.8}\n"
          ]
        },
        {
          "name": "stderr",
          "output_type": "stream",
          "text": [
            " 42%|████▎     | 8500/20000 [01:22<01:45, 108.87it/s]"
          ]
        },
        {
          "name": "stdout",
          "output_type": "stream",
          "text": [
            "{'loss': 0.2643, 'grad_norm': 0.654819130897522, 'learning_rate': 5.7499999999999995e-05, 'epoch': 13.6}\n"
          ]
        },
        {
          "name": "stderr",
          "output_type": "stream",
          "text": [
            "\n",
            " 43%|████▎     | 8513/20000 [01:22<02:54, 65.80it/s] "
          ]
        },
        {
          "name": "stdout",
          "output_type": "stream",
          "text": [
            "{'eval_loss': 0.3536433279514313, 'eval_accuracy': 0.873, 'eval_runtime': 0.2998, 'eval_samples_per_second': 3335.929, 'eval_steps_per_second': 416.991, 'epoch': 13.6}\n"
          ]
        },
        {
          "name": "stderr",
          "output_type": "stream",
          "text": [
            " 45%|████▌     | 9000/20000 [01:27<01:46, 103.18it/s]"
          ]
        },
        {
          "name": "stdout",
          "output_type": "stream",
          "text": [
            "{'loss': 0.2574, 'grad_norm': 0.7713249921798706, 'learning_rate': 5.500000000000001e-05, 'epoch': 14.4}\n"
          ]
        },
        {
          "name": "stderr",
          "output_type": "stream",
          "text": [
            "\n",
            " 45%|████▌     | 9014/20000 [01:27<02:44, 66.61it/s] "
          ]
        },
        {
          "name": "stdout",
          "output_type": "stream",
          "text": [
            "{'eval_loss': 0.35014256834983826, 'eval_accuracy': 0.876, 'eval_runtime': 0.2978, 'eval_samples_per_second': 3358.315, 'eval_steps_per_second': 419.789, 'epoch': 14.4}\n"
          ]
        },
        {
          "name": "stderr",
          "output_type": "stream",
          "text": [
            " 48%|████▊     | 9500/20000 [01:32<01:41, 103.91it/s]"
          ]
        },
        {
          "name": "stdout",
          "output_type": "stream",
          "text": [
            "{'loss': 0.2498, 'grad_norm': 0.6072271466255188, 'learning_rate': 5.25e-05, 'epoch': 15.2}\n"
          ]
        },
        {
          "name": "stderr",
          "output_type": "stream",
          "text": [
            "\n",
            " 48%|████▊     | 9510/20000 [01:32<03:50, 45.57it/s] "
          ]
        },
        {
          "name": "stdout",
          "output_type": "stream",
          "text": [
            "{'eval_loss': 0.3464977443218231, 'eval_accuracy': 0.876, 'eval_runtime': 0.5216, 'eval_samples_per_second': 1917.204, 'eval_steps_per_second': 239.651, 'epoch': 15.2}\n"
          ]
        },
        {
          "name": "stderr",
          "output_type": "stream",
          "text": [
            " 50%|█████     | 10000/20000 [01:37<02:08, 77.75it/s]"
          ]
        },
        {
          "name": "stdout",
          "output_type": "stream",
          "text": [
            "{'loss': 0.2447, 'grad_norm': 1.032302975654602, 'learning_rate': 5e-05, 'epoch': 16.0}\n"
          ]
        },
        {
          "name": "stderr",
          "output_type": "stream",
          "text": [
            "\n",
            " 50%|█████     | 10021/20000 [01:38<03:03, 54.39it/s]"
          ]
        },
        {
          "name": "stdout",
          "output_type": "stream",
          "text": [
            "{'eval_loss': 0.34387627243995667, 'eval_accuracy': 0.877, 'eval_runtime': 0.3397, 'eval_samples_per_second': 2943.472, 'eval_steps_per_second': 367.934, 'epoch': 16.0}\n"
          ]
        },
        {
          "name": "stderr",
          "output_type": "stream",
          "text": [
            " 52%|█████▎    | 10500/20000 [01:43<01:24, 112.27it/s]"
          ]
        },
        {
          "name": "stdout",
          "output_type": "stream",
          "text": [
            "{'loss': 0.2382, 'grad_norm': 0.7197247743606567, 'learning_rate': 4.75e-05, 'epoch': 16.8}\n"
          ]
        },
        {
          "name": "stderr",
          "output_type": "stream",
          "text": [
            "\n",
            " 53%|█████▎    | 10511/20000 [01:43<02:42, 58.54it/s] "
          ]
        },
        {
          "name": "stdout",
          "output_type": "stream",
          "text": [
            "{'eval_loss': 0.34201470017433167, 'eval_accuracy': 0.875, 'eval_runtime': 0.3997, 'eval_samples_per_second': 2501.946, 'eval_steps_per_second': 312.743, 'epoch': 16.8}\n"
          ]
        },
        {
          "name": "stderr",
          "output_type": "stream",
          "text": [
            " 55%|█████▌    | 11000/20000 [01:48<01:26, 103.72it/s]"
          ]
        },
        {
          "name": "stdout",
          "output_type": "stream",
          "text": [
            "{'loss': 0.2312, 'grad_norm': 0.8600267767906189, 'learning_rate': 4.5e-05, 'epoch': 17.6}\n"
          ]
        },
        {
          "name": "stderr",
          "output_type": "stream",
          "text": [
            "\n",
            " 55%|█████▌    | 11018/20000 [01:49<02:26, 61.23it/s] "
          ]
        },
        {
          "name": "stdout",
          "output_type": "stream",
          "text": [
            "{'eval_loss': 0.33984673023223877, 'eval_accuracy': 0.874, 'eval_runtime': 0.3038, 'eval_samples_per_second': 3292.033, 'eval_steps_per_second': 411.504, 'epoch': 17.6}\n"
          ]
        },
        {
          "name": "stderr",
          "output_type": "stream",
          "text": [
            " 57%|█████▊    | 11500/20000 [01:54<01:28, 96.40it/s] "
          ]
        },
        {
          "name": "stdout",
          "output_type": "stream",
          "text": [
            "{'loss': 0.2269, 'grad_norm': 0.49326297640800476, 'learning_rate': 4.25e-05, 'epoch': 18.4}\n"
          ]
        },
        {
          "name": "stderr",
          "output_type": "stream",
          "text": [
            "\n",
            " 58%|█████▊    | 11515/20000 [01:54<02:25, 58.13it/s]"
          ]
        },
        {
          "name": "stdout",
          "output_type": "stream",
          "text": [
            "{'eval_loss': 0.33791810274124146, 'eval_accuracy': 0.875, 'eval_runtime': 0.3158, 'eval_samples_per_second': 3167.025, 'eval_steps_per_second': 395.878, 'epoch': 18.4}\n"
          ]
        },
        {
          "name": "stderr",
          "output_type": "stream",
          "text": [
            " 60%|██████    | 12000/20000 [01:59<01:19, 100.43it/s]"
          ]
        },
        {
          "name": "stdout",
          "output_type": "stream",
          "text": [
            "{'loss': 0.223, 'grad_norm': 0.9618245959281921, 'learning_rate': 4e-05, 'epoch': 19.2}\n"
          ]
        },
        {
          "name": "stderr",
          "output_type": "stream",
          "text": [
            "\n",
            " 60%|██████    | 12013/20000 [02:00<02:08, 62.05it/s] "
          ]
        },
        {
          "name": "stdout",
          "output_type": "stream",
          "text": [
            "{'eval_loss': 0.3364616930484772, 'eval_accuracy': 0.873, 'eval_runtime': 0.3048, 'eval_samples_per_second': 3281.027, 'eval_steps_per_second': 410.128, 'epoch': 19.2}\n"
          ]
        },
        {
          "name": "stderr",
          "output_type": "stream",
          "text": [
            " 62%|██████▎   | 12500/20000 [02:04<01:19, 94.64it/s] "
          ]
        },
        {
          "name": "stdout",
          "output_type": "stream",
          "text": [
            "{'loss': 0.2166, 'grad_norm': 0.6939095854759216, 'learning_rate': 3.7500000000000003e-05, 'epoch': 20.0}\n"
          ]
        },
        {
          "name": "stderr",
          "output_type": "stream",
          "text": [
            "\n",
            " 63%|██████▎   | 12512/20000 [02:05<02:14, 55.50it/s]"
          ]
        },
        {
          "name": "stdout",
          "output_type": "stream",
          "text": [
            "{'eval_loss': 0.3352200984954834, 'eval_accuracy': 0.873, 'eval_runtime': 0.3375, 'eval_samples_per_second': 2962.937, 'eval_steps_per_second': 370.367, 'epoch': 20.0}\n"
          ]
        },
        {
          "name": "stderr",
          "output_type": "stream",
          "text": [
            " 65%|██████▌   | 13000/20000 [02:10<01:07, 103.88it/s]"
          ]
        },
        {
          "name": "stdout",
          "output_type": "stream",
          "text": [
            "{'loss': 0.2134, 'grad_norm': 1.4237627983093262, 'learning_rate': 3.5e-05, 'epoch': 20.8}\n"
          ]
        },
        {
          "name": "stderr",
          "output_type": "stream",
          "text": [
            "\n",
            " 65%|██████▌   | 13019/20000 [02:10<01:37, 71.70it/s] "
          ]
        },
        {
          "name": "stdout",
          "output_type": "stream",
          "text": [
            "{'eval_loss': 0.33414533734321594, 'eval_accuracy': 0.873, 'eval_runtime': 0.2738, 'eval_samples_per_second': 3652.465, 'eval_steps_per_second': 456.558, 'epoch': 20.8}\n"
          ]
        },
        {
          "name": "stderr",
          "output_type": "stream",
          "text": [
            " 68%|██████▊   | 13500/20000 [02:15<00:56, 114.97it/s]"
          ]
        },
        {
          "name": "stdout",
          "output_type": "stream",
          "text": [
            "{'loss': 0.2099, 'grad_norm': 0.8138411641120911, 'learning_rate': 3.2500000000000004e-05, 'epoch': 21.6}\n"
          ]
        },
        {
          "name": "stderr",
          "output_type": "stream",
          "text": [
            "\n",
            " 68%|██████▊   | 13520/20000 [02:15<01:27, 73.64it/s] "
          ]
        },
        {
          "name": "stdout",
          "output_type": "stream",
          "text": [
            "{'eval_loss': 0.3330768048763275, 'eval_accuracy': 0.872, 'eval_runtime': 0.2778, 'eval_samples_per_second': 3599.909, 'eval_steps_per_second': 449.989, 'epoch': 21.6}\n"
          ]
        },
        {
          "name": "stderr",
          "output_type": "stream",
          "text": [
            " 70%|███████   | 14000/20000 [02:20<01:01, 96.82it/s] "
          ]
        },
        {
          "name": "stdout",
          "output_type": "stream",
          "text": [
            "{'loss': 0.2084, 'grad_norm': 1.2493187189102173, 'learning_rate': 3e-05, 'epoch': 22.4}\n"
          ]
        },
        {
          "name": "stderr",
          "output_type": "stream",
          "text": [
            "\n",
            " 70%|███████   | 14020/20000 [02:20<01:32, 64.64it/s]"
          ]
        },
        {
          "name": "stdout",
          "output_type": "stream",
          "text": [
            "{'eval_loss': 0.33273985981941223, 'eval_accuracy': 0.872, 'eval_runtime': 0.2798, 'eval_samples_per_second': 3574.205, 'eval_steps_per_second': 446.776, 'epoch': 22.4}\n"
          ]
        },
        {
          "name": "stderr",
          "output_type": "stream",
          "text": [
            " 72%|███████▎  | 14500/20000 [02:25<00:52, 105.12it/s]"
          ]
        },
        {
          "name": "stdout",
          "output_type": "stream",
          "text": [
            "{'loss': 0.203, 'grad_norm': 0.7311543226242065, 'learning_rate': 2.7500000000000004e-05, 'epoch': 23.2}\n"
          ]
        },
        {
          "name": "stderr",
          "output_type": "stream",
          "text": [
            "\n",
            " 73%|███████▎  | 14518/20000 [02:25<01:18, 69.93it/s] "
          ]
        },
        {
          "name": "stdout",
          "output_type": "stream",
          "text": [
            "{'eval_loss': 0.33181285858154297, 'eval_accuracy': 0.872, 'eval_runtime': 0.2758, 'eval_samples_per_second': 3626.032, 'eval_steps_per_second': 453.254, 'epoch': 23.2}\n"
          ]
        },
        {
          "name": "stderr",
          "output_type": "stream",
          "text": [
            " 75%|███████▌  | 15000/20000 [02:29<00:44, 111.36it/s]"
          ]
        },
        {
          "name": "stdout",
          "output_type": "stream",
          "text": [
            "{'loss': 0.2003, 'grad_norm': 0.7910260558128357, 'learning_rate': 2.5e-05, 'epoch': 24.0}\n"
          ]
        },
        {
          "name": "stderr",
          "output_type": "stream",
          "text": [
            "\n",
            " 75%|███████▌  | 15016/20000 [02:30<01:10, 70.63it/s] "
          ]
        },
        {
          "name": "stdout",
          "output_type": "stream",
          "text": [
            "{'eval_loss': 0.33172160387039185, 'eval_accuracy': 0.872, 'eval_runtime': 0.2718, 'eval_samples_per_second': 3679.301, 'eval_steps_per_second': 459.913, 'epoch': 24.0}\n"
          ]
        },
        {
          "name": "stderr",
          "output_type": "stream",
          "text": [
            " 78%|███████▊  | 15500/20000 [02:34<00:39, 115.26it/s]"
          ]
        },
        {
          "name": "stdout",
          "output_type": "stream",
          "text": [
            "{'loss': 0.1976, 'grad_norm': 0.7258492708206177, 'learning_rate': 2.25e-05, 'epoch': 24.8}\n"
          ]
        },
        {
          "name": "stderr",
          "output_type": "stream",
          "text": [
            "\n",
            " 78%|███████▊  | 15522/20000 [02:34<01:01, 72.31it/s] "
          ]
        },
        {
          "name": "stdout",
          "output_type": "stream",
          "text": [
            "{'eval_loss': 0.3308607041835785, 'eval_accuracy': 0.872, 'eval_runtime': 0.2948, 'eval_samples_per_second': 3392.462, 'eval_steps_per_second': 424.058, 'epoch': 24.8}\n"
          ]
        },
        {
          "name": "stderr",
          "output_type": "stream",
          "text": [
            " 80%|████████  | 16000/20000 [02:39<00:40, 98.28it/s] "
          ]
        },
        {
          "name": "stdout",
          "output_type": "stream",
          "text": [
            "{'loss': 0.198, 'grad_norm': 0.9010363817214966, 'learning_rate': 2e-05, 'epoch': 25.6}\n"
          ]
        },
        {
          "name": "stderr",
          "output_type": "stream",
          "text": [
            "\n",
            " 80%|████████  | 16017/20000 [02:39<01:00, 65.64it/s]"
          ]
        },
        {
          "name": "stdout",
          "output_type": "stream",
          "text": [
            "{'eval_loss': 0.33045995235443115, 'eval_accuracy': 0.872, 'eval_runtime': 0.2648, 'eval_samples_per_second': 3776.332, 'eval_steps_per_second': 472.042, 'epoch': 25.6}\n"
          ]
        },
        {
          "name": "stderr",
          "output_type": "stream",
          "text": [
            " 82%|████████▎ | 16500/20000 [02:44<00:38, 90.36it/s] "
          ]
        },
        {
          "name": "stdout",
          "output_type": "stream",
          "text": [
            "{'loss': 0.1931, 'grad_norm': 0.783871591091156, 'learning_rate': 1.75e-05, 'epoch': 26.4}\n"
          ]
        },
        {
          "name": "stderr",
          "output_type": "stream",
          "text": [
            "\n",
            " 83%|████████▎ | 16507/20000 [02:45<01:16, 45.73it/s]"
          ]
        },
        {
          "name": "stdout",
          "output_type": "stream",
          "text": [
            "{'eval_loss': 0.33017951250076294, 'eval_accuracy': 0.871, 'eval_runtime': 0.3287, 'eval_samples_per_second': 3041.894, 'eval_steps_per_second': 380.237, 'epoch': 26.4}\n"
          ]
        },
        {
          "name": "stderr",
          "output_type": "stream",
          "text": [
            " 85%|████████▌ | 17000/20000 [02:50<00:28, 104.29it/s]"
          ]
        },
        {
          "name": "stdout",
          "output_type": "stream",
          "text": [
            "{'loss': 0.1922, 'grad_norm': 0.5767889022827148, 'learning_rate': 1.5e-05, 'epoch': 27.2}\n"
          ]
        },
        {
          "name": "stderr",
          "output_type": "stream",
          "text": [
            "\n",
            " 85%|████████▌ | 17020/20000 [02:50<00:44, 66.50it/s] "
          ]
        },
        {
          "name": "stdout",
          "output_type": "stream",
          "text": [
            "{'eval_loss': 0.3295154273509979, 'eval_accuracy': 0.875, 'eval_runtime': 0.2774, 'eval_samples_per_second': 3605.039, 'eval_steps_per_second': 450.63, 'epoch': 27.2}\n"
          ]
        },
        {
          "name": "stderr",
          "output_type": "stream",
          "text": [
            " 88%|████████▊ | 17500/20000 [02:55<00:20, 121.51it/s]"
          ]
        },
        {
          "name": "stdout",
          "output_type": "stream",
          "text": [
            "{'loss': 0.192, 'grad_norm': 0.6619540452957153, 'learning_rate': 1.25e-05, 'epoch': 28.0}\n"
          ]
        },
        {
          "name": "stderr",
          "output_type": "stream",
          "text": [
            "\n",
            " 88%|████████▊ | 17509/20000 [02:55<00:37, 66.42it/s] "
          ]
        },
        {
          "name": "stdout",
          "output_type": "stream",
          "text": [
            "{'eval_loss': 0.32950010895729065, 'eval_accuracy': 0.875, 'eval_runtime': 0.2688, 'eval_samples_per_second': 3720.367, 'eval_steps_per_second': 465.046, 'epoch': 28.0}\n"
          ]
        },
        {
          "name": "stderr",
          "output_type": "stream",
          "text": [
            " 90%|█████████ | 18000/20000 [02:59<00:17, 112.02it/s]"
          ]
        },
        {
          "name": "stdout",
          "output_type": "stream",
          "text": [
            "{'loss': 0.1902, 'grad_norm': 0.5692591667175293, 'learning_rate': 1e-05, 'epoch': 28.8}\n"
          ]
        },
        {
          "name": "stderr",
          "output_type": "stream",
          "text": [
            "\n",
            " 90%|█████████ | 18011/20000 [03:00<00:31, 63.14it/s] "
          ]
        },
        {
          "name": "stdout",
          "output_type": "stream",
          "text": [
            "{'eval_loss': 0.32932350039482117, 'eval_accuracy': 0.875, 'eval_runtime': 0.2632, 'eval_samples_per_second': 3800.07, 'eval_steps_per_second': 475.009, 'epoch': 28.8}\n"
          ]
        },
        {
          "name": "stderr",
          "output_type": "stream",
          "text": [
            " 92%|█████████▎| 18500/20000 [03:04<00:12, 122.60it/s]"
          ]
        },
        {
          "name": "stdout",
          "output_type": "stream",
          "text": [
            "{'loss': 0.1864, 'grad_norm': 0.4777291417121887, 'learning_rate': 7.5e-06, 'epoch': 29.6}\n"
          ]
        },
        {
          "name": "stderr",
          "output_type": "stream",
          "text": [
            "\n",
            " 93%|█████████▎| 18513/20000 [03:04<00:25, 59.46it/s] "
          ]
        },
        {
          "name": "stdout",
          "output_type": "stream",
          "text": [
            "{'eval_loss': 0.32919731736183167, 'eval_accuracy': 0.875, 'eval_runtime': 0.3218, 'eval_samples_per_second': 3107.85, 'eval_steps_per_second': 388.481, 'epoch': 29.6}\n"
          ]
        },
        {
          "name": "stderr",
          "output_type": "stream",
          "text": [
            " 95%|█████████▌| 19000/20000 [03:09<00:08, 117.29it/s]"
          ]
        },
        {
          "name": "stdout",
          "output_type": "stream",
          "text": [
            "{'loss': 0.1883, 'grad_norm': 0.7048215270042419, 'learning_rate': 5e-06, 'epoch': 30.4}\n"
          ]
        },
        {
          "name": "stderr",
          "output_type": "stream",
          "text": [
            "\n",
            " 95%|█████████▌| 19022/20000 [03:09<00:12, 79.15it/s] "
          ]
        },
        {
          "name": "stdout",
          "output_type": "stream",
          "text": [
            "{'eval_loss': 0.32914483547210693, 'eval_accuracy': 0.875, 'eval_runtime': 0.2608, 'eval_samples_per_second': 3834.158, 'eval_steps_per_second': 479.27, 'epoch': 30.4}\n"
          ]
        },
        {
          "name": "stderr",
          "output_type": "stream",
          "text": [
            " 98%|█████████▊| 19500/20000 [03:13<00:04, 111.00it/s]"
          ]
        },
        {
          "name": "stdout",
          "output_type": "stream",
          "text": [
            "{'loss': 0.1883, 'grad_norm': 0.5896105170249939, 'learning_rate': 2.5e-06, 'epoch': 31.2}\n"
          ]
        },
        {
          "name": "stderr",
          "output_type": "stream",
          "text": [
            "\n",
            " 98%|█████████▊| 19517/20000 [03:14<00:06, 70.51it/s] "
          ]
        },
        {
          "name": "stdout",
          "output_type": "stream",
          "text": [
            "{'eval_loss': 0.3291398882865906, 'eval_accuracy': 0.875, 'eval_runtime': 0.2658, 'eval_samples_per_second': 3762.298, 'eval_steps_per_second': 470.287, 'epoch': 31.2}\n"
          ]
        },
        {
          "name": "stderr",
          "output_type": "stream",
          "text": [
            "100%|██████████| 20000/20000 [03:18<00:00, 116.33it/s]"
          ]
        },
        {
          "name": "stdout",
          "output_type": "stream",
          "text": [
            "{'loss': 0.1893, 'grad_norm': 0.7853549718856812, 'learning_rate': 0.0, 'epoch': 32.0}\n"
          ]
        },
        {
          "name": "stderr",
          "output_type": "stream",
          "text": [
            "\n",
            "100%|██████████| 20000/20000 [03:19<00:00, 100.49it/s]\n"
          ]
        },
        {
          "name": "stdout",
          "output_type": "stream",
          "text": [
            "{'eval_loss': 0.32911407947540283, 'eval_accuracy': 0.875, 'eval_runtime': 0.2548, 'eval_samples_per_second': 3924.598, 'eval_steps_per_second': 490.575, 'epoch': 32.0}\n",
            "{'train_runtime': 199.0137, 'train_samples_per_second': 4019.823, 'train_steps_per_second': 100.496, 'train_loss': 0.2930557781219482, 'epoch': 32.0}\n"
          ]
        },
        {
          "name": "stderr",
          "output_type": "stream",
          "text": [
            "100%|██████████| 3125/3125 [00:05<00:00, 546.37it/s]\n",
            "c:\\Python310\\lib\\site-packages\\accelerate\\accelerator.py:432: FutureWarning: Passing the following arguments to `Accelerator` is deprecated and will be removed in version 1.0 of Accelerate: dict_keys(['dispatch_batches', 'split_batches', 'even_batches', 'use_seedable_sampler']). Please pass an `accelerate.DataLoaderConfiguration` instead: \n",
            "dataloader_config = DataLoaderConfiguration(dispatch_batches=None, split_batches=False, even_batches=True, use_seedable_sampler=True)\n",
            "  warnings.warn(\n"
          ]
        },
        {
          "name": "stdout",
          "output_type": "stream",
          "text": [
            "For hyperparameters learning rate: 0.0001 and batch size: 40 we get evaluation results: {'eval_loss': 0.2913130521774292, 'eval_accuracy': 0.88876, 'eval_runtime': 5.7226, 'eval_samples_per_second': 4368.68, 'eval_steps_per_second': 546.085, 'epoch': 32.0}\n"
          ]
        },
        {
          "name": "stderr",
          "output_type": "stream",
          "text": [
            "  2%|▎         | 500/20000 [00:01<01:11, 273.56it/s]"
          ]
        },
        {
          "name": "stdout",
          "output_type": "stream",
          "text": [
            "{'loss': 0.5309, 'grad_norm': 1.1773473024368286, 'learning_rate': 0.000975, 'epoch': 0.2}\n"
          ]
        },
        {
          "name": "stderr",
          "output_type": "stream",
          "text": [
            "\n",
            "  3%|▎         | 536/20000 [00:02<01:56, 167.57it/s]"
          ]
        },
        {
          "name": "stdout",
          "output_type": "stream",
          "text": [
            "{'eval_loss': 0.4446164071559906, 'eval_accuracy': 0.829, 'eval_runtime': 0.2638, 'eval_samples_per_second': 3790.803, 'eval_steps_per_second': 473.85, 'epoch': 0.2}\n"
          ]
        },
        {
          "name": "stderr",
          "output_type": "stream",
          "text": [
            "  5%|▌         | 1000/20000 [00:04<01:17, 246.43it/s]"
          ]
        },
        {
          "name": "stdout",
          "output_type": "stream",
          "text": [
            "{'loss': 0.3504, 'grad_norm': 1.598470687866211, 'learning_rate': 0.00095, 'epoch': 0.4}\n"
          ]
        },
        {
          "name": "stderr",
          "output_type": "stream",
          "text": [
            "\n",
            "  5%|▌         | 1036/20000 [00:04<02:02, 154.68it/s]"
          ]
        },
        {
          "name": "stdout",
          "output_type": "stream",
          "text": [
            "{'eval_loss': 0.35853198170661926, 'eval_accuracy': 0.866, 'eval_runtime': 0.2858, 'eval_samples_per_second': 3499.248, 'eval_steps_per_second': 437.406, 'epoch': 0.4}\n"
          ]
        },
        {
          "name": "stderr",
          "output_type": "stream",
          "text": [
            "  8%|▊         | 1500/20000 [00:06<01:09, 268.08it/s]"
          ]
        },
        {
          "name": "stdout",
          "output_type": "stream",
          "text": [
            "{'loss': 0.2993, 'grad_norm': 2.867716073989868, 'learning_rate': 0.000925, 'epoch': 0.6}\n"
          ]
        },
        {
          "name": "stderr",
          "output_type": "stream",
          "text": [
            "\n",
            "  8%|▊         | 1524/20000 [00:06<02:09, 142.32it/s]"
          ]
        },
        {
          "name": "stdout",
          "output_type": "stream",
          "text": [
            "{'eval_loss': 0.3429846167564392, 'eval_accuracy': 0.871, 'eval_runtime': 0.2808, 'eval_samples_per_second': 3561.47, 'eval_steps_per_second': 445.184, 'epoch': 0.6}\n"
          ]
        },
        {
          "name": "stderr",
          "output_type": "stream",
          "text": [
            " 10%|█         | 2000/20000 [00:08<01:06, 270.08it/s]"
          ]
        },
        {
          "name": "stdout",
          "output_type": "stream",
          "text": [
            "{'loss': 0.2801, 'grad_norm': 4.034694194793701, 'learning_rate': 0.0009000000000000001, 'epoch': 0.8}\n"
          ]
        },
        {
          "name": "stderr",
          "output_type": "stream",
          "text": [
            "\n",
            " 10%|█         | 2026/20000 [00:09<02:02, 146.51it/s]"
          ]
        },
        {
          "name": "stdout",
          "output_type": "stream",
          "text": [
            "{'eval_loss': 0.34505683183670044, 'eval_accuracy': 0.869, 'eval_runtime': 0.2768, 'eval_samples_per_second': 3612.684, 'eval_steps_per_second': 451.585, 'epoch': 0.8}\n"
          ]
        },
        {
          "name": "stderr",
          "output_type": "stream",
          "text": [
            " 12%|█▎        | 2500/20000 [00:10<01:02, 279.45it/s]"
          ]
        },
        {
          "name": "stdout",
          "output_type": "stream",
          "text": [
            "{'loss': 0.2656, 'grad_norm': 3.072589159011841, 'learning_rate': 0.000875, 'epoch': 1.0}\n"
          ]
        },
        {
          "name": "stderr",
          "output_type": "stream",
          "text": [
            "\n",
            " 13%|█▎        | 2549/20000 [00:11<01:36, 181.03it/s]"
          ]
        },
        {
          "name": "stdout",
          "output_type": "stream",
          "text": [
            "{'eval_loss': 0.35202038288116455, 'eval_accuracy': 0.87, 'eval_runtime': 0.2448, 'eval_samples_per_second': 4084.791, 'eval_steps_per_second': 510.599, 'epoch': 1.0}\n"
          ]
        },
        {
          "name": "stderr",
          "output_type": "stream",
          "text": [
            " 15%|█▌        | 3000/20000 [00:12<01:00, 279.18it/s]"
          ]
        },
        {
          "name": "stdout",
          "output_type": "stream",
          "text": [
            "{'loss': 0.1752, 'grad_norm': 1.0274717807769775, 'learning_rate': 0.00085, 'epoch': 1.2}\n"
          ]
        },
        {
          "name": "stderr",
          "output_type": "stream",
          "text": [
            "\n",
            " 15%|█▌        | 3041/20000 [00:13<01:30, 186.47it/s]"
          ]
        },
        {
          "name": "stdout",
          "output_type": "stream",
          "text": [
            "{'eval_loss': 0.35581186413764954, 'eval_accuracy': 0.873, 'eval_runtime': 0.2568, 'eval_samples_per_second': 3894.078, 'eval_steps_per_second': 486.76, 'epoch': 1.2}\n"
          ]
        },
        {
          "name": "stderr",
          "output_type": "stream",
          "text": [
            " 18%|█▊        | 3500/20000 [00:15<01:03, 261.15it/s]"
          ]
        },
        {
          "name": "stdout",
          "output_type": "stream",
          "text": [
            "{'loss': 0.1768, 'grad_norm': 0.7457977533340454, 'learning_rate': 0.000825, 'epoch': 1.4}\n"
          ]
        },
        {
          "name": "stderr",
          "output_type": "stream",
          "text": [
            " 18%|█▊        | 3539/20000 [00:15<01:51, 147.46it/s]"
          ]
        },
        {
          "name": "stdout",
          "output_type": "stream",
          "text": [
            "{'eval_loss': 0.3755180537700653, 'eval_accuracy': 0.869, 'eval_runtime': 0.2909, 'eval_samples_per_second': 3437.413, 'eval_steps_per_second': 429.677, 'epoch': 1.4}\n"
          ]
        },
        {
          "name": "stderr",
          "output_type": "stream",
          "text": [
            " 20%|██        | 4000/20000 [00:17<01:03, 251.22it/s]"
          ]
        },
        {
          "name": "stdout",
          "output_type": "stream",
          "text": [
            "{'loss': 0.1745, 'grad_norm': 2.1836822032928467, 'learning_rate': 0.0008, 'epoch': 1.6}\n"
          ]
        },
        {
          "name": "stderr",
          "output_type": "stream",
          "text": [
            "\n",
            " 20%|██        | 4000/20000 [00:17<01:11, 224.88it/s]\n"
          ]
        },
        {
          "name": "stdout",
          "output_type": "stream",
          "text": [
            "{'eval_loss': 0.38895776867866516, 'eval_accuracy': 0.867, 'eval_runtime': 0.2538, 'eval_samples_per_second': 3940.064, 'eval_steps_per_second': 492.508, 'epoch': 1.6}\n",
            "{'train_runtime': 17.7819, 'train_samples_per_second': 11247.367, 'train_steps_per_second': 1124.737, 'train_loss': 0.2816153526306152, 'epoch': 1.6}\n"
          ]
        },
        {
          "name": "stderr",
          "output_type": "stream",
          "text": [
            "100%|██████████| 3125/3125 [00:05<00:00, 581.85it/s]\n",
            "c:\\Python310\\lib\\site-packages\\accelerate\\accelerator.py:432: FutureWarning: Passing the following arguments to `Accelerator` is deprecated and will be removed in version 1.0 of Accelerate: dict_keys(['dispatch_batches', 'split_batches', 'even_batches', 'use_seedable_sampler']). Please pass an `accelerate.DataLoaderConfiguration` instead: \n",
            "dataloader_config = DataLoaderConfiguration(dispatch_batches=None, split_batches=False, even_batches=True, use_seedable_sampler=True)\n",
            "  warnings.warn(\n"
          ]
        },
        {
          "name": "stdout",
          "output_type": "stream",
          "text": [
            "For hyperparameters learning rate: 0.001 and batch size: 10 we get evaluation results: {'eval_loss': 0.3034606873989105, 'eval_accuracy': 0.87956, 'eval_runtime': 5.3738, 'eval_samples_per_second': 4652.175, 'eval_steps_per_second': 581.522, 'epoch': 1.6}\n"
          ]
        },
        {
          "name": "stderr",
          "output_type": "stream",
          "text": [
            "  2%|▎         | 500/20000 [00:02<01:39, 196.90it/s]"
          ]
        },
        {
          "name": "stdout",
          "output_type": "stream",
          "text": [
            "{'loss': 0.4419, 'grad_norm': 1.6712702512741089, 'learning_rate': 0.000975, 'epoch': 0.4}\n"
          ]
        },
        {
          "name": "stderr",
          "output_type": "stream",
          "text": [
            "\n",
            "  3%|▎         | 531/20000 [00:02<02:27, 132.27it/s]"
          ]
        },
        {
          "name": "stdout",
          "output_type": "stream",
          "text": [
            "{'eval_loss': 0.36144915223121643, 'eval_accuracy': 0.871, 'eval_runtime': 0.2458, 'eval_samples_per_second': 4068.091, 'eval_steps_per_second': 508.511, 'epoch': 0.4}\n"
          ]
        },
        {
          "name": "stderr",
          "output_type": "stream",
          "text": [
            "  5%|▌         | 1000/20000 [00:05<01:37, 195.75it/s]"
          ]
        },
        {
          "name": "stdout",
          "output_type": "stream",
          "text": [
            "{'loss': 0.2993, 'grad_norm': 2.217181444168091, 'learning_rate': 0.00095, 'epoch': 0.8}\n"
          ]
        },
        {
          "name": "stderr",
          "output_type": "stream",
          "text": [
            "\n",
            "  5%|▌         | 1017/20000 [00:05<03:02, 103.90it/s]"
          ]
        },
        {
          "name": "stdout",
          "output_type": "stream",
          "text": [
            "{'eval_loss': 0.33437737822532654, 'eval_accuracy': 0.876, 'eval_runtime': 0.2728, 'eval_samples_per_second': 3665.68, 'eval_steps_per_second': 458.21, 'epoch': 0.8}\n"
          ]
        },
        {
          "name": "stderr",
          "output_type": "stream",
          "text": [
            "  8%|▊         | 1500/20000 [00:08<01:38, 187.45it/s]"
          ]
        },
        {
          "name": "stdout",
          "output_type": "stream",
          "text": [
            "{'loss': 0.2281, 'grad_norm': 1.408534288406372, 'learning_rate': 0.000925, 'epoch': 1.2}\n"
          ]
        },
        {
          "name": "stderr",
          "output_type": "stream",
          "text": [
            "\n",
            "  8%|▊         | 1523/20000 [00:08<02:39, 115.99it/s]"
          ]
        },
        {
          "name": "stdout",
          "output_type": "stream",
          "text": [
            "{'eval_loss': 0.3322394788265228, 'eval_accuracy': 0.871, 'eval_runtime': 0.2418, 'eval_samples_per_second': 4135.13, 'eval_steps_per_second': 516.891, 'epoch': 1.2}\n"
          ]
        },
        {
          "name": "stderr",
          "output_type": "stream",
          "text": [
            " 10%|█         | 2000/20000 [00:11<01:52, 159.71it/s]"
          ]
        },
        {
          "name": "stdout",
          "output_type": "stream",
          "text": [
            "{'loss': 0.1823, 'grad_norm': 1.014578938484192, 'learning_rate': 0.0009000000000000001, 'epoch': 1.6}\n"
          ]
        },
        {
          "name": "stderr",
          "output_type": "stream",
          "text": [
            "\n",
            " 10%|█         | 2032/20000 [00:12<02:55, 102.51it/s]"
          ]
        },
        {
          "name": "stdout",
          "output_type": "stream",
          "text": [
            "{'eval_loss': 0.3524838984012604, 'eval_accuracy': 0.864, 'eval_runtime': 0.2798, 'eval_samples_per_second': 3574.208, 'eval_steps_per_second': 446.776, 'epoch': 1.6}\n"
          ]
        },
        {
          "name": "stderr",
          "output_type": "stream",
          "text": [
            " 12%|█▎        | 2500/20000 [00:14<01:30, 192.45it/s]"
          ]
        },
        {
          "name": "stdout",
          "output_type": "stream",
          "text": [
            "{'loss': 0.1909, 'grad_norm': 2.1370151042938232, 'learning_rate': 0.000875, 'epoch': 2.0}\n"
          ]
        },
        {
          "name": "stderr",
          "output_type": "stream",
          "text": [
            "\n",
            " 13%|█▎        | 2526/20000 [00:14<02:23, 121.89it/s]"
          ]
        },
        {
          "name": "stdout",
          "output_type": "stream",
          "text": [
            "{'eval_loss': 0.3589029908180237, 'eval_accuracy': 0.869, 'eval_runtime': 0.2638, 'eval_samples_per_second': 3790.824, 'eval_steps_per_second': 473.853, 'epoch': 2.0}\n"
          ]
        },
        {
          "name": "stderr",
          "output_type": "stream",
          "text": [
            " 15%|█▌        | 3000/20000 [00:17<01:26, 197.06it/s]"
          ]
        },
        {
          "name": "stdout",
          "output_type": "stream",
          "text": [
            "{'loss': 0.1156, 'grad_norm': 1.7853964567184448, 'learning_rate': 0.00085, 'epoch': 2.4}\n"
          ]
        },
        {
          "name": "stderr",
          "output_type": "stream",
          "text": [
            "\n",
            " 15%|█▌        | 3011/20000 [00:17<02:36, 108.63it/s]"
          ]
        },
        {
          "name": "stdout",
          "output_type": "stream",
          "text": [
            "{'eval_loss': 0.38347238302230835, 'eval_accuracy': 0.861, 'eval_runtime': 0.2588, 'eval_samples_per_second': 3864.016, 'eval_steps_per_second': 483.002, 'epoch': 2.4}\n"
          ]
        },
        {
          "name": "stderr",
          "output_type": "stream",
          "text": [
            " 18%|█▊        | 3500/20000 [00:20<01:57, 139.88it/s]"
          ]
        },
        {
          "name": "stdout",
          "output_type": "stream",
          "text": [
            "{'loss': 0.132, 'grad_norm': 1.1162736415863037, 'learning_rate': 0.000825, 'epoch': 2.8}\n"
          ]
        },
        {
          "name": "stderr",
          "output_type": "stream",
          "text": [
            "\n",
            " 18%|█▊        | 3518/20000 [00:21<02:57, 92.97it/s] "
          ]
        },
        {
          "name": "stdout",
          "output_type": "stream",
          "text": [
            "{'eval_loss': 0.38702645897865295, 'eval_accuracy': 0.862, 'eval_runtime': 0.2738, 'eval_samples_per_second': 3652.461, 'eval_steps_per_second': 456.558, 'epoch': 2.8}\n"
          ]
        },
        {
          "name": "stderr",
          "output_type": "stream",
          "text": [
            " 20%|██        | 4000/20000 [00:24<01:47, 149.07it/s]"
          ]
        },
        {
          "name": "stdout",
          "output_type": "stream",
          "text": [
            "{'loss': 0.1041, 'grad_norm': 2.154952049255371, 'learning_rate': 0.0008, 'epoch': 3.2}\n"
          ]
        },
        {
          "name": "stderr",
          "output_type": "stream",
          "text": [
            "\n",
            " 20%|██        | 4000/20000 [00:24<01:38, 163.08it/s]\n"
          ]
        },
        {
          "name": "stdout",
          "output_type": "stream",
          "text": [
            "{'eval_loss': 0.4286779761314392, 'eval_accuracy': 0.851, 'eval_runtime': 0.2578, 'eval_samples_per_second': 3878.978, 'eval_steps_per_second': 484.872, 'epoch': 3.2}\n",
            "{'train_runtime': 24.5205, 'train_samples_per_second': 16312.881, 'train_steps_per_second': 815.644, 'train_loss': 0.2117819709777832, 'epoch': 3.2}\n"
          ]
        },
        {
          "name": "stderr",
          "output_type": "stream",
          "text": [
            "100%|██████████| 3125/3125 [00:05<00:00, 555.99it/s]\n",
            "c:\\Python310\\lib\\site-packages\\accelerate\\accelerator.py:432: FutureWarning: Passing the following arguments to `Accelerator` is deprecated and will be removed in version 1.0 of Accelerate: dict_keys(['dispatch_batches', 'split_batches', 'even_batches', 'use_seedable_sampler']). Please pass an `accelerate.DataLoaderConfiguration` instead: \n",
            "dataloader_config = DataLoaderConfiguration(dispatch_batches=None, split_batches=False, even_batches=True, use_seedable_sampler=True)\n",
            "  warnings.warn(\n"
          ]
        },
        {
          "name": "stdout",
          "output_type": "stream",
          "text": [
            "For hyperparameters learning rate: 0.001 and batch size: 20 we get evaluation results: {'eval_loss': 0.2831920087337494, 'eval_accuracy': 0.88544, 'eval_runtime': 5.6256, 'eval_samples_per_second': 4443.942, 'eval_steps_per_second': 555.493, 'epoch': 3.2}\n"
          ]
        },
        {
          "name": "stderr",
          "output_type": "stream",
          "text": [
            "  2%|▎         | 500/20000 [00:04<02:42, 120.00it/s]"
          ]
        },
        {
          "name": "stdout",
          "output_type": "stream",
          "text": [
            "{'loss': 0.4663, 'grad_norm': 1.0219820737838745, 'learning_rate': 0.000975, 'epoch': 0.8}\n"
          ]
        },
        {
          "name": "stderr",
          "output_type": "stream",
          "text": [
            "\n",
            "  3%|▎         | 511/20000 [00:04<04:35, 70.66it/s] "
          ]
        },
        {
          "name": "stdout",
          "output_type": "stream",
          "text": [
            "{'eval_loss': 0.38143444061279297, 'eval_accuracy': 0.873, 'eval_runtime': 0.2428, 'eval_samples_per_second': 4118.463, 'eval_steps_per_second': 514.808, 'epoch': 0.8}\n"
          ]
        },
        {
          "name": "stderr",
          "output_type": "stream",
          "text": [
            "  5%|▌         | 1000/20000 [00:08<02:28, 127.86it/s]"
          ]
        },
        {
          "name": "stdout",
          "output_type": "stream",
          "text": [
            "{'loss': 0.2735, 'grad_norm': 0.7944402098655701, 'learning_rate': 0.00095, 'epoch': 1.6}\n"
          ]
        },
        {
          "name": "stderr",
          "output_type": "stream",
          "text": [
            "\n",
            "  5%|▌         | 1019/20000 [00:09<03:55, 80.63it/s] "
          ]
        },
        {
          "name": "stdout",
          "output_type": "stream",
          "text": [
            "{'eval_loss': 0.3343994617462158, 'eval_accuracy': 0.873, 'eval_runtime': 0.2418, 'eval_samples_per_second': 4135.424, 'eval_steps_per_second': 516.928, 'epoch': 1.6}\n"
          ]
        },
        {
          "name": "stderr",
          "output_type": "stream",
          "text": [
            "  8%|▊         | 1500/20000 [00:13<02:43, 113.49it/s]"
          ]
        },
        {
          "name": "stdout",
          "output_type": "stream",
          "text": [
            "{'loss': 0.2013, 'grad_norm': 0.997593879699707, 'learning_rate': 0.000925, 'epoch': 2.4}\n"
          ]
        },
        {
          "name": "stderr",
          "output_type": "stream",
          "text": [
            "\n",
            "  8%|▊         | 1515/20000 [00:13<04:23, 70.05it/s] "
          ]
        },
        {
          "name": "stdout",
          "output_type": "stream",
          "text": [
            "{'eval_loss': 0.33313220739364624, 'eval_accuracy': 0.869, 'eval_runtime': 0.2608, 'eval_samples_per_second': 3834.4, 'eval_steps_per_second': 479.3, 'epoch': 2.4}\n"
          ]
        },
        {
          "name": "stderr",
          "output_type": "stream",
          "text": [
            " 10%|█         | 2000/20000 [00:17<02:24, 124.25it/s]"
          ]
        },
        {
          "name": "stdout",
          "output_type": "stream",
          "text": [
            "{'loss': 0.1583, 'grad_norm': 0.631340742111206, 'learning_rate': 0.0009000000000000001, 'epoch': 3.2}\n"
          ]
        },
        {
          "name": "stderr",
          "output_type": "stream",
          "text": [
            "\n",
            " 10%|█         | 2011/20000 [00:18<04:27, 67.23it/s] "
          ]
        },
        {
          "name": "stdout",
          "output_type": "stream",
          "text": [
            "{'eval_loss': 0.34486937522888184, 'eval_accuracy': 0.866, 'eval_runtime': 0.2558, 'eval_samples_per_second': 3909.268, 'eval_steps_per_second': 488.658, 'epoch': 3.2}\n"
          ]
        },
        {
          "name": "stderr",
          "output_type": "stream",
          "text": [
            " 12%|█▎        | 2500/20000 [00:22<02:26, 119.60it/s]"
          ]
        },
        {
          "name": "stdout",
          "output_type": "stream",
          "text": [
            "{'loss': 0.1273, 'grad_norm': 1.132146954536438, 'learning_rate': 0.000875, 'epoch': 4.0}\n"
          ]
        },
        {
          "name": "stderr",
          "output_type": "stream",
          "text": [
            "\n",
            " 13%|█▎        | 2510/20000 [00:22<04:18, 67.78it/s] "
          ]
        },
        {
          "name": "stdout",
          "output_type": "stream",
          "text": [
            "{'eval_loss': 0.36292633414268494, 'eval_accuracy': 0.863, 'eval_runtime': 0.2558, 'eval_samples_per_second': 3909.227, 'eval_steps_per_second': 488.653, 'epoch': 4.0}\n"
          ]
        },
        {
          "name": "stderr",
          "output_type": "stream",
          "text": [
            " 15%|█▌        | 3000/20000 [00:26<02:52, 98.40it/s] "
          ]
        },
        {
          "name": "stdout",
          "output_type": "stream",
          "text": [
            "{'loss': 0.0962, 'grad_norm': 0.19729264080524445, 'learning_rate': 0.00085, 'epoch': 4.8}\n"
          ]
        },
        {
          "name": "stderr",
          "output_type": "stream",
          "text": [
            "\n",
            " 15%|█▌        | 3013/20000 [00:27<04:10, 67.69it/s]"
          ]
        },
        {
          "name": "stdout",
          "output_type": "stream",
          "text": [
            "{'eval_loss': 0.39164575934410095, 'eval_accuracy': 0.854, 'eval_runtime': 0.2678, 'eval_samples_per_second': 3734.262, 'eval_steps_per_second': 466.783, 'epoch': 4.8}\n"
          ]
        },
        {
          "name": "stderr",
          "output_type": "stream",
          "text": [
            " 18%|█▊        | 3500/20000 [00:31<02:41, 102.16it/s]"
          ]
        },
        {
          "name": "stdout",
          "output_type": "stream",
          "text": [
            "{'loss': 0.0778, 'grad_norm': 1.0712467432022095, 'learning_rate': 0.000825, 'epoch': 5.6}\n"
          ]
        },
        {
          "name": "stderr",
          "output_type": "stream",
          "text": [
            "\n",
            " 18%|█▊        | 3516/20000 [00:32<04:22, 62.71it/s] "
          ]
        },
        {
          "name": "stdout",
          "output_type": "stream",
          "text": [
            "{'eval_loss': 0.4142557978630066, 'eval_accuracy': 0.851, 'eval_runtime': 0.3046, 'eval_samples_per_second': 3282.776, 'eval_steps_per_second': 410.347, 'epoch': 5.6}\n"
          ]
        },
        {
          "name": "stderr",
          "output_type": "stream",
          "text": [
            " 20%|██        | 4000/20000 [00:36<02:07, 125.39it/s]"
          ]
        },
        {
          "name": "stdout",
          "output_type": "stream",
          "text": [
            "{'loss': 0.0634, 'grad_norm': 0.297736793756485, 'learning_rate': 0.0008, 'epoch': 6.4}\n"
          ]
        },
        {
          "name": "stderr",
          "output_type": "stream",
          "text": [
            "\n",
            " 20%|██        | 4000/20000 [00:36<02:25, 109.61it/s]\n"
          ]
        },
        {
          "name": "stdout",
          "output_type": "stream",
          "text": [
            "{'eval_loss': 0.4432598948478699, 'eval_accuracy': 0.857, 'eval_runtime': 0.2568, 'eval_samples_per_second': 3893.894, 'eval_steps_per_second': 486.737, 'epoch': 6.4}\n",
            "{'train_runtime': 36.4888, 'train_samples_per_second': 21924.565, 'train_steps_per_second': 548.114, 'train_loss': 0.1830099754333496, 'epoch': 6.4}\n"
          ]
        },
        {
          "name": "stderr",
          "output_type": "stream",
          "text": [
            "100%|██████████| 3125/3125 [00:05<00:00, 591.11it/s]\n",
            "c:\\Python310\\lib\\site-packages\\accelerate\\accelerator.py:432: FutureWarning: Passing the following arguments to `Accelerator` is deprecated and will be removed in version 1.0 of Accelerate: dict_keys(['dispatch_batches', 'split_batches', 'even_batches', 'use_seedable_sampler']). Please pass an `accelerate.DataLoaderConfiguration` instead: \n",
            "dataloader_config = DataLoaderConfiguration(dispatch_batches=None, split_batches=False, even_batches=True, use_seedable_sampler=True)\n",
            "  warnings.warn(\n"
          ]
        },
        {
          "name": "stdout",
          "output_type": "stream",
          "text": [
            "For hyperparameters learning rate: 0.001 and batch size: 40 we get evaluation results: {'eval_loss': 0.2855886220932007, 'eval_accuracy': 0.88712, 'eval_runtime': 5.2917, 'eval_samples_per_second': 4724.42, 'eval_steps_per_second': 590.552, 'epoch': 6.4}\n"
          ]
        },
        {
          "name": "stderr",
          "output_type": "stream",
          "text": [
            "  2%|▎         | 500/20000 [00:01<01:07, 289.99it/s]"
          ]
        },
        {
          "name": "stdout",
          "output_type": "stream",
          "text": [
            "{'loss': 0.4943, 'grad_norm': 0.3607471287250519, 'learning_rate': 0.00975, 'epoch': 0.2}\n"
          ]
        },
        {
          "name": "stderr",
          "output_type": "stream",
          "text": [
            "\n",
            "  3%|▎         | 551/20000 [00:02<01:39, 195.70it/s]"
          ]
        },
        {
          "name": "stdout",
          "output_type": "stream",
          "text": [
            "{'eval_loss': 0.433743417263031, 'eval_accuracy': 0.829, 'eval_runtime': 0.2368, 'eval_samples_per_second': 4222.702, 'eval_steps_per_second': 527.838, 'epoch': 0.2}\n"
          ]
        },
        {
          "name": "stderr",
          "output_type": "stream",
          "text": [
            "  5%|▌         | 1000/20000 [00:03<01:05, 288.84it/s]"
          ]
        },
        {
          "name": "stdout",
          "output_type": "stream",
          "text": [
            "{'loss': 0.3811, 'grad_norm': 1.783111572265625, 'learning_rate': 0.0095, 'epoch': 0.4}\n"
          ]
        },
        {
          "name": "stderr",
          "output_type": "stream",
          "text": [
            "\n",
            "  5%|▌         | 1031/20000 [00:04<01:40, 189.39it/s]"
          ]
        },
        {
          "name": "stdout",
          "output_type": "stream",
          "text": [
            "{'eval_loss': 0.4259308874607086, 'eval_accuracy': 0.836, 'eval_runtime': 0.2528, 'eval_samples_per_second': 3955.379, 'eval_steps_per_second': 494.422, 'epoch': 0.4}\n"
          ]
        },
        {
          "name": "stderr",
          "output_type": "stream",
          "text": [
            "  8%|▊         | 1500/20000 [00:05<01:03, 292.52it/s]"
          ]
        },
        {
          "name": "stdout",
          "output_type": "stream",
          "text": [
            "{'loss': 0.37, 'grad_norm': 0.2157423347234726, 'learning_rate': 0.009250000000000001, 'epoch': 0.6}\n"
          ]
        },
        {
          "name": "stderr",
          "output_type": "stream",
          "text": [
            "\n",
            "  8%|▊         | 1539/20000 [00:06<01:37, 190.12it/s]"
          ]
        },
        {
          "name": "stdout",
          "output_type": "stream",
          "text": [
            "{'eval_loss': 0.4183408319950104, 'eval_accuracy': 0.842, 'eval_runtime': 0.2208, 'eval_samples_per_second': 4528.42, 'eval_steps_per_second': 566.052, 'epoch': 0.6}\n"
          ]
        },
        {
          "name": "stderr",
          "output_type": "stream",
          "text": [
            " 10%|█         | 2000/20000 [00:07<01:01, 290.37it/s]"
          ]
        },
        {
          "name": "stdout",
          "output_type": "stream",
          "text": [
            "{'loss': 0.351, 'grad_norm': 0.6581288576126099, 'learning_rate': 0.009000000000000001, 'epoch': 0.8}\n"
          ]
        },
        {
          "name": "stderr",
          "output_type": "stream",
          "text": [
            "\n",
            " 10%|█         | 2052/20000 [00:08<01:36, 185.46it/s]"
          ]
        },
        {
          "name": "stdout",
          "output_type": "stream",
          "text": [
            "{'eval_loss': 0.4029938280582428, 'eval_accuracy': 0.851, 'eval_runtime': 0.2718, 'eval_samples_per_second': 3679.095, 'eval_steps_per_second': 459.887, 'epoch': 0.8}\n"
          ]
        },
        {
          "name": "stderr",
          "output_type": "stream",
          "text": [
            " 12%|█▎        | 2500/20000 [00:09<01:02, 281.69it/s]"
          ]
        },
        {
          "name": "stdout",
          "output_type": "stream",
          "text": [
            "{'loss': 0.3639, 'grad_norm': 1.2390251159667969, 'learning_rate': 0.00875, 'epoch': 1.0}\n"
          ]
        },
        {
          "name": "stderr",
          "output_type": "stream",
          "text": [
            "\n",
            " 13%|█▎        | 2538/20000 [00:10<01:40, 174.04it/s]"
          ]
        },
        {
          "name": "stdout",
          "output_type": "stream",
          "text": [
            "{'eval_loss': 0.43313825130462646, 'eval_accuracy': 0.845, 'eval_runtime': 0.2379, 'eval_samples_per_second': 4204.192, 'eval_steps_per_second': 525.524, 'epoch': 1.0}\n"
          ]
        },
        {
          "name": "stderr",
          "output_type": "stream",
          "text": [
            " 15%|█▌        | 3000/20000 [00:11<01:01, 278.55it/s]"
          ]
        },
        {
          "name": "stdout",
          "output_type": "stream",
          "text": [
            "{'loss': 0.2546, 'grad_norm': 0.12498846650123596, 'learning_rate': 0.0085, 'epoch': 1.2}\n"
          ]
        },
        {
          "name": "stderr",
          "output_type": "stream",
          "text": [
            "\n",
            " 15%|█▌        | 3039/20000 [00:12<01:40, 169.04it/s]"
          ]
        },
        {
          "name": "stdout",
          "output_type": "stream",
          "text": [
            "{'eval_loss': 0.43474358320236206, 'eval_accuracy': 0.849, 'eval_runtime': 0.2508, 'eval_samples_per_second': 3987.17, 'eval_steps_per_second': 498.396, 'epoch': 1.2}\n"
          ]
        },
        {
          "name": "stderr",
          "output_type": "stream",
          "text": [
            " 18%|█▊        | 3500/20000 [00:14<01:06, 247.49it/s]"
          ]
        },
        {
          "name": "stdout",
          "output_type": "stream",
          "text": [
            "{'loss': 0.2567, 'grad_norm': 0.08941268920898438, 'learning_rate': 0.00825, 'epoch': 1.4}\n"
          ]
        },
        {
          "name": "stderr",
          "output_type": "stream",
          "text": [
            "\n",
            " 18%|█▊        | 3534/20000 [00:14<01:49, 150.55it/s]"
          ]
        },
        {
          "name": "stdout",
          "output_type": "stream",
          "text": [
            "{'eval_loss': 0.46466711163520813, 'eval_accuracy': 0.834, 'eval_runtime': 0.2708, 'eval_samples_per_second': 3692.907, 'eval_steps_per_second': 461.613, 'epoch': 1.4}\n"
          ]
        },
        {
          "name": "stderr",
          "output_type": "stream",
          "text": [
            " 20%|██        | 4000/20000 [00:16<00:58, 273.15it/s]"
          ]
        },
        {
          "name": "stdout",
          "output_type": "stream",
          "text": [
            "{'loss': 0.2595, 'grad_norm': 1.4479868412017822, 'learning_rate': 0.008, 'epoch': 1.6}\n"
          ]
        },
        {
          "name": "stderr",
          "output_type": "stream",
          "text": [
            "\n",
            " 20%|██        | 4035/20000 [00:16<01:35, 166.81it/s]"
          ]
        },
        {
          "name": "stdout",
          "output_type": "stream",
          "text": [
            "{'eval_loss': 0.46975937485694885, 'eval_accuracy': 0.833, 'eval_runtime': 0.2558, 'eval_samples_per_second': 3909.275, 'eval_steps_per_second': 488.659, 'epoch': 1.6}\n"
          ]
        },
        {
          "name": "stderr",
          "output_type": "stream",
          "text": [
            " 22%|██▎       | 4500/20000 [00:18<00:54, 282.25it/s]"
          ]
        },
        {
          "name": "stdout",
          "output_type": "stream",
          "text": [
            "{'loss': 0.2656, 'grad_norm': 0.294146865606308, 'learning_rate': 0.007750000000000001, 'epoch': 1.8}\n"
          ]
        },
        {
          "name": "stderr",
          "output_type": "stream",
          "text": [
            "\n",
            " 22%|██▎       | 4500/20000 [00:18<01:04, 240.46it/s]\n"
          ]
        },
        {
          "name": "stdout",
          "output_type": "stream",
          "text": [
            "{'eval_loss': 0.4641823470592499, 'eval_accuracy': 0.841, 'eval_runtime': 0.2468, 'eval_samples_per_second': 4051.763, 'eval_steps_per_second': 506.47, 'epoch': 1.8}\n",
            "{'train_runtime': 18.7105, 'train_samples_per_second': 10689.211, 'train_steps_per_second': 1068.921, 'train_loss': 0.3329602627224392, 'epoch': 1.8}\n"
          ]
        },
        {
          "name": "stderr",
          "output_type": "stream",
          "text": [
            "100%|██████████| 3125/3125 [00:05<00:00, 589.41it/s]\n",
            "c:\\Python310\\lib\\site-packages\\accelerate\\accelerator.py:432: FutureWarning: Passing the following arguments to `Accelerator` is deprecated and will be removed in version 1.0 of Accelerate: dict_keys(['dispatch_batches', 'split_batches', 'even_batches', 'use_seedable_sampler']). Please pass an `accelerate.DataLoaderConfiguration` instead: \n",
            "dataloader_config = DataLoaderConfiguration(dispatch_batches=None, split_batches=False, even_batches=True, use_seedable_sampler=True)\n",
            "  warnings.warn(\n"
          ]
        },
        {
          "name": "stdout",
          "output_type": "stream",
          "text": [
            "For hyperparameters learning rate: 0.01 and batch size: 10 we get evaluation results: {'eval_loss': 0.3671673834323883, 'eval_accuracy': 0.86356, 'eval_runtime': 5.3059, 'eval_samples_per_second': 4711.778, 'eval_steps_per_second': 588.972, 'epoch': 1.8}\n"
          ]
        },
        {
          "name": "stderr",
          "output_type": "stream",
          "text": [
            "  2%|▎         | 500/20000 [00:02<01:30, 216.26it/s]"
          ]
        },
        {
          "name": "stdout",
          "output_type": "stream",
          "text": [
            "{'loss': 0.4463, 'grad_norm': 0.9565253853797913, 'learning_rate': 0.00975, 'epoch': 0.4}\n"
          ]
        },
        {
          "name": "stderr",
          "output_type": "stream",
          "text": [
            "\n",
            "  3%|▎         | 522/20000 [00:02<02:45, 117.66it/s]"
          ]
        },
        {
          "name": "stdout",
          "output_type": "stream",
          "text": [
            "{'eval_loss': 0.3940708041191101, 'eval_accuracy': 0.845, 'eval_runtime': 0.2598, 'eval_samples_per_second': 3849.158, 'eval_steps_per_second': 481.145, 'epoch': 0.4}\n"
          ]
        },
        {
          "name": "stderr",
          "output_type": "stream",
          "text": [
            "  5%|▌         | 1000/20000 [00:05<02:03, 153.80it/s]"
          ]
        },
        {
          "name": "stdout",
          "output_type": "stream",
          "text": [
            "{'loss': 0.3603, 'grad_norm': 0.7778401374816895, 'learning_rate': 0.0095, 'epoch': 0.8}\n"
          ]
        },
        {
          "name": "stderr",
          "output_type": "stream",
          "text": [
            "\n",
            "  5%|▌         | 1026/20000 [00:06<02:47, 113.11it/s]"
          ]
        },
        {
          "name": "stdout",
          "output_type": "stream",
          "text": [
            "{'eval_loss': 0.4420880079269409, 'eval_accuracy': 0.82, 'eval_runtime': 0.2528, 'eval_samples_per_second': 3955.443, 'eval_steps_per_second': 494.43, 'epoch': 0.8}\n"
          ]
        },
        {
          "name": "stderr",
          "output_type": "stream",
          "text": [
            "  8%|▊         | 1500/20000 [00:08<01:34, 196.77it/s]"
          ]
        },
        {
          "name": "stdout",
          "output_type": "stream",
          "text": [
            "{'loss': 0.2989, 'grad_norm': 0.7556748986244202, 'learning_rate': 0.009250000000000001, 'epoch': 1.2}\n"
          ]
        },
        {
          "name": "stderr",
          "output_type": "stream",
          "text": [
            "\n",
            "  8%|▊         | 1524/20000 [00:09<02:28, 124.80it/s]"
          ]
        },
        {
          "name": "stdout",
          "output_type": "stream",
          "text": [
            "{'eval_loss': 0.41949954628944397, 'eval_accuracy': 0.851, 'eval_runtime': 0.2528, 'eval_samples_per_second': 3955.659, 'eval_steps_per_second': 494.457, 'epoch': 1.2}\n"
          ]
        },
        {
          "name": "stderr",
          "output_type": "stream",
          "text": [
            " 10%|█         | 2000/20000 [00:11<01:53, 158.97it/s]"
          ]
        },
        {
          "name": "stdout",
          "output_type": "stream",
          "text": [
            "{'loss': 0.2497, 'grad_norm': 0.08922337740659714, 'learning_rate': 0.009000000000000001, 'epoch': 1.6}\n"
          ]
        },
        {
          "name": "stderr",
          "output_type": "stream",
          "text": [
            "\n",
            " 10%|█         | 2030/20000 [00:12<02:52, 103.94it/s]"
          ]
        },
        {
          "name": "stdout",
          "output_type": "stream",
          "text": [
            "{'eval_loss': 0.4352790415287018, 'eval_accuracy': 0.844, 'eval_runtime': 0.2828, 'eval_samples_per_second': 3536.322, 'eval_steps_per_second': 442.04, 'epoch': 1.6}\n"
          ]
        },
        {
          "name": "stderr",
          "output_type": "stream",
          "text": [
            " 12%|█▎        | 2500/20000 [00:14<01:29, 195.21it/s]"
          ]
        },
        {
          "name": "stdout",
          "output_type": "stream",
          "text": [
            "{'loss': 0.2576, 'grad_norm': 0.47513827681541443, 'learning_rate': 0.00875, 'epoch': 2.0}\n"
          ]
        },
        {
          "name": "stderr",
          "output_type": "stream",
          "text": [
            "\n",
            " 13%|█▎        | 2519/20000 [00:15<02:40, 108.83it/s]"
          ]
        },
        {
          "name": "stdout",
          "output_type": "stream",
          "text": [
            "{'eval_loss': 0.45004311203956604, 'eval_accuracy': 0.845, 'eval_runtime': 0.2438, 'eval_samples_per_second': 4101.56, 'eval_steps_per_second': 512.695, 'epoch': 2.0}\n"
          ]
        },
        {
          "name": "stderr",
          "output_type": "stream",
          "text": [
            " 15%|█▌        | 3000/20000 [00:17<01:48, 156.66it/s]"
          ]
        },
        {
          "name": "stdout",
          "output_type": "stream",
          "text": [
            "{'loss': 0.1926, 'grad_norm': 1.3609503507614136, 'learning_rate': 0.0085, 'epoch': 2.4}\n"
          ]
        },
        {
          "name": "stderr",
          "output_type": "stream",
          "text": [
            "\n",
            " 15%|█▌        | 3000/20000 [00:18<01:43, 164.38it/s]\n"
          ]
        },
        {
          "name": "stdout",
          "output_type": "stream",
          "text": [
            "{'eval_loss': 0.45371168851852417, 'eval_accuracy': 0.852, 'eval_runtime': 0.3517, 'eval_samples_per_second': 2843.128, 'eval_steps_per_second': 355.391, 'epoch': 2.4}\n",
            "{'train_runtime': 18.2445, 'train_samples_per_second': 21924.423, 'train_steps_per_second': 1096.221, 'train_loss': 0.3008941853841146, 'epoch': 2.4}\n"
          ]
        },
        {
          "name": "stderr",
          "output_type": "stream",
          "text": [
            "100%|██████████| 3125/3125 [00:05<00:00, 532.69it/s]\n",
            "c:\\Python310\\lib\\site-packages\\accelerate\\accelerator.py:432: FutureWarning: Passing the following arguments to `Accelerator` is deprecated and will be removed in version 1.0 of Accelerate: dict_keys(['dispatch_batches', 'split_batches', 'even_batches', 'use_seedable_sampler']). Please pass an `accelerate.DataLoaderConfiguration` instead: \n",
            "dataloader_config = DataLoaderConfiguration(dispatch_batches=None, split_batches=False, even_batches=True, use_seedable_sampler=True)\n",
            "  warnings.warn(\n"
          ]
        },
        {
          "name": "stdout",
          "output_type": "stream",
          "text": [
            "For hyperparameters learning rate: 0.01 and batch size: 20 we get evaluation results: {'eval_loss': 0.3834460973739624, 'eval_accuracy': 0.84712, 'eval_runtime': 5.8735, 'eval_samples_per_second': 4256.438, 'eval_steps_per_second': 532.055, 'epoch': 2.4}\n"
          ]
        },
        {
          "name": "stderr",
          "output_type": "stream",
          "text": [
            "  2%|▎         | 500/20000 [00:04<02:44, 118.38it/s]"
          ]
        },
        {
          "name": "stdout",
          "output_type": "stream",
          "text": [
            "{'loss': 0.4761, 'grad_norm': 0.6469078660011292, 'learning_rate': 0.00975, 'epoch': 0.8}\n"
          ]
        },
        {
          "name": "stderr",
          "output_type": "stream",
          "text": [
            "\n",
            "  3%|▎         | 521/20000 [00:05<04:13, 76.81it/s] "
          ]
        },
        {
          "name": "stdout",
          "output_type": "stream",
          "text": [
            "{'eval_loss': 0.40235036611557007, 'eval_accuracy': 0.843, 'eval_runtime': 0.2968, 'eval_samples_per_second': 3369.485, 'eval_steps_per_second': 421.186, 'epoch': 0.8}\n"
          ]
        },
        {
          "name": "stderr",
          "output_type": "stream",
          "text": [
            "  5%|▌         | 1000/20000 [00:10<03:11, 99.11it/s]"
          ]
        },
        {
          "name": "stdout",
          "output_type": "stream",
          "text": [
            "{'loss': 0.2701, 'grad_norm': 0.2869085371494293, 'learning_rate': 0.0095, 'epoch': 1.6}\n"
          ]
        },
        {
          "name": "stderr",
          "output_type": "stream",
          "text": [
            "\n",
            "  5%|▌         | 1014/20000 [00:10<04:52, 64.85it/s]"
          ]
        },
        {
          "name": "stdout",
          "output_type": "stream",
          "text": [
            "{'eval_loss': 0.44574740529060364, 'eval_accuracy': 0.838, 'eval_runtime': 0.2518, 'eval_samples_per_second': 3971.315, 'eval_steps_per_second': 496.414, 'epoch': 1.6}\n"
          ]
        },
        {
          "name": "stderr",
          "output_type": "stream",
          "text": [
            "  8%|▊         | 1500/20000 [00:15<03:12, 96.22it/s] "
          ]
        },
        {
          "name": "stdout",
          "output_type": "stream",
          "text": [
            "{'loss': 0.2235, 'grad_norm': 0.2695682644844055, 'learning_rate': 0.009250000000000001, 'epoch': 2.4}\n"
          ]
        },
        {
          "name": "stderr",
          "output_type": "stream",
          "text": [
            "\n",
            "  8%|▊         | 1511/20000 [00:15<04:47, 64.22it/s]"
          ]
        },
        {
          "name": "stdout",
          "output_type": "stream",
          "text": [
            "{'eval_loss': 0.47692304849624634, 'eval_accuracy': 0.84, 'eval_runtime': 0.2708, 'eval_samples_per_second': 3692.705, 'eval_steps_per_second': 461.588, 'epoch': 2.4}\n"
          ]
        },
        {
          "name": "stderr",
          "output_type": "stream",
          "text": [
            " 10%|█         | 2000/20000 [00:20<02:55, 102.46it/s]"
          ]
        },
        {
          "name": "stdout",
          "output_type": "stream",
          "text": [
            "{'loss': 0.1961, 'grad_norm': 0.503760039806366, 'learning_rate': 0.009000000000000001, 'epoch': 3.2}\n"
          ]
        },
        {
          "name": "stderr",
          "output_type": "stream",
          "text": [
            "\n",
            " 10%|█         | 2019/20000 [00:20<04:11, 71.49it/s] "
          ]
        },
        {
          "name": "stdout",
          "output_type": "stream",
          "text": [
            "{'eval_loss': 0.513507068157196, 'eval_accuracy': 0.834, 'eval_runtime': 0.2328, 'eval_samples_per_second': 4295.229, 'eval_steps_per_second': 536.904, 'epoch': 3.2}\n"
          ]
        },
        {
          "name": "stderr",
          "output_type": "stream",
          "text": [
            " 12%|█▎        | 2500/20000 [00:25<02:31, 115.38it/s]"
          ]
        },
        {
          "name": "stdout",
          "output_type": "stream",
          "text": [
            "{'loss': 0.1674, 'grad_norm': 0.22419029474258423, 'learning_rate': 0.00875, 'epoch': 4.0}\n"
          ]
        },
        {
          "name": "stderr",
          "output_type": "stream",
          "text": [
            "\n",
            " 13%|█▎        | 2512/20000 [00:25<04:03, 71.96it/s] "
          ]
        },
        {
          "name": "stdout",
          "output_type": "stream",
          "text": [
            "{'eval_loss': 0.49550214409828186, 'eval_accuracy': 0.84, 'eval_runtime': 0.2968, 'eval_samples_per_second': 3369.614, 'eval_steps_per_second': 421.202, 'epoch': 4.0}\n"
          ]
        },
        {
          "name": "stderr",
          "output_type": "stream",
          "text": [
            " 15%|█▌        | 3000/20000 [00:30<02:57, 95.63it/s] "
          ]
        },
        {
          "name": "stdout",
          "output_type": "stream",
          "text": [
            "{'loss': 0.1392, 'grad_norm': 0.04071371629834175, 'learning_rate': 0.0085, 'epoch': 4.8}\n"
          ]
        },
        {
          "name": "stderr",
          "output_type": "stream",
          "text": [
            "\n",
            " 15%|█▌        | 3000/20000 [00:30<02:54, 97.55it/s]\n"
          ]
        },
        {
          "name": "stdout",
          "output_type": "stream",
          "text": [
            "{'eval_loss': 0.5314931273460388, 'eval_accuracy': 0.841, 'eval_runtime': 0.2918, 'eval_samples_per_second': 3427.187, 'eval_steps_per_second': 428.398, 'epoch': 4.8}\n",
            "{'train_runtime': 30.7516, 'train_samples_per_second': 26014.942, 'train_steps_per_second': 650.374, 'train_loss': 0.24539825185139974, 'epoch': 4.8}\n"
          ]
        },
        {
          "name": "stderr",
          "output_type": "stream",
          "text": [
            "100%|██████████| 3125/3125 [00:05<00:00, 562.59it/s]"
          ]
        },
        {
          "name": "stdout",
          "output_type": "stream",
          "text": [
            "For hyperparameters learning rate: 0.01 and batch size: 40 we get evaluation results: {'eval_loss': 0.3659173548221588, 'eval_accuracy': 0.86, 'eval_runtime': 5.5597, 'eval_samples_per_second': 4496.67, 'eval_steps_per_second': 562.084, 'epoch': 4.8}\n"
          ]
        },
        {
          "name": "stderr",
          "output_type": "stream",
          "text": [
            "\n"
          ]
        }
      ],
      "source": [
        "# Argument gives the number of steps of patience before early stopping\n",
        "# i.e. training is stopped when the evaluation loss fails to improve\n",
        "# certain number of times\n",
        "early_stopping = transformers.EarlyStoppingCallback(5)\n",
        "results = []\n",
        "\n",
        "for lr in [1e-4, 1e-3, 1e-2]:\n",
        "    for bs in [10, 20, 40]:\n",
        "        mlp = MLP(mlp_config)\n",
        "        trainer_args = transformers.TrainingArguments(\n",
        "            \"mlp_checkpoints\", #save checkpoints here\n",
        "            evaluation_strategy=\"steps\",\n",
        "            logging_strategy=\"steps\",\n",
        "            eval_steps=500,\n",
        "            logging_steps=500,\n",
        "            learning_rate=lr, #learning rate of the gradient descent\n",
        "            max_steps=20000,\n",
        "            load_best_model_at_end=True,\n",
        "            per_device_train_batch_size=bs\n",
        "        )\n",
        "\n",
        "        trainer = transformers.Trainer(\n",
        "            model=mlp,\n",
        "            args=trainer_args,\n",
        "            train_dataset=dset_tokenized[\"train\"],\n",
        "            eval_dataset=dset_tokenized[\"test\"].select(range(1000)), #make a smaller subset to evaluate on\n",
        "            compute_metrics=compute_accuracy,\n",
        "            data_collator=collator,\n",
        "            callbacks=[early_stopping]\n",
        "        )\n",
        "\n",
        "        # FINALLY!\n",
        "        trainer.train()\n",
        "\n",
        "        eval_results = trainer.evaluate(dset_tokenized[\"test\"])\n",
        "\n",
        "        results.append((lr, bs, eval_results))\n",
        "        print(f\"For hyperparameters learning rate: {lr} and batch size: {bs} we get evaluation results: {eval_results}\")"
      ]
    },
    {
      "cell_type": "markdown",
      "metadata": {
        "id": "P0OYB3TRp-IH"
      },
      "source": [
        "# Save the model for later use\n",
        "\n",
        "* You can save it with `trainer.save_model()`\n",
        "* You can load it with `MLP.from_pretrained()`\n"
      ]
    },
    {
      "cell_type": "code",
      "execution_count": 15,
      "metadata": {
        "id": "FosHTDw3p9dd"
      },
      "outputs": [],
      "source": [
        "trainer.save_model(\"mlp-imdb\")"
      ]
    },
    {
      "cell_type": "markdown",
      "metadata": {
        "id": "8D8W9EN-zMAc"
      },
      "source": [
        "# Check save/load"
      ]
    },
    {
      "cell_type": "code",
      "execution_count": 16,
      "metadata": {
        "id": "UKMMNbABqLTg"
      },
      "outputs": [],
      "source": [
        "mlp2=MLP.from_pretrained(\"mlp-imdb\")"
      ]
    },
    {
      "cell_type": "code",
      "execution_count": 17,
      "metadata": {
        "colab": {
          "base_uri": "https://localhost:8080/"
        },
        "id": "pfLnUENrrCyp",
        "outputId": "bb2c97d9-10c0-42b3-b090-dd9a69499309"
      },
      "outputs": [
        {
          "name": "stderr",
          "output_type": "stream",
          "text": [
            "c:\\Python310\\lib\\site-packages\\accelerate\\accelerator.py:432: FutureWarning: Passing the following arguments to `Accelerator` is deprecated and will be removed in version 1.0 of Accelerate: dict_keys(['dispatch_batches', 'split_batches', 'even_batches', 'use_seedable_sampler']). Please pass an `accelerate.DataLoaderConfiguration` instead: \n",
            "dataloader_config = DataLoaderConfiguration(dispatch_batches=None, split_batches=False, even_batches=True, use_seedable_sampler=True)\n",
            "  warnings.warn(\n"
          ]
        }
      ],
      "source": [
        "trainer = transformers.Trainer(\n",
        "    model=mlp2,\n",
        "    args=trainer_args,\n",
        "    train_dataset=dset_tokenized[\"train\"],\n",
        "    eval_dataset=dset_tokenized[\"test\"],\n",
        "    compute_metrics=compute_accuracy,\n",
        "    data_collator=collator,\n",
        "    callbacks=[early_stopping]\n",
        ")"
      ]
    },
    {
      "cell_type": "code",
      "execution_count": 18,
      "metadata": {
        "colab": {
          "base_uri": "https://localhost:8080/",
          "height": 92
        },
        "id": "hpOM2ZwErMGf",
        "outputId": "4b32b8ba-8c72-430b-cfff-22f99be57a2e"
      },
      "outputs": [
        {
          "name": "stderr",
          "output_type": "stream",
          "text": [
            "100%|██████████| 3125/3125 [00:05<00:00, 523.46it/s]"
          ]
        },
        {
          "name": "stdout",
          "output_type": "stream",
          "text": [
            "{'eval_loss': 0.3659173548221588, 'eval_accuracy': 0.86, 'eval_runtime': 5.9729, 'eval_samples_per_second': 4185.545, 'eval_steps_per_second': 523.193}\n",
            "Accuracy: 0.86\n"
          ]
        },
        {
          "name": "stderr",
          "output_type": "stream",
          "text": [
            "\n"
          ]
        }
      ],
      "source": [
        "eval_results = trainer.evaluate(dset_tokenized[\"test\"])\n",
        "print(eval_results)\n",
        "print('Accuracy:', eval_results['eval_accuracy'])"
      ]
    },
    {
      "cell_type": "markdown",
      "metadata": {
        "id": "8UT5MV1LtSBh"
      },
      "source": [
        "# Extra time left?\n",
        "\n",
        "* Read through the TrainingArguments documentation, try to understand at least some parts of it https://huggingface.co/docs/transformers/main_classes/trainer#transformers.TrainingArguments\n",
        "* Read through Torch tensor operations, try to understand at least some parts of it: https://pytorch.org/docs/stable/tensors.html\n",
        "* Run the model with different parameters (hidden layer width, learning rate, etc), how much do the results change?\n"
      ]
    },
    {
      "cell_type": "markdown",
      "metadata": {
        "id": "13aB7DuqzeFi"
      },
      "source": [
        "# What has the model learned?\n",
        "\n",
        "* The embeddings should have some meaning to them\n",
        "* Similar features should have similar embeddings"
      ]
    },
    {
      "cell_type": "code",
      "execution_count": 19,
      "metadata": {
        "id": "M6TUrVkMCmz7"
      },
      "outputs": [],
      "source": [
        "# Grab the embedding matrix out of the trained model\n",
        "# and drop the first row (padding 0)\n",
        "# then we can treat the embeddings as vectors\n",
        "# and maybe compare them to each other\n",
        "# ha ha this below took some googling\n",
        "weights=mlp.embedding.weight.detach().cpu().numpy()\n",
        "weights=weights[1:,:]"
      ]
    },
    {
      "cell_type": "code",
      "execution_count": 20,
      "metadata": {
        "colab": {
          "base_uri": "https://localhost:8080/"
        },
        "id": "4uTTvRgGDU9D",
        "outputId": "096f46dc-ed8e-433b-f77b-a6169fdb424b"
      },
      "outputs": [
        {
          "name": "stdout",
          "output_type": "stream",
          "text": [
            "lousy\n",
            "apollo\n",
            "whatsoever\n",
            "crawl\n",
            "curiosity\n",
            "numbing\n",
            "residence\n",
            "naturally\n",
            "glorified\n",
            "minutes\n",
            "tripe\n",
            "77\n",
            "sloppy\n",
            "zeta\n",
            "buck\n",
            "annoyed\n",
            "snakes\n",
            "sounded\n",
            "rainy\n",
            "horribly\n"
          ]
        }
      ],
      "source": [
        "qry_idx=vectorizer.vocabulary_[\"lousy\"] #embedding of \"great\"\n",
        "\n",
        "#calculate the distance of the \"lousy\" embedding to all other embeddings\n",
        "distance_to_qry=sklearn.metrics.pairwise.euclidean_distances(weights[qry_idx:qry_idx+1,:],weights)\n",
        "nearest_neighbors=np.argsort(distance_to_qry) #indices of words nearest to \"lousy\"\n",
        "for nearest in nearest_neighbors[0,:20]:\n",
        "    print(idx2word[nearest])\n",
        "# This works great!"
      ]
    },
    {
      "cell_type": "code",
      "execution_count": 21,
      "metadata": {},
      "outputs": [
        {
          "name": "stdout",
          "output_type": "stream",
          "text": [
            "[[10693  1022 19543 ...  1459 13045  3473]]\n"
          ]
        }
      ],
      "source": [
        "print(nearest_neighbors)"
      ]
    },
    {
      "cell_type": "markdown",
      "metadata": {
        "id": "cQCmThdu2LDR"
      },
      "source": [
        "* The embeddings indeed seem to reflect the task\n",
        "* There is a meaning to them"
      ]
    },
    {
      "cell_type": "markdown",
      "metadata": {
        "id": "Jydy3ECK3O2w"
      },
      "source": [
        "# Feature weights\n",
        "\n",
        "*   A typical \"old-school\" way to approach the classification would be a simple linear model, like LinearSVM\n",
        "*   Under such model, each feature (word) would have a single one weight\n",
        "*   And the classification would simply be based on the sum of these weights\n",
        "*   In this context of this task, \"positive\" words would get a high weight, \"negative\" words would get a low weight\n",
        "*   It is in fact quite easy to reconfigure the MLP model to work more or less like this and this effect can be replicated\n",
        "*   I will leave that as an exercise for you\n",
        "\n"
      ]
    },
    {
      "cell_type": "code",
      "execution_count": 22,
      "metadata": {},
      "outputs": [
        {
          "name": "stdout",
          "output_type": "stream",
          "text": [
            "[[ 0.27698907]\n",
            " [ 0.3083022 ]\n",
            " [-0.18851581]\n",
            " ...\n",
            " [-0.26665077]\n",
            " [ 0.20463663]\n",
            " [-0.03026071]]\n"
          ]
        }
      ],
      "source": [
        "# weights now looks like this\n",
        "print(weights)"
      ]
    },
    {
      "cell_type": "code",
      "execution_count": 23,
      "metadata": {},
      "outputs": [],
      "source": [
        "# we dont want each weight to be an array item so lets reshape\n",
        "weights = weights.reshape(1, -1)"
      ]
    },
    {
      "cell_type": "code",
      "execution_count": 24,
      "metadata": {},
      "outputs": [
        {
          "name": "stdout",
          "output_type": "stream",
          "text": [
            "coaster\n",
            "perfect\n",
            "awesome\n",
            "excellent\n",
            "wonderfully\n",
            "gem\n",
            "donald\n",
            "favorites\n",
            "today\n",
            "enjoyed\n",
            "amazing\n",
            "maturity\n",
            "jack\n",
            "great\n",
            "refreshing\n",
            "notch\n",
            "voight\n",
            "lonely\n",
            "adds\n",
            "superb\n",
            "wonderful\n",
            "job\n",
            "northam\n",
            "forsythe\n",
            "moving\n",
            "naturalistic\n",
            "fun\n",
            "glamorous\n",
            "ealing\n",
            "solid\n",
            "capote\n",
            "tight\n",
            "information\n",
            "subtle\n",
            "lang\n",
            "piggy\n",
            "raunchy\n",
            "fortunately\n",
            "favorite\n",
            "marisa\n",
            "swim\n",
            "superlative\n",
            "worlds\n",
            "touching\n",
            "enjoyable\n",
            "testimony\n",
            "cerebral\n",
            "hatcher\n",
            "appreciated\n",
            "austen\n",
            "fearful\n",
            "best\n",
            "timeless\n",
            "stevenson\n",
            "elam\n",
            "unexpected\n",
            "peterson\n",
            "celebration\n",
            "message\n",
            "edie\n",
            "spade\n",
            "astonishing\n",
            "succeeds\n",
            "emma\n",
            "soccer\n",
            "scared\n",
            "delightfully\n",
            "gerard\n",
            "initially\n",
            "yelnats\n",
            "1953\n",
            "affection\n",
            "screenings\n",
            "favourite\n",
            "passport\n",
            "surprised\n",
            "tenant\n",
            "fantastic\n",
            "kipling\n",
            "comeuppance\n",
            "everyman\n",
            "boman\n",
            "maintained\n",
            "extravagant\n",
            "remember\n",
            "miyazaki\n",
            "nagra\n",
            "gundam\n",
            "connolly\n",
            "truth\n",
            "position\n",
            "email\n",
            "april\n",
            "coolest\n",
            "engineer\n",
            "chavez\n",
            "recommended\n",
            "pleasure\n",
            "lucas\n",
            "olympia\n"
          ]
        }
      ],
      "source": [
        "# print the hundred most positive words\n",
        "sorted_feature_importances=np.argsort(weights)\n",
        "for most_positive in sorted_feature_importances[0,:100]:\n",
        "    print(idx2word[most_positive])"
      ]
    },
    {
      "cell_type": "code",
      "execution_count": 25,
      "metadata": {},
      "outputs": [
        {
          "name": "stdout",
          "output_type": "stream",
          "text": [
            "worst\n",
            "poorly\n",
            "awful\n",
            "disappointment\n",
            "boring\n",
            "waste\n",
            "dreadful\n",
            "dull\n",
            "unconvincing\n",
            "stinker\n",
            "laughable\n",
            "redeeming\n",
            "distorted\n",
            "fails\n",
            "mess\n",
            "disappointing\n",
            "gag\n",
            "bad\n",
            "pointless\n",
            "horrible\n",
            "clone\n",
            "mediocre\n",
            "purposes\n",
            "baldwin\n",
            "ridiculously\n",
            "unless\n",
            "unintentional\n",
            "weak\n",
            "flop\n",
            "sucks\n",
            "incoherent\n",
            "mst3k\n",
            "stinks\n",
            "turd\n",
            "incomprehensible\n",
            "atrocious\n",
            "painful\n",
            "fake\n",
            "forgettable\n",
            "poorest\n",
            "letdown\n",
            "trite\n",
            "mediocrity\n",
            "wasting\n",
            "suffers\n",
            "lifeless\n",
            "blah\n",
            "hoping\n",
            "steaming\n",
            "40s\n",
            "whats\n",
            "stilted\n",
            "westerns\n",
            "code\n",
            "terrible\n",
            "nauseous\n",
            "secondly\n",
            "strained\n",
            "disgusting\n",
            "unfunny\n",
            "waster\n",
            "clumsy\n",
            "clunky\n",
            "hodgepodge\n",
            "miscast\n",
            "worse\n",
            "dramatically\n",
            "stereotyped\n",
            "pathetic\n",
            "shame\n",
            "spends\n",
            "continuity\n",
            "size\n",
            "narcissistic\n",
            "tedious\n",
            "followed\n",
            "choppy\n",
            "unoriginal\n",
            "contrived\n",
            "proportions\n",
            "asleep\n",
            "prevent\n",
            "sucked\n",
            "brainless\n",
            "synopsis\n",
            "irritating\n",
            "wig\n",
            "flat\n",
            "feminist\n",
            "looks\n",
            "mentally\n",
            "sorely\n",
            "sat\n",
            "subjected\n",
            "rubbish\n",
            "backyard\n",
            "jai\n",
            "shirley\n",
            "silvers\n",
            "oh\n"
          ]
        }
      ],
      "source": [
        "# print the hundred most negative words\n",
        "for most_negative in reversed(sorted_feature_importances[0,-100:]):\n",
        "    print(idx2word[most_negative])"
      ]
    },
    {
      "cell_type": "code",
      "execution_count": 33,
      "metadata": {},
      "outputs": [
        {
          "name": "stdout",
          "output_type": "stream",
          "text": [
            "Learning rate: 0.0001 and batch size: 10\n",
            "Evaluation accuracy: 0.88672\n",
            "\n",
            "Learning rate: 0.0001 and batch size: 20\n",
            "Evaluation accuracy: 0.88752\n",
            "\n",
            "Learning rate: 0.0001 and batch size: 40\n",
            "Evaluation accuracy: 0.88876\n",
            "\n",
            "Learning rate: 0.001 and batch size: 10\n",
            "Evaluation accuracy: 0.87956\n",
            "\n",
            "Learning rate: 0.001 and batch size: 20\n",
            "Evaluation accuracy: 0.88544\n",
            "\n",
            "Learning rate: 0.001 and batch size: 40\n",
            "Evaluation accuracy: 0.88712\n",
            "\n",
            "Learning rate: 0.01 and batch size: 10\n",
            "Evaluation accuracy: 0.86356\n",
            "\n",
            "Learning rate: 0.01 and batch size: 20\n",
            "Evaluation accuracy: 0.84712\n",
            "\n",
            "Learning rate: 0.01 and batch size: 40\n",
            "Evaluation accuracy: 0.86\n",
            "\n"
          ]
        }
      ],
      "source": [
        "for lr, bs, eval in results:\n",
        "    print(f\"Learning rate: {lr} and batch size: {bs}\\nEvaluation accuracy: {eval['eval_accuracy']}\\n\")"
      ]
    },
    {
      "cell_type": "markdown",
      "metadata": {},
      "source": [
        "With a smaller learning rate, we get more accurate results. A larger batch size slightly increases accuracy but training also takes longer."
      ]
    }
  ],
  "metadata": {
    "accelerator": "GPU",
    "colab": {
      "gpuType": "T4",
      "include_colab_link": true,
      "provenance": []
    },
    "kernelspec": {
      "display_name": "Python 3",
      "name": "python3"
    },
    "language_info": {
      "codemirror_mode": {
        "name": "ipython",
        "version": 3
      },
      "file_extension": ".py",
      "mimetype": "text/x-python",
      "name": "python",
      "nbconvert_exporter": "python",
      "pygments_lexer": "ipython3",
      "version": "3.10.2"
    },
    "widgets": {
      "application/vnd.jupyter.widget-state+json": {
        "01d2e73d04914715b58c7b2227e5defe": {
          "model_module": "@jupyter-widgets/controls",
          "model_module_version": "1.5.0",
          "model_name": "HTMLModel",
          "state": {
            "_dom_classes": [],
            "_model_module": "@jupyter-widgets/controls",
            "_model_module_version": "1.5.0",
            "_model_name": "HTMLModel",
            "_view_count": null,
            "_view_module": "@jupyter-widgets/controls",
            "_view_module_version": "1.5.0",
            "_view_name": "HTMLView",
            "description": "",
            "description_tooltip": null,
            "layout": "IPY_MODEL_3bb2265a872a40cb9704dee3cf5e8858",
            "placeholder": "​",
            "style": "IPY_MODEL_189c4e0f87a64e81a62f92ef431d133b",
            "value": "Downloading builder script: 100%"
          }
        },
        "0a0b6fbdf84f4b48b9c2ef49a0250404": {
          "model_module": "@jupyter-widgets/controls",
          "model_module_version": "1.5.0",
          "model_name": "FloatProgressModel",
          "state": {
            "_dom_classes": [],
            "_model_module": "@jupyter-widgets/controls",
            "_model_module_version": "1.5.0",
            "_model_name": "FloatProgressModel",
            "_view_count": null,
            "_view_module": "@jupyter-widgets/controls",
            "_view_module_version": "1.5.0",
            "_view_name": "ProgressView",
            "bar_style": "success",
            "description": "",
            "description_tooltip": null,
            "layout": "IPY_MODEL_c68fd158757d423585d58956d1a99eaf",
            "max": 7809,
            "min": 0,
            "orientation": "horizontal",
            "style": "IPY_MODEL_222daa34d70b40388521329453f1f8dd",
            "value": 7809
          }
        },
        "0e858b1ccaef4fd18be0b4079e4c8646": {
          "model_module": "@jupyter-widgets/controls",
          "model_module_version": "1.5.0",
          "model_name": "HBoxModel",
          "state": {
            "_dom_classes": [],
            "_model_module": "@jupyter-widgets/controls",
            "_model_module_version": "1.5.0",
            "_model_name": "HBoxModel",
            "_view_count": null,
            "_view_module": "@jupyter-widgets/controls",
            "_view_module_version": "1.5.0",
            "_view_name": "HBoxView",
            "box_style": "",
            "children": [
              "IPY_MODEL_1094731701564aee869d72736d8f9a88",
              "IPY_MODEL_cdc28da3728a49f8915dabf766dc26a8",
              "IPY_MODEL_ccf998160452482fa9d67af801e9d169"
            ],
            "layout": "IPY_MODEL_c75541bed1794a6bb05890ca783e0bb1"
          }
        },
        "0ea1ef2cd8574f3385da830711032285": {
          "model_module": "@jupyter-widgets/controls",
          "model_module_version": "1.5.0",
          "model_name": "ProgressStyleModel",
          "state": {
            "_model_module": "@jupyter-widgets/controls",
            "_model_module_version": "1.5.0",
            "_model_name": "ProgressStyleModel",
            "_view_count": null,
            "_view_module": "@jupyter-widgets/base",
            "_view_module_version": "1.2.0",
            "_view_name": "StyleView",
            "bar_color": null,
            "description_width": ""
          }
        },
        "1094731701564aee869d72736d8f9a88": {
          "model_module": "@jupyter-widgets/controls",
          "model_module_version": "1.5.0",
          "model_name": "HTMLModel",
          "state": {
            "_dom_classes": [],
            "_model_module": "@jupyter-widgets/controls",
            "_model_module_version": "1.5.0",
            "_model_name": "HTMLModel",
            "_view_count": null,
            "_view_module": "@jupyter-widgets/controls",
            "_view_module_version": "1.5.0",
            "_view_name": "HTMLView",
            "description": "",
            "description_tooltip": null,
            "layout": "IPY_MODEL_124e307a758c406684bfc6da8997a7d3",
            "placeholder": "​",
            "style": "IPY_MODEL_2fb1b9bb43d84dd3aacd4589fc2aada4",
            "value": "Map (num_proc=4): 100%"
          }
        },
        "124e307a758c406684bfc6da8997a7d3": {
          "model_module": "@jupyter-widgets/base",
          "model_module_version": "1.2.0",
          "model_name": "LayoutModel",
          "state": {
            "_model_module": "@jupyter-widgets/base",
            "_model_module_version": "1.2.0",
            "_model_name": "LayoutModel",
            "_view_count": null,
            "_view_module": "@jupyter-widgets/base",
            "_view_module_version": "1.2.0",
            "_view_name": "LayoutView",
            "align_content": null,
            "align_items": null,
            "align_self": null,
            "border": null,
            "bottom": null,
            "display": null,
            "flex": null,
            "flex_flow": null,
            "grid_area": null,
            "grid_auto_columns": null,
            "grid_auto_flow": null,
            "grid_auto_rows": null,
            "grid_column": null,
            "grid_gap": null,
            "grid_row": null,
            "grid_template_areas": null,
            "grid_template_columns": null,
            "grid_template_rows": null,
            "height": null,
            "justify_content": null,
            "justify_items": null,
            "left": null,
            "margin": null,
            "max_height": null,
            "max_width": null,
            "min_height": null,
            "min_width": null,
            "object_fit": null,
            "object_position": null,
            "order": null,
            "overflow": null,
            "overflow_x": null,
            "overflow_y": null,
            "padding": null,
            "right": null,
            "top": null,
            "visibility": null,
            "width": null
          }
        },
        "128df31502d445159c9b82651e01014f": {
          "model_module": "@jupyter-widgets/base",
          "model_module_version": "1.2.0",
          "model_name": "LayoutModel",
          "state": {
            "_model_module": "@jupyter-widgets/base",
            "_model_module_version": "1.2.0",
            "_model_name": "LayoutModel",
            "_view_count": null,
            "_view_module": "@jupyter-widgets/base",
            "_view_module_version": "1.2.0",
            "_view_name": "LayoutView",
            "align_content": null,
            "align_items": null,
            "align_self": null,
            "border": null,
            "bottom": null,
            "display": null,
            "flex": null,
            "flex_flow": null,
            "grid_area": null,
            "grid_auto_columns": null,
            "grid_auto_flow": null,
            "grid_auto_rows": null,
            "grid_column": null,
            "grid_gap": null,
            "grid_row": null,
            "grid_template_areas": null,
            "grid_template_columns": null,
            "grid_template_rows": null,
            "height": null,
            "justify_content": null,
            "justify_items": null,
            "left": null,
            "margin": null,
            "max_height": null,
            "max_width": null,
            "min_height": null,
            "min_width": null,
            "object_fit": null,
            "object_position": null,
            "order": null,
            "overflow": null,
            "overflow_x": null,
            "overflow_y": null,
            "padding": null,
            "right": null,
            "top": null,
            "visibility": null,
            "width": null
          }
        },
        "137927bd797149efb17707da77674f78": {
          "model_module": "@jupyter-widgets/controls",
          "model_module_version": "1.5.0",
          "model_name": "HTMLModel",
          "state": {
            "_dom_classes": [],
            "_model_module": "@jupyter-widgets/controls",
            "_model_module_version": "1.5.0",
            "_model_name": "HTMLModel",
            "_view_count": null,
            "_view_module": "@jupyter-widgets/controls",
            "_view_module_version": "1.5.0",
            "_view_name": "HTMLView",
            "description": "",
            "description_tooltip": null,
            "layout": "IPY_MODEL_79a8c323bee44560bd087a1f052cb1af",
            "placeholder": "​",
            "style": "IPY_MODEL_593301961d294c0aa115fe23699fd8e7",
            "value": "Generating test split: 100%"
          }
        },
        "13e4f6d9a4be47209385c67158a45bb3": {
          "model_module": "@jupyter-widgets/controls",
          "model_module_version": "1.5.0",
          "model_name": "DescriptionStyleModel",
          "state": {
            "_model_module": "@jupyter-widgets/controls",
            "_model_module_version": "1.5.0",
            "_model_name": "DescriptionStyleModel",
            "_view_count": null,
            "_view_module": "@jupyter-widgets/base",
            "_view_module_version": "1.2.0",
            "_view_name": "StyleView",
            "description_width": ""
          }
        },
        "1445fa6563764220a29cbd7d30045d2c": {
          "model_module": "@jupyter-widgets/controls",
          "model_module_version": "1.5.0",
          "model_name": "HTMLModel",
          "state": {
            "_dom_classes": [],
            "_model_module": "@jupyter-widgets/controls",
            "_model_module_version": "1.5.0",
            "_model_name": "HTMLModel",
            "_view_count": null,
            "_view_module": "@jupyter-widgets/controls",
            "_view_module_version": "1.5.0",
            "_view_name": "HTMLView",
            "description": "",
            "description_tooltip": null,
            "layout": "IPY_MODEL_2acbffae3c3f44428c8cdc494004cd5e",
            "placeholder": "​",
            "style": "IPY_MODEL_ccf5918a328f44da9a5d061b46cb89ef",
            "value": " 4.20k/4.20k [00:00&lt;00:00, 177kB/s]"
          }
        },
        "15dd150da71c4818ade5f27be603a147": {
          "model_module": "@jupyter-widgets/base",
          "model_module_version": "1.2.0",
          "model_name": "LayoutModel",
          "state": {
            "_model_module": "@jupyter-widgets/base",
            "_model_module_version": "1.2.0",
            "_model_name": "LayoutModel",
            "_view_count": null,
            "_view_module": "@jupyter-widgets/base",
            "_view_module_version": "1.2.0",
            "_view_name": "LayoutView",
            "align_content": null,
            "align_items": null,
            "align_self": null,
            "border": null,
            "bottom": null,
            "display": null,
            "flex": null,
            "flex_flow": null,
            "grid_area": null,
            "grid_auto_columns": null,
            "grid_auto_flow": null,
            "grid_auto_rows": null,
            "grid_column": null,
            "grid_gap": null,
            "grid_row": null,
            "grid_template_areas": null,
            "grid_template_columns": null,
            "grid_template_rows": null,
            "height": null,
            "justify_content": null,
            "justify_items": null,
            "left": null,
            "margin": null,
            "max_height": null,
            "max_width": null,
            "min_height": null,
            "min_width": null,
            "object_fit": null,
            "object_position": null,
            "order": null,
            "overflow": null,
            "overflow_x": null,
            "overflow_y": null,
            "padding": null,
            "right": null,
            "top": null,
            "visibility": null,
            "width": null
          }
        },
        "16b02cc48b71420a9ddad7185bb3e029": {
          "model_module": "@jupyter-widgets/controls",
          "model_module_version": "1.5.0",
          "model_name": "DescriptionStyleModel",
          "state": {
            "_model_module": "@jupyter-widgets/controls",
            "_model_module_version": "1.5.0",
            "_model_name": "DescriptionStyleModel",
            "_view_count": null,
            "_view_module": "@jupyter-widgets/base",
            "_view_module_version": "1.2.0",
            "_view_name": "StyleView",
            "description_width": ""
          }
        },
        "189c4e0f87a64e81a62f92ef431d133b": {
          "model_module": "@jupyter-widgets/controls",
          "model_module_version": "1.5.0",
          "model_name": "DescriptionStyleModel",
          "state": {
            "_model_module": "@jupyter-widgets/controls",
            "_model_module_version": "1.5.0",
            "_model_name": "DescriptionStyleModel",
            "_view_count": null,
            "_view_module": "@jupyter-widgets/base",
            "_view_module_version": "1.2.0",
            "_view_name": "StyleView",
            "description_width": ""
          }
        },
        "19d1d9e90c5b4430ab42f323c4049c35": {
          "model_module": "@jupyter-widgets/controls",
          "model_module_version": "1.5.0",
          "model_name": "HTMLModel",
          "state": {
            "_dom_classes": [],
            "_model_module": "@jupyter-widgets/controls",
            "_model_module_version": "1.5.0",
            "_model_name": "HTMLModel",
            "_view_count": null,
            "_view_module": "@jupyter-widgets/controls",
            "_view_module_version": "1.5.0",
            "_view_name": "HTMLView",
            "description": "",
            "description_tooltip": null,
            "layout": "IPY_MODEL_218dc6efe29c4b6abddf064f6d5658ed",
            "placeholder": "​",
            "style": "IPY_MODEL_16b02cc48b71420a9ddad7185bb3e029",
            "value": "Downloading readme: 100%"
          }
        },
        "1a56cbd49d384c519b64714fea68a641": {
          "model_module": "@jupyter-widgets/controls",
          "model_module_version": "1.5.0",
          "model_name": "HTMLModel",
          "state": {
            "_dom_classes": [],
            "_model_module": "@jupyter-widgets/controls",
            "_model_module_version": "1.5.0",
            "_model_name": "HTMLModel",
            "_view_count": null,
            "_view_module": "@jupyter-widgets/controls",
            "_view_module_version": "1.5.0",
            "_view_name": "HTMLView",
            "description": "",
            "description_tooltip": null,
            "layout": "IPY_MODEL_54733c51d16d48f098862efe3b5981a6",
            "placeholder": "​",
            "style": "IPY_MODEL_e39eabb6495a47b08f1cf12abe3be236",
            "value": " 7.81k/7.81k [00:00&lt;00:00, 160kB/s]"
          }
        },
        "218dc6efe29c4b6abddf064f6d5658ed": {
          "model_module": "@jupyter-widgets/base",
          "model_module_version": "1.2.0",
          "model_name": "LayoutModel",
          "state": {
            "_model_module": "@jupyter-widgets/base",
            "_model_module_version": "1.2.0",
            "_model_name": "LayoutModel",
            "_view_count": null,
            "_view_module": "@jupyter-widgets/base",
            "_view_module_version": "1.2.0",
            "_view_name": "LayoutView",
            "align_content": null,
            "align_items": null,
            "align_self": null,
            "border": null,
            "bottom": null,
            "display": null,
            "flex": null,
            "flex_flow": null,
            "grid_area": null,
            "grid_auto_columns": null,
            "grid_auto_flow": null,
            "grid_auto_rows": null,
            "grid_column": null,
            "grid_gap": null,
            "grid_row": null,
            "grid_template_areas": null,
            "grid_template_columns": null,
            "grid_template_rows": null,
            "height": null,
            "justify_content": null,
            "justify_items": null,
            "left": null,
            "margin": null,
            "max_height": null,
            "max_width": null,
            "min_height": null,
            "min_width": null,
            "object_fit": null,
            "object_position": null,
            "order": null,
            "overflow": null,
            "overflow_x": null,
            "overflow_y": null,
            "padding": null,
            "right": null,
            "top": null,
            "visibility": null,
            "width": null
          }
        },
        "222daa34d70b40388521329453f1f8dd": {
          "model_module": "@jupyter-widgets/controls",
          "model_module_version": "1.5.0",
          "model_name": "ProgressStyleModel",
          "state": {
            "_model_module": "@jupyter-widgets/controls",
            "_model_module_version": "1.5.0",
            "_model_name": "ProgressStyleModel",
            "_view_count": null,
            "_view_module": "@jupyter-widgets/base",
            "_view_module_version": "1.2.0",
            "_view_name": "StyleView",
            "bar_color": null,
            "description_width": ""
          }
        },
        "22941c5f34504afd834c27bc7b14467d": {
          "model_module": "@jupyter-widgets/controls",
          "model_module_version": "1.5.0",
          "model_name": "HBoxModel",
          "state": {
            "_dom_classes": [],
            "_model_module": "@jupyter-widgets/controls",
            "_model_module_version": "1.5.0",
            "_model_name": "HBoxModel",
            "_view_count": null,
            "_view_module": "@jupyter-widgets/controls",
            "_view_module_version": "1.5.0",
            "_view_name": "HBoxView",
            "box_style": "",
            "children": [
              "IPY_MODEL_cb72facec89145b5bc20444949ac3200",
              "IPY_MODEL_957fa9d3dc3344faa6b28534b3051e19",
              "IPY_MODEL_e758295d086a495e99fca994d7509ad3"
            ],
            "layout": "IPY_MODEL_8b1014a383764fe6b5e5c0c341b5e8f5"
          }
        },
        "288ac80ae11d421bac87e2438e62c2b5": {
          "model_module": "@jupyter-widgets/controls",
          "model_module_version": "1.5.0",
          "model_name": "FloatProgressModel",
          "state": {
            "_dom_classes": [],
            "_model_module": "@jupyter-widgets/controls",
            "_model_module_version": "1.5.0",
            "_model_name": "FloatProgressModel",
            "_view_count": null,
            "_view_module": "@jupyter-widgets/controls",
            "_view_module_version": "1.5.0",
            "_view_name": "ProgressView",
            "bar_style": "success",
            "description": "",
            "description_tooltip": null,
            "layout": "IPY_MODEL_d35803ce3faf4011ade3032954d3fc49",
            "max": 20470363,
            "min": 0,
            "orientation": "horizontal",
            "style": "IPY_MODEL_f81a4981e95941c3a915b56f9e2f1ea0",
            "value": 20470363
          }
        },
        "28ea4db6f6d44017b326ce9da7830ca4": {
          "model_module": "@jupyter-widgets/controls",
          "model_module_version": "1.5.0",
          "model_name": "HTMLModel",
          "state": {
            "_dom_classes": [],
            "_model_module": "@jupyter-widgets/controls",
            "_model_module_version": "1.5.0",
            "_model_name": "HTMLModel",
            "_view_count": null,
            "_view_module": "@jupyter-widgets/controls",
            "_view_module_version": "1.5.0",
            "_view_name": "HTMLView",
            "description": "",
            "description_tooltip": null,
            "layout": "IPY_MODEL_b5eebda55aad4a48889c8e7cf3ab4975",
            "placeholder": "​",
            "style": "IPY_MODEL_f32cbba9a7b6489a831f9a6bea21938c",
            "value": "Downloading data: 100%"
          }
        },
        "2a0634254c42464e960eca2fd4f185a3": {
          "model_module": "@jupyter-widgets/controls",
          "model_module_version": "1.5.0",
          "model_name": "DescriptionStyleModel",
          "state": {
            "_model_module": "@jupyter-widgets/controls",
            "_model_module_version": "1.5.0",
            "_model_name": "DescriptionStyleModel",
            "_view_count": null,
            "_view_module": "@jupyter-widgets/base",
            "_view_module_version": "1.2.0",
            "_view_name": "StyleView",
            "description_width": ""
          }
        },
        "2acbffae3c3f44428c8cdc494004cd5e": {
          "model_module": "@jupyter-widgets/base",
          "model_module_version": "1.2.0",
          "model_name": "LayoutModel",
          "state": {
            "_model_module": "@jupyter-widgets/base",
            "_model_module_version": "1.2.0",
            "_model_name": "LayoutModel",
            "_view_count": null,
            "_view_module": "@jupyter-widgets/base",
            "_view_module_version": "1.2.0",
            "_view_name": "LayoutView",
            "align_content": null,
            "align_items": null,
            "align_self": null,
            "border": null,
            "bottom": null,
            "display": null,
            "flex": null,
            "flex_flow": null,
            "grid_area": null,
            "grid_auto_columns": null,
            "grid_auto_flow": null,
            "grid_auto_rows": null,
            "grid_column": null,
            "grid_gap": null,
            "grid_row": null,
            "grid_template_areas": null,
            "grid_template_columns": null,
            "grid_template_rows": null,
            "height": null,
            "justify_content": null,
            "justify_items": null,
            "left": null,
            "margin": null,
            "max_height": null,
            "max_width": null,
            "min_height": null,
            "min_width": null,
            "object_fit": null,
            "object_position": null,
            "order": null,
            "overflow": null,
            "overflow_x": null,
            "overflow_y": null,
            "padding": null,
            "right": null,
            "top": null,
            "visibility": null,
            "width": null
          }
        },
        "2bfb7e0fb6b744b1a1ab281a807e3511": {
          "model_module": "@jupyter-widgets/base",
          "model_module_version": "1.2.0",
          "model_name": "LayoutModel",
          "state": {
            "_model_module": "@jupyter-widgets/base",
            "_model_module_version": "1.2.0",
            "_model_name": "LayoutModel",
            "_view_count": null,
            "_view_module": "@jupyter-widgets/base",
            "_view_module_version": "1.2.0",
            "_view_name": "LayoutView",
            "align_content": null,
            "align_items": null,
            "align_self": null,
            "border": null,
            "bottom": null,
            "display": null,
            "flex": null,
            "flex_flow": null,
            "grid_area": null,
            "grid_auto_columns": null,
            "grid_auto_flow": null,
            "grid_auto_rows": null,
            "grid_column": null,
            "grid_gap": null,
            "grid_row": null,
            "grid_template_areas": null,
            "grid_template_columns": null,
            "grid_template_rows": null,
            "height": null,
            "justify_content": null,
            "justify_items": null,
            "left": null,
            "margin": null,
            "max_height": null,
            "max_width": null,
            "min_height": null,
            "min_width": null,
            "object_fit": null,
            "object_position": null,
            "order": null,
            "overflow": null,
            "overflow_x": null,
            "overflow_y": null,
            "padding": null,
            "right": null,
            "top": null,
            "visibility": null,
            "width": null
          }
        },
        "2c84144d7ea8458fafb216b32d1d6d3e": {
          "model_module": "@jupyter-widgets/base",
          "model_module_version": "1.2.0",
          "model_name": "LayoutModel",
          "state": {
            "_model_module": "@jupyter-widgets/base",
            "_model_module_version": "1.2.0",
            "_model_name": "LayoutModel",
            "_view_count": null,
            "_view_module": "@jupyter-widgets/base",
            "_view_module_version": "1.2.0",
            "_view_name": "LayoutView",
            "align_content": null,
            "align_items": null,
            "align_self": null,
            "border": null,
            "bottom": null,
            "display": null,
            "flex": null,
            "flex_flow": null,
            "grid_area": null,
            "grid_auto_columns": null,
            "grid_auto_flow": null,
            "grid_auto_rows": null,
            "grid_column": null,
            "grid_gap": null,
            "grid_row": null,
            "grid_template_areas": null,
            "grid_template_columns": null,
            "grid_template_rows": null,
            "height": null,
            "justify_content": null,
            "justify_items": null,
            "left": null,
            "margin": null,
            "max_height": null,
            "max_width": null,
            "min_height": null,
            "min_width": null,
            "object_fit": null,
            "object_position": null,
            "order": null,
            "overflow": null,
            "overflow_x": null,
            "overflow_y": null,
            "padding": null,
            "right": null,
            "top": null,
            "visibility": null,
            "width": null
          }
        },
        "2d45cf6772d149bfafbd014365f8f191": {
          "model_module": "@jupyter-widgets/base",
          "model_module_version": "1.2.0",
          "model_name": "LayoutModel",
          "state": {
            "_model_module": "@jupyter-widgets/base",
            "_model_module_version": "1.2.0",
            "_model_name": "LayoutModel",
            "_view_count": null,
            "_view_module": "@jupyter-widgets/base",
            "_view_module_version": "1.2.0",
            "_view_name": "LayoutView",
            "align_content": null,
            "align_items": null,
            "align_self": null,
            "border": null,
            "bottom": null,
            "display": null,
            "flex": null,
            "flex_flow": null,
            "grid_area": null,
            "grid_auto_columns": null,
            "grid_auto_flow": null,
            "grid_auto_rows": null,
            "grid_column": null,
            "grid_gap": null,
            "grid_row": null,
            "grid_template_areas": null,
            "grid_template_columns": null,
            "grid_template_rows": null,
            "height": null,
            "justify_content": null,
            "justify_items": null,
            "left": null,
            "margin": null,
            "max_height": null,
            "max_width": null,
            "min_height": null,
            "min_width": null,
            "object_fit": null,
            "object_position": null,
            "order": null,
            "overflow": null,
            "overflow_x": null,
            "overflow_y": null,
            "padding": null,
            "right": null,
            "top": null,
            "visibility": null,
            "width": null
          }
        },
        "2e40d6d0905341f295f6e2563741783a": {
          "model_module": "@jupyter-widgets/base",
          "model_module_version": "1.2.0",
          "model_name": "LayoutModel",
          "state": {
            "_model_module": "@jupyter-widgets/base",
            "_model_module_version": "1.2.0",
            "_model_name": "LayoutModel",
            "_view_count": null,
            "_view_module": "@jupyter-widgets/base",
            "_view_module_version": "1.2.0",
            "_view_name": "LayoutView",
            "align_content": null,
            "align_items": null,
            "align_self": null,
            "border": null,
            "bottom": null,
            "display": null,
            "flex": null,
            "flex_flow": null,
            "grid_area": null,
            "grid_auto_columns": null,
            "grid_auto_flow": null,
            "grid_auto_rows": null,
            "grid_column": null,
            "grid_gap": null,
            "grid_row": null,
            "grid_template_areas": null,
            "grid_template_columns": null,
            "grid_template_rows": null,
            "height": null,
            "justify_content": null,
            "justify_items": null,
            "left": null,
            "margin": null,
            "max_height": null,
            "max_width": null,
            "min_height": null,
            "min_width": null,
            "object_fit": null,
            "object_position": null,
            "order": null,
            "overflow": null,
            "overflow_x": null,
            "overflow_y": null,
            "padding": null,
            "right": null,
            "top": null,
            "visibility": null,
            "width": null
          }
        },
        "2fb1b9bb43d84dd3aacd4589fc2aada4": {
          "model_module": "@jupyter-widgets/controls",
          "model_module_version": "1.5.0",
          "model_name": "DescriptionStyleModel",
          "state": {
            "_model_module": "@jupyter-widgets/controls",
            "_model_module_version": "1.5.0",
            "_model_name": "DescriptionStyleModel",
            "_view_count": null,
            "_view_module": "@jupyter-widgets/base",
            "_view_module_version": "1.2.0",
            "_view_name": "StyleView",
            "description_width": ""
          }
        },
        "36f0168cb84a4269bbcb22c73ab44d54": {
          "model_module": "@jupyter-widgets/controls",
          "model_module_version": "1.5.0",
          "model_name": "HTMLModel",
          "state": {
            "_dom_classes": [],
            "_model_module": "@jupyter-widgets/controls",
            "_model_module_version": "1.5.0",
            "_model_name": "HTMLModel",
            "_view_count": null,
            "_view_module": "@jupyter-widgets/controls",
            "_view_module_version": "1.5.0",
            "_view_name": "HTMLView",
            "description": "",
            "description_tooltip": null,
            "layout": "IPY_MODEL_7f80aad5a1bc443ea5c0c1b5ae871d87",
            "placeholder": "​",
            "style": "IPY_MODEL_5cd8a219b69e46aa9913ecf9ac16d8b5",
            "value": "Downloading data: 100%"
          }
        },
        "3bb2265a872a40cb9704dee3cf5e8858": {
          "model_module": "@jupyter-widgets/base",
          "model_module_version": "1.2.0",
          "model_name": "LayoutModel",
          "state": {
            "_model_module": "@jupyter-widgets/base",
            "_model_module_version": "1.2.0",
            "_model_name": "LayoutModel",
            "_view_count": null,
            "_view_module": "@jupyter-widgets/base",
            "_view_module_version": "1.2.0",
            "_view_name": "LayoutView",
            "align_content": null,
            "align_items": null,
            "align_self": null,
            "border": null,
            "bottom": null,
            "display": null,
            "flex": null,
            "flex_flow": null,
            "grid_area": null,
            "grid_auto_columns": null,
            "grid_auto_flow": null,
            "grid_auto_rows": null,
            "grid_column": null,
            "grid_gap": null,
            "grid_row": null,
            "grid_template_areas": null,
            "grid_template_columns": null,
            "grid_template_rows": null,
            "height": null,
            "justify_content": null,
            "justify_items": null,
            "left": null,
            "margin": null,
            "max_height": null,
            "max_width": null,
            "min_height": null,
            "min_width": null,
            "object_fit": null,
            "object_position": null,
            "order": null,
            "overflow": null,
            "overflow_x": null,
            "overflow_y": null,
            "padding": null,
            "right": null,
            "top": null,
            "visibility": null,
            "width": null
          }
        },
        "3c6ec360930e4a57931cca59cceb136e": {
          "model_module": "@jupyter-widgets/base",
          "model_module_version": "1.2.0",
          "model_name": "LayoutModel",
          "state": {
            "_model_module": "@jupyter-widgets/base",
            "_model_module_version": "1.2.0",
            "_model_name": "LayoutModel",
            "_view_count": null,
            "_view_module": "@jupyter-widgets/base",
            "_view_module_version": "1.2.0",
            "_view_name": "LayoutView",
            "align_content": null,
            "align_items": null,
            "align_self": null,
            "border": null,
            "bottom": null,
            "display": null,
            "flex": null,
            "flex_flow": null,
            "grid_area": null,
            "grid_auto_columns": null,
            "grid_auto_flow": null,
            "grid_auto_rows": null,
            "grid_column": null,
            "grid_gap": null,
            "grid_row": null,
            "grid_template_areas": null,
            "grid_template_columns": null,
            "grid_template_rows": null,
            "height": null,
            "justify_content": null,
            "justify_items": null,
            "left": null,
            "margin": null,
            "max_height": null,
            "max_width": null,
            "min_height": null,
            "min_width": null,
            "object_fit": null,
            "object_position": null,
            "order": null,
            "overflow": null,
            "overflow_x": null,
            "overflow_y": null,
            "padding": null,
            "right": null,
            "top": null,
            "visibility": null,
            "width": null
          }
        },
        "3d87aaa4f44148839e84d32f7292422e": {
          "model_module": "@jupyter-widgets/controls",
          "model_module_version": "1.5.0",
          "model_name": "DescriptionStyleModel",
          "state": {
            "_model_module": "@jupyter-widgets/controls",
            "_model_module_version": "1.5.0",
            "_model_name": "DescriptionStyleModel",
            "_view_count": null,
            "_view_module": "@jupyter-widgets/base",
            "_view_module_version": "1.2.0",
            "_view_name": "StyleView",
            "description_width": ""
          }
        },
        "41d45ef201984254877e67128611b00f": {
          "model_module": "@jupyter-widgets/controls",
          "model_module_version": "1.5.0",
          "model_name": "FloatProgressModel",
          "state": {
            "_dom_classes": [],
            "_model_module": "@jupyter-widgets/controls",
            "_model_module_version": "1.5.0",
            "_model_name": "FloatProgressModel",
            "_view_count": null,
            "_view_module": "@jupyter-widgets/controls",
            "_view_module_version": "1.5.0",
            "_view_name": "ProgressView",
            "bar_style": "success",
            "description": "",
            "description_tooltip": null,
            "layout": "IPY_MODEL_2bfb7e0fb6b744b1a1ab281a807e3511",
            "max": 25000,
            "min": 0,
            "orientation": "horizontal",
            "style": "IPY_MODEL_b12b0d90ed1840cda3aa64d36f2f3d7c",
            "value": 25000
          }
        },
        "44b7a2315a124ed6ae7d01eb9d41e87d": {
          "model_module": "@jupyter-widgets/base",
          "model_module_version": "1.2.0",
          "model_name": "LayoutModel",
          "state": {
            "_model_module": "@jupyter-widgets/base",
            "_model_module_version": "1.2.0",
            "_model_name": "LayoutModel",
            "_view_count": null,
            "_view_module": "@jupyter-widgets/base",
            "_view_module_version": "1.2.0",
            "_view_name": "LayoutView",
            "align_content": null,
            "align_items": null,
            "align_self": null,
            "border": null,
            "bottom": null,
            "display": null,
            "flex": null,
            "flex_flow": null,
            "grid_area": null,
            "grid_auto_columns": null,
            "grid_auto_flow": null,
            "grid_auto_rows": null,
            "grid_column": null,
            "grid_gap": null,
            "grid_row": null,
            "grid_template_areas": null,
            "grid_template_columns": null,
            "grid_template_rows": null,
            "height": null,
            "justify_content": null,
            "justify_items": null,
            "left": null,
            "margin": null,
            "max_height": null,
            "max_width": null,
            "min_height": null,
            "min_width": null,
            "object_fit": null,
            "object_position": null,
            "order": null,
            "overflow": null,
            "overflow_x": null,
            "overflow_y": null,
            "padding": null,
            "right": null,
            "top": null,
            "visibility": null,
            "width": null
          }
        },
        "45eb295c8b9b413fae926166cd36836c": {
          "model_module": "@jupyter-widgets/controls",
          "model_module_version": "1.5.0",
          "model_name": "ProgressStyleModel",
          "state": {
            "_model_module": "@jupyter-widgets/controls",
            "_model_module_version": "1.5.0",
            "_model_name": "ProgressStyleModel",
            "_view_count": null,
            "_view_module": "@jupyter-widgets/base",
            "_view_module_version": "1.2.0",
            "_view_name": "StyleView",
            "bar_color": null,
            "description_width": ""
          }
        },
        "466f13d171a64be3a5055424d1d71208": {
          "model_module": "@jupyter-widgets/base",
          "model_module_version": "1.2.0",
          "model_name": "LayoutModel",
          "state": {
            "_model_module": "@jupyter-widgets/base",
            "_model_module_version": "1.2.0",
            "_model_name": "LayoutModel",
            "_view_count": null,
            "_view_module": "@jupyter-widgets/base",
            "_view_module_version": "1.2.0",
            "_view_name": "LayoutView",
            "align_content": null,
            "align_items": null,
            "align_self": null,
            "border": null,
            "bottom": null,
            "display": null,
            "flex": null,
            "flex_flow": null,
            "grid_area": null,
            "grid_auto_columns": null,
            "grid_auto_flow": null,
            "grid_auto_rows": null,
            "grid_column": null,
            "grid_gap": null,
            "grid_row": null,
            "grid_template_areas": null,
            "grid_template_columns": null,
            "grid_template_rows": null,
            "height": null,
            "justify_content": null,
            "justify_items": null,
            "left": null,
            "margin": null,
            "max_height": null,
            "max_width": null,
            "min_height": null,
            "min_width": null,
            "object_fit": null,
            "object_position": null,
            "order": null,
            "overflow": null,
            "overflow_x": null,
            "overflow_y": null,
            "padding": null,
            "right": null,
            "top": null,
            "visibility": null,
            "width": null
          }
        },
        "4e60b02fa07540cc81b3d8fc5101bc52": {
          "model_module": "@jupyter-widgets/controls",
          "model_module_version": "1.5.0",
          "model_name": "FloatProgressModel",
          "state": {
            "_dom_classes": [],
            "_model_module": "@jupyter-widgets/controls",
            "_model_module_version": "1.5.0",
            "_model_name": "FloatProgressModel",
            "_view_count": null,
            "_view_module": "@jupyter-widgets/controls",
            "_view_module_version": "1.5.0",
            "_view_name": "ProgressView",
            "bar_style": "success",
            "description": "",
            "description_tooltip": null,
            "layout": "IPY_MODEL_ffcb6442757c4d8fa0b64d6813c261f2",
            "max": 20979968,
            "min": 0,
            "orientation": "horizontal",
            "style": "IPY_MODEL_0ea1ef2cd8574f3385da830711032285",
            "value": 20979968
          }
        },
        "54733c51d16d48f098862efe3b5981a6": {
          "model_module": "@jupyter-widgets/base",
          "model_module_version": "1.2.0",
          "model_name": "LayoutModel",
          "state": {
            "_model_module": "@jupyter-widgets/base",
            "_model_module_version": "1.2.0",
            "_model_name": "LayoutModel",
            "_view_count": null,
            "_view_module": "@jupyter-widgets/base",
            "_view_module_version": "1.2.0",
            "_view_name": "LayoutView",
            "align_content": null,
            "align_items": null,
            "align_self": null,
            "border": null,
            "bottom": null,
            "display": null,
            "flex": null,
            "flex_flow": null,
            "grid_area": null,
            "grid_auto_columns": null,
            "grid_auto_flow": null,
            "grid_auto_rows": null,
            "grid_column": null,
            "grid_gap": null,
            "grid_row": null,
            "grid_template_areas": null,
            "grid_template_columns": null,
            "grid_template_rows": null,
            "height": null,
            "justify_content": null,
            "justify_items": null,
            "left": null,
            "margin": null,
            "max_height": null,
            "max_width": null,
            "min_height": null,
            "min_width": null,
            "object_fit": null,
            "object_position": null,
            "order": null,
            "overflow": null,
            "overflow_x": null,
            "overflow_y": null,
            "padding": null,
            "right": null,
            "top": null,
            "visibility": null,
            "width": null
          }
        },
        "54748003511e4ff49a91c73d3f3df2f6": {
          "model_module": "@jupyter-widgets/controls",
          "model_module_version": "1.5.0",
          "model_name": "DescriptionStyleModel",
          "state": {
            "_model_module": "@jupyter-widgets/controls",
            "_model_module_version": "1.5.0",
            "_model_name": "DescriptionStyleModel",
            "_view_count": null,
            "_view_module": "@jupyter-widgets/base",
            "_view_module_version": "1.2.0",
            "_view_name": "StyleView",
            "description_width": ""
          }
        },
        "593301961d294c0aa115fe23699fd8e7": {
          "model_module": "@jupyter-widgets/controls",
          "model_module_version": "1.5.0",
          "model_name": "DescriptionStyleModel",
          "state": {
            "_model_module": "@jupyter-widgets/controls",
            "_model_module_version": "1.5.0",
            "_model_name": "DescriptionStyleModel",
            "_view_count": null,
            "_view_module": "@jupyter-widgets/base",
            "_view_module_version": "1.2.0",
            "_view_name": "StyleView",
            "description_width": ""
          }
        },
        "599c8f9597aa4d7cbf08fe8740a9841b": {
          "model_module": "@jupyter-widgets/base",
          "model_module_version": "1.2.0",
          "model_name": "LayoutModel",
          "state": {
            "_model_module": "@jupyter-widgets/base",
            "_model_module_version": "1.2.0",
            "_model_name": "LayoutModel",
            "_view_count": null,
            "_view_module": "@jupyter-widgets/base",
            "_view_module_version": "1.2.0",
            "_view_name": "LayoutView",
            "align_content": null,
            "align_items": null,
            "align_self": null,
            "border": null,
            "bottom": null,
            "display": null,
            "flex": null,
            "flex_flow": null,
            "grid_area": null,
            "grid_auto_columns": null,
            "grid_auto_flow": null,
            "grid_auto_rows": null,
            "grid_column": null,
            "grid_gap": null,
            "grid_row": null,
            "grid_template_areas": null,
            "grid_template_columns": null,
            "grid_template_rows": null,
            "height": null,
            "justify_content": null,
            "justify_items": null,
            "left": null,
            "margin": null,
            "max_height": null,
            "max_width": null,
            "min_height": null,
            "min_width": null,
            "object_fit": null,
            "object_position": null,
            "order": null,
            "overflow": null,
            "overflow_x": null,
            "overflow_y": null,
            "padding": null,
            "right": null,
            "top": null,
            "visibility": null,
            "width": null
          }
        },
        "5cd8a219b69e46aa9913ecf9ac16d8b5": {
          "model_module": "@jupyter-widgets/controls",
          "model_module_version": "1.5.0",
          "model_name": "DescriptionStyleModel",
          "state": {
            "_model_module": "@jupyter-widgets/controls",
            "_model_module_version": "1.5.0",
            "_model_name": "DescriptionStyleModel",
            "_view_count": null,
            "_view_module": "@jupyter-widgets/base",
            "_view_module_version": "1.2.0",
            "_view_name": "StyleView",
            "description_width": ""
          }
        },
        "5cfdb87a29b34693b2b65fb915bd4dd6": {
          "model_module": "@jupyter-widgets/controls",
          "model_module_version": "1.5.0",
          "model_name": "HTMLModel",
          "state": {
            "_dom_classes": [],
            "_model_module": "@jupyter-widgets/controls",
            "_model_module_version": "1.5.0",
            "_model_name": "HTMLModel",
            "_view_count": null,
            "_view_module": "@jupyter-widgets/controls",
            "_view_module_version": "1.5.0",
            "_view_name": "HTMLView",
            "description": "",
            "description_tooltip": null,
            "layout": "IPY_MODEL_cb314a81ab75474fb481c52f4a1ed842",
            "placeholder": "​",
            "style": "IPY_MODEL_e36d5e5b22e0407b810231a97acbf73e",
            "value": " 25000/25000 [00:00&lt;00:00, 66711.86 examples/s]"
          }
        },
        "5de8dbc30dcc46bf91c6b06a4e13931b": {
          "model_module": "@jupyter-widgets/base",
          "model_module_version": "1.2.0",
          "model_name": "LayoutModel",
          "state": {
            "_model_module": "@jupyter-widgets/base",
            "_model_module_version": "1.2.0",
            "_model_name": "LayoutModel",
            "_view_count": null,
            "_view_module": "@jupyter-widgets/base",
            "_view_module_version": "1.2.0",
            "_view_name": "LayoutView",
            "align_content": null,
            "align_items": null,
            "align_self": null,
            "border": null,
            "bottom": null,
            "display": null,
            "flex": null,
            "flex_flow": null,
            "grid_area": null,
            "grid_auto_columns": null,
            "grid_auto_flow": null,
            "grid_auto_rows": null,
            "grid_column": null,
            "grid_gap": null,
            "grid_row": null,
            "grid_template_areas": null,
            "grid_template_columns": null,
            "grid_template_rows": null,
            "height": null,
            "justify_content": null,
            "justify_items": null,
            "left": null,
            "margin": null,
            "max_height": null,
            "max_width": null,
            "min_height": null,
            "min_width": null,
            "object_fit": null,
            "object_position": null,
            "order": null,
            "overflow": null,
            "overflow_x": null,
            "overflow_y": null,
            "padding": null,
            "right": null,
            "top": null,
            "visibility": null,
            "width": null
          }
        },
        "61bd816155a946c9b07a864c22231f85": {
          "model_module": "@jupyter-widgets/controls",
          "model_module_version": "1.5.0",
          "model_name": "HBoxModel",
          "state": {
            "_dom_classes": [],
            "_model_module": "@jupyter-widgets/controls",
            "_model_module_version": "1.5.0",
            "_model_name": "HBoxModel",
            "_view_count": null,
            "_view_module": "@jupyter-widgets/controls",
            "_view_module_version": "1.5.0",
            "_view_name": "HBoxView",
            "box_style": "",
            "children": [
              "IPY_MODEL_137927bd797149efb17707da77674f78",
              "IPY_MODEL_41d45ef201984254877e67128611b00f",
              "IPY_MODEL_9652d4067a9344edb35777d73a140e54"
            ],
            "layout": "IPY_MODEL_44b7a2315a124ed6ae7d01eb9d41e87d"
          }
        },
        "63ada6281f1d448b866e6068020f40ac": {
          "model_module": "@jupyter-widgets/controls",
          "model_module_version": "1.5.0",
          "model_name": "HTMLModel",
          "state": {
            "_dom_classes": [],
            "_model_module": "@jupyter-widgets/controls",
            "_model_module_version": "1.5.0",
            "_model_name": "HTMLModel",
            "_view_count": null,
            "_view_module": "@jupyter-widgets/controls",
            "_view_module_version": "1.5.0",
            "_view_name": "HTMLView",
            "description": "",
            "description_tooltip": null,
            "layout": "IPY_MODEL_bfd298f36bea418b8e80000245c25ed1",
            "placeholder": "​",
            "style": "IPY_MODEL_2a0634254c42464e960eca2fd4f185a3",
            "value": " 21.0M/21.0M [00:00&lt;00:00, 39.3MB/s]"
          }
        },
        "6a6bd6514aa8402e978923dde155551e": {
          "model_module": "@jupyter-widgets/controls",
          "model_module_version": "1.5.0",
          "model_name": "HBoxModel",
          "state": {
            "_dom_classes": [],
            "_model_module": "@jupyter-widgets/controls",
            "_model_module_version": "1.5.0",
            "_model_name": "HBoxModel",
            "_view_count": null,
            "_view_module": "@jupyter-widgets/controls",
            "_view_module_version": "1.5.0",
            "_view_name": "HBoxView",
            "box_style": "",
            "children": [
              "IPY_MODEL_a380327b8df24a01b85511c64523ca01",
              "IPY_MODEL_bcc23dfef01e42fea8bb94b0c5e6f3fc",
              "IPY_MODEL_aacad03af7d34da481016a5a2c801bc7"
            ],
            "layout": "IPY_MODEL_9dd07ae5bb424ebdadf42d9e10196f8f"
          }
        },
        "6b8ec5013a5b4fbabfe2a9a63777a3e5": {
          "model_module": "@jupyter-widgets/controls",
          "model_module_version": "1.5.0",
          "model_name": "FloatProgressModel",
          "state": {
            "_dom_classes": [],
            "_model_module": "@jupyter-widgets/controls",
            "_model_module_version": "1.5.0",
            "_model_name": "FloatProgressModel",
            "_view_count": null,
            "_view_module": "@jupyter-widgets/controls",
            "_view_module_version": "1.5.0",
            "_view_name": "ProgressView",
            "bar_style": "success",
            "description": "",
            "description_tooltip": null,
            "layout": "IPY_MODEL_9b8c5af3524146e2ad367d7b2ba65486",
            "max": 4203,
            "min": 0,
            "orientation": "horizontal",
            "style": "IPY_MODEL_ba26f013e85341eca873279c5dafbdf3",
            "value": 4203
          }
        },
        "7129ce8bc63745ad9605fc60bf086c3a": {
          "model_module": "@jupyter-widgets/base",
          "model_module_version": "1.2.0",
          "model_name": "LayoutModel",
          "state": {
            "_model_module": "@jupyter-widgets/base",
            "_model_module_version": "1.2.0",
            "_model_name": "LayoutModel",
            "_view_count": null,
            "_view_module": "@jupyter-widgets/base",
            "_view_module_version": "1.2.0",
            "_view_name": "LayoutView",
            "align_content": null,
            "align_items": null,
            "align_self": null,
            "border": null,
            "bottom": null,
            "display": null,
            "flex": null,
            "flex_flow": null,
            "grid_area": null,
            "grid_auto_columns": null,
            "grid_auto_flow": null,
            "grid_auto_rows": null,
            "grid_column": null,
            "grid_gap": null,
            "grid_row": null,
            "grid_template_areas": null,
            "grid_template_columns": null,
            "grid_template_rows": null,
            "height": null,
            "justify_content": null,
            "justify_items": null,
            "left": null,
            "margin": null,
            "max_height": null,
            "max_width": null,
            "min_height": null,
            "min_width": null,
            "object_fit": null,
            "object_position": null,
            "order": null,
            "overflow": null,
            "overflow_x": null,
            "overflow_y": null,
            "padding": null,
            "right": null,
            "top": null,
            "visibility": null,
            "width": null
          }
        },
        "79a8c323bee44560bd087a1f052cb1af": {
          "model_module": "@jupyter-widgets/base",
          "model_module_version": "1.2.0",
          "model_name": "LayoutModel",
          "state": {
            "_model_module": "@jupyter-widgets/base",
            "_model_module_version": "1.2.0",
            "_model_name": "LayoutModel",
            "_view_count": null,
            "_view_module": "@jupyter-widgets/base",
            "_view_module_version": "1.2.0",
            "_view_name": "LayoutView",
            "align_content": null,
            "align_items": null,
            "align_self": null,
            "border": null,
            "bottom": null,
            "display": null,
            "flex": null,
            "flex_flow": null,
            "grid_area": null,
            "grid_auto_columns": null,
            "grid_auto_flow": null,
            "grid_auto_rows": null,
            "grid_column": null,
            "grid_gap": null,
            "grid_row": null,
            "grid_template_areas": null,
            "grid_template_columns": null,
            "grid_template_rows": null,
            "height": null,
            "justify_content": null,
            "justify_items": null,
            "left": null,
            "margin": null,
            "max_height": null,
            "max_width": null,
            "min_height": null,
            "min_width": null,
            "object_fit": null,
            "object_position": null,
            "order": null,
            "overflow": null,
            "overflow_x": null,
            "overflow_y": null,
            "padding": null,
            "right": null,
            "top": null,
            "visibility": null,
            "width": null
          }
        },
        "7f80aad5a1bc443ea5c0c1b5ae871d87": {
          "model_module": "@jupyter-widgets/base",
          "model_module_version": "1.2.0",
          "model_name": "LayoutModel",
          "state": {
            "_model_module": "@jupyter-widgets/base",
            "_model_module_version": "1.2.0",
            "_model_name": "LayoutModel",
            "_view_count": null,
            "_view_module": "@jupyter-widgets/base",
            "_view_module_version": "1.2.0",
            "_view_name": "LayoutView",
            "align_content": null,
            "align_items": null,
            "align_self": null,
            "border": null,
            "bottom": null,
            "display": null,
            "flex": null,
            "flex_flow": null,
            "grid_area": null,
            "grid_auto_columns": null,
            "grid_auto_flow": null,
            "grid_auto_rows": null,
            "grid_column": null,
            "grid_gap": null,
            "grid_row": null,
            "grid_template_areas": null,
            "grid_template_columns": null,
            "grid_template_rows": null,
            "height": null,
            "justify_content": null,
            "justify_items": null,
            "left": null,
            "margin": null,
            "max_height": null,
            "max_width": null,
            "min_height": null,
            "min_width": null,
            "object_fit": null,
            "object_position": null,
            "order": null,
            "overflow": null,
            "overflow_x": null,
            "overflow_y": null,
            "padding": null,
            "right": null,
            "top": null,
            "visibility": null,
            "width": null
          }
        },
        "832baac0e0af4bccbc5af062076bcf96": {
          "model_module": "@jupyter-widgets/base",
          "model_module_version": "1.2.0",
          "model_name": "LayoutModel",
          "state": {
            "_model_module": "@jupyter-widgets/base",
            "_model_module_version": "1.2.0",
            "_model_name": "LayoutModel",
            "_view_count": null,
            "_view_module": "@jupyter-widgets/base",
            "_view_module_version": "1.2.0",
            "_view_name": "LayoutView",
            "align_content": null,
            "align_items": null,
            "align_self": null,
            "border": null,
            "bottom": null,
            "display": null,
            "flex": null,
            "flex_flow": null,
            "grid_area": null,
            "grid_auto_columns": null,
            "grid_auto_flow": null,
            "grid_auto_rows": null,
            "grid_column": null,
            "grid_gap": null,
            "grid_row": null,
            "grid_template_areas": null,
            "grid_template_columns": null,
            "grid_template_rows": null,
            "height": null,
            "justify_content": null,
            "justify_items": null,
            "left": null,
            "margin": null,
            "max_height": null,
            "max_width": null,
            "min_height": null,
            "min_width": null,
            "object_fit": null,
            "object_position": null,
            "order": null,
            "overflow": null,
            "overflow_x": null,
            "overflow_y": null,
            "padding": null,
            "right": null,
            "top": null,
            "visibility": null,
            "width": null
          }
        },
        "8b1014a383764fe6b5e5c0c341b5e8f5": {
          "model_module": "@jupyter-widgets/base",
          "model_module_version": "1.2.0",
          "model_name": "LayoutModel",
          "state": {
            "_model_module": "@jupyter-widgets/base",
            "_model_module_version": "1.2.0",
            "_model_name": "LayoutModel",
            "_view_count": null,
            "_view_module": "@jupyter-widgets/base",
            "_view_module_version": "1.2.0",
            "_view_name": "LayoutView",
            "align_content": null,
            "align_items": null,
            "align_self": null,
            "border": null,
            "bottom": null,
            "display": null,
            "flex": null,
            "flex_flow": null,
            "grid_area": null,
            "grid_auto_columns": null,
            "grid_auto_flow": null,
            "grid_auto_rows": null,
            "grid_column": null,
            "grid_gap": null,
            "grid_row": null,
            "grid_template_areas": null,
            "grid_template_columns": null,
            "grid_template_rows": null,
            "height": null,
            "justify_content": null,
            "justify_items": null,
            "left": null,
            "margin": null,
            "max_height": null,
            "max_width": null,
            "min_height": null,
            "min_width": null,
            "object_fit": null,
            "object_position": null,
            "order": null,
            "overflow": null,
            "overflow_x": null,
            "overflow_y": null,
            "padding": null,
            "right": null,
            "top": null,
            "visibility": null,
            "width": null
          }
        },
        "8bc478ee4f37434a9e92e28a90c659ea": {
          "model_module": "@jupyter-widgets/base",
          "model_module_version": "1.2.0",
          "model_name": "LayoutModel",
          "state": {
            "_model_module": "@jupyter-widgets/base",
            "_model_module_version": "1.2.0",
            "_model_name": "LayoutModel",
            "_view_count": null,
            "_view_module": "@jupyter-widgets/base",
            "_view_module_version": "1.2.0",
            "_view_name": "LayoutView",
            "align_content": null,
            "align_items": null,
            "align_self": null,
            "border": null,
            "bottom": null,
            "display": null,
            "flex": null,
            "flex_flow": null,
            "grid_area": null,
            "grid_auto_columns": null,
            "grid_auto_flow": null,
            "grid_auto_rows": null,
            "grid_column": null,
            "grid_gap": null,
            "grid_row": null,
            "grid_template_areas": null,
            "grid_template_columns": null,
            "grid_template_rows": null,
            "height": null,
            "justify_content": null,
            "justify_items": null,
            "left": null,
            "margin": null,
            "max_height": null,
            "max_width": null,
            "min_height": null,
            "min_width": null,
            "object_fit": null,
            "object_position": null,
            "order": null,
            "overflow": null,
            "overflow_x": null,
            "overflow_y": null,
            "padding": null,
            "right": null,
            "top": null,
            "visibility": null,
            "width": null
          }
        },
        "8f3ece1cf54b4e7f83c5413bf359e9e3": {
          "model_module": "@jupyter-widgets/controls",
          "model_module_version": "1.5.0",
          "model_name": "HTMLModel",
          "state": {
            "_dom_classes": [],
            "_model_module": "@jupyter-widgets/controls",
            "_model_module_version": "1.5.0",
            "_model_name": "HTMLModel",
            "_view_count": null,
            "_view_module": "@jupyter-widgets/controls",
            "_view_module_version": "1.5.0",
            "_view_name": "HTMLView",
            "description": "",
            "description_tooltip": null,
            "layout": "IPY_MODEL_3c6ec360930e4a57931cca59cceb136e",
            "placeholder": "​",
            "style": "IPY_MODEL_ca2557e24b204e9abc13522c5c192e91",
            "value": " 50000/50000 [00:00&lt;00:00, 78904.33 examples/s]"
          }
        },
        "90eb5c7a2d8f4627bcaae84cfc8f4766": {
          "model_module": "@jupyter-widgets/controls",
          "model_module_version": "1.5.0",
          "model_name": "HBoxModel",
          "state": {
            "_dom_classes": [],
            "_model_module": "@jupyter-widgets/controls",
            "_model_module_version": "1.5.0",
            "_model_name": "HBoxModel",
            "_view_count": null,
            "_view_module": "@jupyter-widgets/controls",
            "_view_module_version": "1.5.0",
            "_view_name": "HBoxView",
            "box_style": "",
            "children": [
              "IPY_MODEL_c1521782dbe74f9bac8cda73d2c4f3fb",
              "IPY_MODEL_fe4208bf6680465697a87889ec3f120c",
              "IPY_MODEL_5cfdb87a29b34693b2b65fb915bd4dd6"
            ],
            "layout": "IPY_MODEL_128df31502d445159c9b82651e01014f"
          }
        },
        "957fa9d3dc3344faa6b28534b3051e19": {
          "model_module": "@jupyter-widgets/controls",
          "model_module_version": "1.5.0",
          "model_name": "FloatProgressModel",
          "state": {
            "_dom_classes": [],
            "_model_module": "@jupyter-widgets/controls",
            "_model_module_version": "1.5.0",
            "_model_name": "FloatProgressModel",
            "_view_count": null,
            "_view_module": "@jupyter-widgets/controls",
            "_view_module_version": "1.5.0",
            "_view_name": "ProgressView",
            "bar_style": "success",
            "description": "",
            "description_tooltip": null,
            "layout": "IPY_MODEL_15dd150da71c4818ade5f27be603a147",
            "max": 25000,
            "min": 0,
            "orientation": "horizontal",
            "style": "IPY_MODEL_b9b95ed802084d41b4975bf5169ea9ae",
            "value": 25000
          }
        },
        "959de368cabf4d51b46825f895b88b97": {
          "model_module": "@jupyter-widgets/base",
          "model_module_version": "1.2.0",
          "model_name": "LayoutModel",
          "state": {
            "_model_module": "@jupyter-widgets/base",
            "_model_module_version": "1.2.0",
            "_model_name": "LayoutModel",
            "_view_count": null,
            "_view_module": "@jupyter-widgets/base",
            "_view_module_version": "1.2.0",
            "_view_name": "LayoutView",
            "align_content": null,
            "align_items": null,
            "align_self": null,
            "border": null,
            "bottom": null,
            "display": null,
            "flex": null,
            "flex_flow": null,
            "grid_area": null,
            "grid_auto_columns": null,
            "grid_auto_flow": null,
            "grid_auto_rows": null,
            "grid_column": null,
            "grid_gap": null,
            "grid_row": null,
            "grid_template_areas": null,
            "grid_template_columns": null,
            "grid_template_rows": null,
            "height": null,
            "justify_content": null,
            "justify_items": null,
            "left": null,
            "margin": null,
            "max_height": null,
            "max_width": null,
            "min_height": null,
            "min_width": null,
            "object_fit": null,
            "object_position": null,
            "order": null,
            "overflow": null,
            "overflow_x": null,
            "overflow_y": null,
            "padding": null,
            "right": null,
            "top": null,
            "visibility": null,
            "width": null
          }
        },
        "9652d4067a9344edb35777d73a140e54": {
          "model_module": "@jupyter-widgets/controls",
          "model_module_version": "1.5.0",
          "model_name": "HTMLModel",
          "state": {
            "_dom_classes": [],
            "_model_module": "@jupyter-widgets/controls",
            "_model_module_version": "1.5.0",
            "_model_name": "HTMLModel",
            "_view_count": null,
            "_view_module": "@jupyter-widgets/controls",
            "_view_module_version": "1.5.0",
            "_view_name": "HTMLView",
            "description": "",
            "description_tooltip": null,
            "layout": "IPY_MODEL_599c8f9597aa4d7cbf08fe8740a9841b",
            "placeholder": "​",
            "style": "IPY_MODEL_acd06f252bca41509d20ca29dd2b8b86",
            "value": " 25000/25000 [00:00&lt;00:00, 79754.75 examples/s]"
          }
        },
        "9a4b67c0fb774ac7b147098e1efd7260": {
          "model_module": "@jupyter-widgets/controls",
          "model_module_version": "1.5.0",
          "model_name": "DescriptionStyleModel",
          "state": {
            "_model_module": "@jupyter-widgets/controls",
            "_model_module_version": "1.5.0",
            "_model_name": "DescriptionStyleModel",
            "_view_count": null,
            "_view_module": "@jupyter-widgets/base",
            "_view_module_version": "1.2.0",
            "_view_name": "StyleView",
            "description_width": ""
          }
        },
        "9a8e21f649e440cda780ffca8d67805c": {
          "model_module": "@jupyter-widgets/base",
          "model_module_version": "1.2.0",
          "model_name": "LayoutModel",
          "state": {
            "_model_module": "@jupyter-widgets/base",
            "_model_module_version": "1.2.0",
            "_model_name": "LayoutModel",
            "_view_count": null,
            "_view_module": "@jupyter-widgets/base",
            "_view_module_version": "1.2.0",
            "_view_name": "LayoutView",
            "align_content": null,
            "align_items": null,
            "align_self": null,
            "border": null,
            "bottom": null,
            "display": null,
            "flex": null,
            "flex_flow": null,
            "grid_area": null,
            "grid_auto_columns": null,
            "grid_auto_flow": null,
            "grid_auto_rows": null,
            "grid_column": null,
            "grid_gap": null,
            "grid_row": null,
            "grid_template_areas": null,
            "grid_template_columns": null,
            "grid_template_rows": null,
            "height": null,
            "justify_content": null,
            "justify_items": null,
            "left": null,
            "margin": null,
            "max_height": null,
            "max_width": null,
            "min_height": null,
            "min_width": null,
            "object_fit": null,
            "object_position": null,
            "order": null,
            "overflow": null,
            "overflow_x": null,
            "overflow_y": null,
            "padding": null,
            "right": null,
            "top": null,
            "visibility": null,
            "width": null
          }
        },
        "9ac126c24753423698adc9d6c5b48087": {
          "model_module": "@jupyter-widgets/controls",
          "model_module_version": "1.5.0",
          "model_name": "ProgressStyleModel",
          "state": {
            "_model_module": "@jupyter-widgets/controls",
            "_model_module_version": "1.5.0",
            "_model_name": "ProgressStyleModel",
            "_view_count": null,
            "_view_module": "@jupyter-widgets/base",
            "_view_module_version": "1.2.0",
            "_view_name": "StyleView",
            "bar_color": null,
            "description_width": ""
          }
        },
        "9b8c5af3524146e2ad367d7b2ba65486": {
          "model_module": "@jupyter-widgets/base",
          "model_module_version": "1.2.0",
          "model_name": "LayoutModel",
          "state": {
            "_model_module": "@jupyter-widgets/base",
            "_model_module_version": "1.2.0",
            "_model_name": "LayoutModel",
            "_view_count": null,
            "_view_module": "@jupyter-widgets/base",
            "_view_module_version": "1.2.0",
            "_view_name": "LayoutView",
            "align_content": null,
            "align_items": null,
            "align_self": null,
            "border": null,
            "bottom": null,
            "display": null,
            "flex": null,
            "flex_flow": null,
            "grid_area": null,
            "grid_auto_columns": null,
            "grid_auto_flow": null,
            "grid_auto_rows": null,
            "grid_column": null,
            "grid_gap": null,
            "grid_row": null,
            "grid_template_areas": null,
            "grid_template_columns": null,
            "grid_template_rows": null,
            "height": null,
            "justify_content": null,
            "justify_items": null,
            "left": null,
            "margin": null,
            "max_height": null,
            "max_width": null,
            "min_height": null,
            "min_width": null,
            "object_fit": null,
            "object_position": null,
            "order": null,
            "overflow": null,
            "overflow_x": null,
            "overflow_y": null,
            "padding": null,
            "right": null,
            "top": null,
            "visibility": null,
            "width": null
          }
        },
        "9c98cd7ac7e340a2830fe677bf5f60cd": {
          "model_module": "@jupyter-widgets/controls",
          "model_module_version": "1.5.0",
          "model_name": "HBoxModel",
          "state": {
            "_dom_classes": [],
            "_model_module": "@jupyter-widgets/controls",
            "_model_module_version": "1.5.0",
            "_model_name": "HBoxModel",
            "_view_count": null,
            "_view_module": "@jupyter-widgets/controls",
            "_view_module_version": "1.5.0",
            "_view_name": "HBoxView",
            "box_style": "",
            "children": [
              "IPY_MODEL_28ea4db6f6d44017b326ce9da7830ca4",
              "IPY_MODEL_288ac80ae11d421bac87e2438e62c2b5",
              "IPY_MODEL_d686c7ce5f32456bb071c49d772678d0"
            ],
            "layout": "IPY_MODEL_9a8e21f649e440cda780ffca8d67805c"
          }
        },
        "9dd07ae5bb424ebdadf42d9e10196f8f": {
          "model_module": "@jupyter-widgets/base",
          "model_module_version": "1.2.0",
          "model_name": "LayoutModel",
          "state": {
            "_model_module": "@jupyter-widgets/base",
            "_model_module_version": "1.2.0",
            "_model_name": "LayoutModel",
            "_view_count": null,
            "_view_module": "@jupyter-widgets/base",
            "_view_module_version": "1.2.0",
            "_view_name": "LayoutView",
            "align_content": null,
            "align_items": null,
            "align_self": null,
            "border": null,
            "bottom": null,
            "display": null,
            "flex": null,
            "flex_flow": null,
            "grid_area": null,
            "grid_auto_columns": null,
            "grid_auto_flow": null,
            "grid_auto_rows": null,
            "grid_column": null,
            "grid_gap": null,
            "grid_row": null,
            "grid_template_areas": null,
            "grid_template_columns": null,
            "grid_template_rows": null,
            "height": null,
            "justify_content": null,
            "justify_items": null,
            "left": null,
            "margin": null,
            "max_height": null,
            "max_width": null,
            "min_height": null,
            "min_width": null,
            "object_fit": null,
            "object_position": null,
            "order": null,
            "overflow": null,
            "overflow_x": null,
            "overflow_y": null,
            "padding": null,
            "right": null,
            "top": null,
            "visibility": null,
            "width": null
          }
        },
        "a0ec090f1b154f328f4aa216370ebdce": {
          "model_module": "@jupyter-widgets/controls",
          "model_module_version": "1.5.0",
          "model_name": "DescriptionStyleModel",
          "state": {
            "_model_module": "@jupyter-widgets/controls",
            "_model_module_version": "1.5.0",
            "_model_name": "DescriptionStyleModel",
            "_view_count": null,
            "_view_module": "@jupyter-widgets/base",
            "_view_module_version": "1.2.0",
            "_view_name": "StyleView",
            "description_width": ""
          }
        },
        "a380327b8df24a01b85511c64523ca01": {
          "model_module": "@jupyter-widgets/controls",
          "model_module_version": "1.5.0",
          "model_name": "HTMLModel",
          "state": {
            "_dom_classes": [],
            "_model_module": "@jupyter-widgets/controls",
            "_model_module_version": "1.5.0",
            "_model_name": "HTMLModel",
            "_view_count": null,
            "_view_module": "@jupyter-widgets/controls",
            "_view_module_version": "1.5.0",
            "_view_name": "HTMLView",
            "description": "",
            "description_tooltip": null,
            "layout": "IPY_MODEL_cf4e654be55140b1ad6d9f5439081ee9",
            "placeholder": "​",
            "style": "IPY_MODEL_a0ec090f1b154f328f4aa216370ebdce",
            "value": "Downloading data: 100%"
          }
        },
        "a4206c82275847ef8c464265c9eaea08": {
          "model_module": "@jupyter-widgets/controls",
          "model_module_version": "1.5.0",
          "model_name": "DescriptionStyleModel",
          "state": {
            "_model_module": "@jupyter-widgets/controls",
            "_model_module_version": "1.5.0",
            "_model_name": "DescriptionStyleModel",
            "_view_count": null,
            "_view_module": "@jupyter-widgets/base",
            "_view_module_version": "1.2.0",
            "_view_name": "StyleView",
            "description_width": ""
          }
        },
        "aacad03af7d34da481016a5a2c801bc7": {
          "model_module": "@jupyter-widgets/controls",
          "model_module_version": "1.5.0",
          "model_name": "HTMLModel",
          "state": {
            "_dom_classes": [],
            "_model_module": "@jupyter-widgets/controls",
            "_model_module_version": "1.5.0",
            "_model_name": "HTMLModel",
            "_view_count": null,
            "_view_module": "@jupyter-widgets/controls",
            "_view_module_version": "1.5.0",
            "_view_name": "HTMLView",
            "description": "",
            "description_tooltip": null,
            "layout": "IPY_MODEL_466f13d171a64be3a5055424d1d71208",
            "placeholder": "​",
            "style": "IPY_MODEL_a4206c82275847ef8c464265c9eaea08",
            "value": " 42.0M/42.0M [00:00&lt;00:00, 46.6MB/s]"
          }
        },
        "acd06f252bca41509d20ca29dd2b8b86": {
          "model_module": "@jupyter-widgets/controls",
          "model_module_version": "1.5.0",
          "model_name": "DescriptionStyleModel",
          "state": {
            "_model_module": "@jupyter-widgets/controls",
            "_model_module_version": "1.5.0",
            "_model_name": "DescriptionStyleModel",
            "_view_count": null,
            "_view_module": "@jupyter-widgets/base",
            "_view_module_version": "1.2.0",
            "_view_name": "StyleView",
            "description_width": ""
          }
        },
        "b01b1e69045c47f5a743821f14d9d970": {
          "model_module": "@jupyter-widgets/controls",
          "model_module_version": "1.5.0",
          "model_name": "DescriptionStyleModel",
          "state": {
            "_model_module": "@jupyter-widgets/controls",
            "_model_module_version": "1.5.0",
            "_model_name": "DescriptionStyleModel",
            "_view_count": null,
            "_view_module": "@jupyter-widgets/base",
            "_view_module_version": "1.2.0",
            "_view_name": "StyleView",
            "description_width": ""
          }
        },
        "b12b0d90ed1840cda3aa64d36f2f3d7c": {
          "model_module": "@jupyter-widgets/controls",
          "model_module_version": "1.5.0",
          "model_name": "ProgressStyleModel",
          "state": {
            "_model_module": "@jupyter-widgets/controls",
            "_model_module_version": "1.5.0",
            "_model_name": "ProgressStyleModel",
            "_view_count": null,
            "_view_module": "@jupyter-widgets/base",
            "_view_module_version": "1.2.0",
            "_view_name": "StyleView",
            "bar_color": null,
            "description_width": ""
          }
        },
        "b364405e003e49afb820eac3827d422d": {
          "model_module": "@jupyter-widgets/base",
          "model_module_version": "1.2.0",
          "model_name": "LayoutModel",
          "state": {
            "_model_module": "@jupyter-widgets/base",
            "_model_module_version": "1.2.0",
            "_model_name": "LayoutModel",
            "_view_count": null,
            "_view_module": "@jupyter-widgets/base",
            "_view_module_version": "1.2.0",
            "_view_name": "LayoutView",
            "align_content": null,
            "align_items": null,
            "align_self": null,
            "border": null,
            "bottom": null,
            "display": null,
            "flex": null,
            "flex_flow": null,
            "grid_area": null,
            "grid_auto_columns": null,
            "grid_auto_flow": null,
            "grid_auto_rows": null,
            "grid_column": null,
            "grid_gap": null,
            "grid_row": null,
            "grid_template_areas": null,
            "grid_template_columns": null,
            "grid_template_rows": null,
            "height": null,
            "justify_content": null,
            "justify_items": null,
            "left": null,
            "margin": null,
            "max_height": null,
            "max_width": null,
            "min_height": null,
            "min_width": null,
            "object_fit": null,
            "object_position": null,
            "order": null,
            "overflow": null,
            "overflow_x": null,
            "overflow_y": null,
            "padding": null,
            "right": null,
            "top": null,
            "visibility": null,
            "width": null
          }
        },
        "b5eebda55aad4a48889c8e7cf3ab4975": {
          "model_module": "@jupyter-widgets/base",
          "model_module_version": "1.2.0",
          "model_name": "LayoutModel",
          "state": {
            "_model_module": "@jupyter-widgets/base",
            "_model_module_version": "1.2.0",
            "_model_name": "LayoutModel",
            "_view_count": null,
            "_view_module": "@jupyter-widgets/base",
            "_view_module_version": "1.2.0",
            "_view_name": "LayoutView",
            "align_content": null,
            "align_items": null,
            "align_self": null,
            "border": null,
            "bottom": null,
            "display": null,
            "flex": null,
            "flex_flow": null,
            "grid_area": null,
            "grid_auto_columns": null,
            "grid_auto_flow": null,
            "grid_auto_rows": null,
            "grid_column": null,
            "grid_gap": null,
            "grid_row": null,
            "grid_template_areas": null,
            "grid_template_columns": null,
            "grid_template_rows": null,
            "height": null,
            "justify_content": null,
            "justify_items": null,
            "left": null,
            "margin": null,
            "max_height": null,
            "max_width": null,
            "min_height": null,
            "min_width": null,
            "object_fit": null,
            "object_position": null,
            "order": null,
            "overflow": null,
            "overflow_x": null,
            "overflow_y": null,
            "padding": null,
            "right": null,
            "top": null,
            "visibility": null,
            "width": null
          }
        },
        "b9b95ed802084d41b4975bf5169ea9ae": {
          "model_module": "@jupyter-widgets/controls",
          "model_module_version": "1.5.0",
          "model_name": "ProgressStyleModel",
          "state": {
            "_model_module": "@jupyter-widgets/controls",
            "_model_module_version": "1.5.0",
            "_model_name": "ProgressStyleModel",
            "_view_count": null,
            "_view_module": "@jupyter-widgets/base",
            "_view_module_version": "1.2.0",
            "_view_name": "StyleView",
            "bar_color": null,
            "description_width": ""
          }
        },
        "ba26f013e85341eca873279c5dafbdf3": {
          "model_module": "@jupyter-widgets/controls",
          "model_module_version": "1.5.0",
          "model_name": "ProgressStyleModel",
          "state": {
            "_model_module": "@jupyter-widgets/controls",
            "_model_module_version": "1.5.0",
            "_model_name": "ProgressStyleModel",
            "_view_count": null,
            "_view_module": "@jupyter-widgets/base",
            "_view_module_version": "1.2.0",
            "_view_name": "StyleView",
            "bar_color": null,
            "description_width": ""
          }
        },
        "bb1b8547de064474a0c18bf66cce7889": {
          "model_module": "@jupyter-widgets/base",
          "model_module_version": "1.2.0",
          "model_name": "LayoutModel",
          "state": {
            "_model_module": "@jupyter-widgets/base",
            "_model_module_version": "1.2.0",
            "_model_name": "LayoutModel",
            "_view_count": null,
            "_view_module": "@jupyter-widgets/base",
            "_view_module_version": "1.2.0",
            "_view_name": "LayoutView",
            "align_content": null,
            "align_items": null,
            "align_self": null,
            "border": null,
            "bottom": null,
            "display": null,
            "flex": null,
            "flex_flow": null,
            "grid_area": null,
            "grid_auto_columns": null,
            "grid_auto_flow": null,
            "grid_auto_rows": null,
            "grid_column": null,
            "grid_gap": null,
            "grid_row": null,
            "grid_template_areas": null,
            "grid_template_columns": null,
            "grid_template_rows": null,
            "height": null,
            "justify_content": null,
            "justify_items": null,
            "left": null,
            "margin": null,
            "max_height": null,
            "max_width": null,
            "min_height": null,
            "min_width": null,
            "object_fit": null,
            "object_position": null,
            "order": null,
            "overflow": null,
            "overflow_x": null,
            "overflow_y": null,
            "padding": null,
            "right": null,
            "top": null,
            "visibility": null,
            "width": null
          }
        },
        "bc9291dba526497fb31cf354685ec8af": {
          "model_module": "@jupyter-widgets/controls",
          "model_module_version": "1.5.0",
          "model_name": "FloatProgressModel",
          "state": {
            "_dom_classes": [],
            "_model_module": "@jupyter-widgets/controls",
            "_model_module_version": "1.5.0",
            "_model_name": "FloatProgressModel",
            "_view_count": null,
            "_view_module": "@jupyter-widgets/controls",
            "_view_module_version": "1.5.0",
            "_view_name": "ProgressView",
            "bar_style": "success",
            "description": "",
            "description_tooltip": null,
            "layout": "IPY_MODEL_2e40d6d0905341f295f6e2563741783a",
            "max": 50000,
            "min": 0,
            "orientation": "horizontal",
            "style": "IPY_MODEL_9ac126c24753423698adc9d6c5b48087",
            "value": 50000
          }
        },
        "bcc23dfef01e42fea8bb94b0c5e6f3fc": {
          "model_module": "@jupyter-widgets/controls",
          "model_module_version": "1.5.0",
          "model_name": "FloatProgressModel",
          "state": {
            "_dom_classes": [],
            "_model_module": "@jupyter-widgets/controls",
            "_model_module_version": "1.5.0",
            "_model_name": "FloatProgressModel",
            "_view_count": null,
            "_view_module": "@jupyter-widgets/controls",
            "_view_module_version": "1.5.0",
            "_view_name": "ProgressView",
            "bar_style": "success",
            "description": "",
            "description_tooltip": null,
            "layout": "IPY_MODEL_959de368cabf4d51b46825f895b88b97",
            "max": 41996509,
            "min": 0,
            "orientation": "horizontal",
            "style": "IPY_MODEL_45eb295c8b9b413fae926166cd36836c",
            "value": 41996509
          }
        },
        "bcf5048367eb46bd97f800049a0a164c": {
          "model_module": "@jupyter-widgets/base",
          "model_module_version": "1.2.0",
          "model_name": "LayoutModel",
          "state": {
            "_model_module": "@jupyter-widgets/base",
            "_model_module_version": "1.2.0",
            "_model_name": "LayoutModel",
            "_view_count": null,
            "_view_module": "@jupyter-widgets/base",
            "_view_module_version": "1.2.0",
            "_view_name": "LayoutView",
            "align_content": null,
            "align_items": null,
            "align_self": null,
            "border": null,
            "bottom": null,
            "display": null,
            "flex": null,
            "flex_flow": null,
            "grid_area": null,
            "grid_auto_columns": null,
            "grid_auto_flow": null,
            "grid_auto_rows": null,
            "grid_column": null,
            "grid_gap": null,
            "grid_row": null,
            "grid_template_areas": null,
            "grid_template_columns": null,
            "grid_template_rows": null,
            "height": null,
            "justify_content": null,
            "justify_items": null,
            "left": null,
            "margin": null,
            "max_height": null,
            "max_width": null,
            "min_height": null,
            "min_width": null,
            "object_fit": null,
            "object_position": null,
            "order": null,
            "overflow": null,
            "overflow_x": null,
            "overflow_y": null,
            "padding": null,
            "right": null,
            "top": null,
            "visibility": null,
            "width": null
          }
        },
        "bf459c020258434dbc54abd2761c95fa": {
          "model_module": "@jupyter-widgets/controls",
          "model_module_version": "1.5.0",
          "model_name": "HBoxModel",
          "state": {
            "_dom_classes": [],
            "_model_module": "@jupyter-widgets/controls",
            "_model_module_version": "1.5.0",
            "_model_name": "HBoxModel",
            "_view_count": null,
            "_view_module": "@jupyter-widgets/controls",
            "_view_module_version": "1.5.0",
            "_view_name": "HBoxView",
            "box_style": "",
            "children": [
              "IPY_MODEL_ff7a54f4cdcf4c8f9d82df85217c8309",
              "IPY_MODEL_bc9291dba526497fb31cf354685ec8af",
              "IPY_MODEL_8f3ece1cf54b4e7f83c5413bf359e9e3"
            ],
            "layout": "IPY_MODEL_cc1efb5daac348ba87eb2e52e5c4a776"
          }
        },
        "bfd298f36bea418b8e80000245c25ed1": {
          "model_module": "@jupyter-widgets/base",
          "model_module_version": "1.2.0",
          "model_name": "LayoutModel",
          "state": {
            "_model_module": "@jupyter-widgets/base",
            "_model_module_version": "1.2.0",
            "_model_name": "LayoutModel",
            "_view_count": null,
            "_view_module": "@jupyter-widgets/base",
            "_view_module_version": "1.2.0",
            "_view_name": "LayoutView",
            "align_content": null,
            "align_items": null,
            "align_self": null,
            "border": null,
            "bottom": null,
            "display": null,
            "flex": null,
            "flex_flow": null,
            "grid_area": null,
            "grid_auto_columns": null,
            "grid_auto_flow": null,
            "grid_auto_rows": null,
            "grid_column": null,
            "grid_gap": null,
            "grid_row": null,
            "grid_template_areas": null,
            "grid_template_columns": null,
            "grid_template_rows": null,
            "height": null,
            "justify_content": null,
            "justify_items": null,
            "left": null,
            "margin": null,
            "max_height": null,
            "max_width": null,
            "min_height": null,
            "min_width": null,
            "object_fit": null,
            "object_position": null,
            "order": null,
            "overflow": null,
            "overflow_x": null,
            "overflow_y": null,
            "padding": null,
            "right": null,
            "top": null,
            "visibility": null,
            "width": null
          }
        },
        "c1521782dbe74f9bac8cda73d2c4f3fb": {
          "model_module": "@jupyter-widgets/controls",
          "model_module_version": "1.5.0",
          "model_name": "HTMLModel",
          "state": {
            "_dom_classes": [],
            "_model_module": "@jupyter-widgets/controls",
            "_model_module_version": "1.5.0",
            "_model_name": "HTMLModel",
            "_view_count": null,
            "_view_module": "@jupyter-widgets/controls",
            "_view_module_version": "1.5.0",
            "_view_name": "HTMLView",
            "description": "",
            "description_tooltip": null,
            "layout": "IPY_MODEL_832baac0e0af4bccbc5af062076bcf96",
            "placeholder": "​",
            "style": "IPY_MODEL_54748003511e4ff49a91c73d3f3df2f6",
            "value": "Generating train split: 100%"
          }
        },
        "c29e659569f141229de8e4a25ccc00f3": {
          "model_module": "@jupyter-widgets/controls",
          "model_module_version": "1.5.0",
          "model_name": "HBoxModel",
          "state": {
            "_dom_classes": [],
            "_model_module": "@jupyter-widgets/controls",
            "_model_module_version": "1.5.0",
            "_model_name": "HBoxModel",
            "_view_count": null,
            "_view_module": "@jupyter-widgets/controls",
            "_view_module_version": "1.5.0",
            "_view_name": "HBoxView",
            "box_style": "",
            "children": [
              "IPY_MODEL_01d2e73d04914715b58c7b2227e5defe",
              "IPY_MODEL_6b8ec5013a5b4fbabfe2a9a63777a3e5",
              "IPY_MODEL_1445fa6563764220a29cbd7d30045d2c"
            ],
            "layout": "IPY_MODEL_bcf5048367eb46bd97f800049a0a164c"
          }
        },
        "c2d63cd124644f59a7dabfc69f790948": {
          "model_module": "@jupyter-widgets/controls",
          "model_module_version": "1.5.0",
          "model_name": "DescriptionStyleModel",
          "state": {
            "_model_module": "@jupyter-widgets/controls",
            "_model_module_version": "1.5.0",
            "_model_name": "DescriptionStyleModel",
            "_view_count": null,
            "_view_module": "@jupyter-widgets/base",
            "_view_module_version": "1.2.0",
            "_view_name": "StyleView",
            "description_width": ""
          }
        },
        "c3a1eebd59d44f9db9e351eeabc79a9a": {
          "model_module": "@jupyter-widgets/controls",
          "model_module_version": "1.5.0",
          "model_name": "ProgressStyleModel",
          "state": {
            "_model_module": "@jupyter-widgets/controls",
            "_model_module_version": "1.5.0",
            "_model_name": "ProgressStyleModel",
            "_view_count": null,
            "_view_module": "@jupyter-widgets/base",
            "_view_module_version": "1.2.0",
            "_view_name": "StyleView",
            "bar_color": null,
            "description_width": ""
          }
        },
        "c68fd158757d423585d58956d1a99eaf": {
          "model_module": "@jupyter-widgets/base",
          "model_module_version": "1.2.0",
          "model_name": "LayoutModel",
          "state": {
            "_model_module": "@jupyter-widgets/base",
            "_model_module_version": "1.2.0",
            "_model_name": "LayoutModel",
            "_view_count": null,
            "_view_module": "@jupyter-widgets/base",
            "_view_module_version": "1.2.0",
            "_view_name": "LayoutView",
            "align_content": null,
            "align_items": null,
            "align_self": null,
            "border": null,
            "bottom": null,
            "display": null,
            "flex": null,
            "flex_flow": null,
            "grid_area": null,
            "grid_auto_columns": null,
            "grid_auto_flow": null,
            "grid_auto_rows": null,
            "grid_column": null,
            "grid_gap": null,
            "grid_row": null,
            "grid_template_areas": null,
            "grid_template_columns": null,
            "grid_template_rows": null,
            "height": null,
            "justify_content": null,
            "justify_items": null,
            "left": null,
            "margin": null,
            "max_height": null,
            "max_width": null,
            "min_height": null,
            "min_width": null,
            "object_fit": null,
            "object_position": null,
            "order": null,
            "overflow": null,
            "overflow_x": null,
            "overflow_y": null,
            "padding": null,
            "right": null,
            "top": null,
            "visibility": null,
            "width": null
          }
        },
        "c75541bed1794a6bb05890ca783e0bb1": {
          "model_module": "@jupyter-widgets/base",
          "model_module_version": "1.2.0",
          "model_name": "LayoutModel",
          "state": {
            "_model_module": "@jupyter-widgets/base",
            "_model_module_version": "1.2.0",
            "_model_name": "LayoutModel",
            "_view_count": null,
            "_view_module": "@jupyter-widgets/base",
            "_view_module_version": "1.2.0",
            "_view_name": "LayoutView",
            "align_content": null,
            "align_items": null,
            "align_self": null,
            "border": null,
            "bottom": null,
            "display": null,
            "flex": null,
            "flex_flow": null,
            "grid_area": null,
            "grid_auto_columns": null,
            "grid_auto_flow": null,
            "grid_auto_rows": null,
            "grid_column": null,
            "grid_gap": null,
            "grid_row": null,
            "grid_template_areas": null,
            "grid_template_columns": null,
            "grid_template_rows": null,
            "height": null,
            "justify_content": null,
            "justify_items": null,
            "left": null,
            "margin": null,
            "max_height": null,
            "max_width": null,
            "min_height": null,
            "min_width": null,
            "object_fit": null,
            "object_position": null,
            "order": null,
            "overflow": null,
            "overflow_x": null,
            "overflow_y": null,
            "padding": null,
            "right": null,
            "top": null,
            "visibility": null,
            "width": null
          }
        },
        "ca2557e24b204e9abc13522c5c192e91": {
          "model_module": "@jupyter-widgets/controls",
          "model_module_version": "1.5.0",
          "model_name": "DescriptionStyleModel",
          "state": {
            "_model_module": "@jupyter-widgets/controls",
            "_model_module_version": "1.5.0",
            "_model_name": "DescriptionStyleModel",
            "_view_count": null,
            "_view_module": "@jupyter-widgets/base",
            "_view_module_version": "1.2.0",
            "_view_name": "StyleView",
            "description_width": ""
          }
        },
        "cb314a81ab75474fb481c52f4a1ed842": {
          "model_module": "@jupyter-widgets/base",
          "model_module_version": "1.2.0",
          "model_name": "LayoutModel",
          "state": {
            "_model_module": "@jupyter-widgets/base",
            "_model_module_version": "1.2.0",
            "_model_name": "LayoutModel",
            "_view_count": null,
            "_view_module": "@jupyter-widgets/base",
            "_view_module_version": "1.2.0",
            "_view_name": "LayoutView",
            "align_content": null,
            "align_items": null,
            "align_self": null,
            "border": null,
            "bottom": null,
            "display": null,
            "flex": null,
            "flex_flow": null,
            "grid_area": null,
            "grid_auto_columns": null,
            "grid_auto_flow": null,
            "grid_auto_rows": null,
            "grid_column": null,
            "grid_gap": null,
            "grid_row": null,
            "grid_template_areas": null,
            "grid_template_columns": null,
            "grid_template_rows": null,
            "height": null,
            "justify_content": null,
            "justify_items": null,
            "left": null,
            "margin": null,
            "max_height": null,
            "max_width": null,
            "min_height": null,
            "min_width": null,
            "object_fit": null,
            "object_position": null,
            "order": null,
            "overflow": null,
            "overflow_x": null,
            "overflow_y": null,
            "padding": null,
            "right": null,
            "top": null,
            "visibility": null,
            "width": null
          }
        },
        "cb72facec89145b5bc20444949ac3200": {
          "model_module": "@jupyter-widgets/controls",
          "model_module_version": "1.5.0",
          "model_name": "HTMLModel",
          "state": {
            "_dom_classes": [],
            "_model_module": "@jupyter-widgets/controls",
            "_model_module_version": "1.5.0",
            "_model_name": "HTMLModel",
            "_view_count": null,
            "_view_module": "@jupyter-widgets/controls",
            "_view_module_version": "1.5.0",
            "_view_name": "HTMLView",
            "description": "",
            "description_tooltip": null,
            "layout": "IPY_MODEL_f622826c23b647c78671cf589f8b389e",
            "placeholder": "​",
            "style": "IPY_MODEL_b01b1e69045c47f5a743821f14d9d970",
            "value": "Map (num_proc=4): 100%"
          }
        },
        "cc1efb5daac348ba87eb2e52e5c4a776": {
          "model_module": "@jupyter-widgets/base",
          "model_module_version": "1.2.0",
          "model_name": "LayoutModel",
          "state": {
            "_model_module": "@jupyter-widgets/base",
            "_model_module_version": "1.2.0",
            "_model_name": "LayoutModel",
            "_view_count": null,
            "_view_module": "@jupyter-widgets/base",
            "_view_module_version": "1.2.0",
            "_view_name": "LayoutView",
            "align_content": null,
            "align_items": null,
            "align_self": null,
            "border": null,
            "bottom": null,
            "display": null,
            "flex": null,
            "flex_flow": null,
            "grid_area": null,
            "grid_auto_columns": null,
            "grid_auto_flow": null,
            "grid_auto_rows": null,
            "grid_column": null,
            "grid_gap": null,
            "grid_row": null,
            "grid_template_areas": null,
            "grid_template_columns": null,
            "grid_template_rows": null,
            "height": null,
            "justify_content": null,
            "justify_items": null,
            "left": null,
            "margin": null,
            "max_height": null,
            "max_width": null,
            "min_height": null,
            "min_width": null,
            "object_fit": null,
            "object_position": null,
            "order": null,
            "overflow": null,
            "overflow_x": null,
            "overflow_y": null,
            "padding": null,
            "right": null,
            "top": null,
            "visibility": null,
            "width": null
          }
        },
        "ccf5918a328f44da9a5d061b46cb89ef": {
          "model_module": "@jupyter-widgets/controls",
          "model_module_version": "1.5.0",
          "model_name": "DescriptionStyleModel",
          "state": {
            "_model_module": "@jupyter-widgets/controls",
            "_model_module_version": "1.5.0",
            "_model_name": "DescriptionStyleModel",
            "_view_count": null,
            "_view_module": "@jupyter-widgets/base",
            "_view_module_version": "1.2.0",
            "_view_name": "StyleView",
            "description_width": ""
          }
        },
        "ccf998160452482fa9d67af801e9d169": {
          "model_module": "@jupyter-widgets/controls",
          "model_module_version": "1.5.0",
          "model_name": "HTMLModel",
          "state": {
            "_dom_classes": [],
            "_model_module": "@jupyter-widgets/controls",
            "_model_module_version": "1.5.0",
            "_model_name": "HTMLModel",
            "_view_count": null,
            "_view_module": "@jupyter-widgets/controls",
            "_view_module_version": "1.5.0",
            "_view_name": "HTMLView",
            "description": "",
            "description_tooltip": null,
            "layout": "IPY_MODEL_d6b3ac69a446496eafc88a80347a5393",
            "placeholder": "​",
            "style": "IPY_MODEL_9a4b67c0fb774ac7b147098e1efd7260",
            "value": " 25000/25000 [00:13&lt;00:00, 1836.14 examples/s]"
          }
        },
        "cdc28da3728a49f8915dabf766dc26a8": {
          "model_module": "@jupyter-widgets/controls",
          "model_module_version": "1.5.0",
          "model_name": "FloatProgressModel",
          "state": {
            "_dom_classes": [],
            "_model_module": "@jupyter-widgets/controls",
            "_model_module_version": "1.5.0",
            "_model_name": "FloatProgressModel",
            "_view_count": null,
            "_view_module": "@jupyter-widgets/controls",
            "_view_module_version": "1.5.0",
            "_view_name": "ProgressView",
            "bar_style": "success",
            "description": "",
            "description_tooltip": null,
            "layout": "IPY_MODEL_bb1b8547de064474a0c18bf66cce7889",
            "max": 25000,
            "min": 0,
            "orientation": "horizontal",
            "style": "IPY_MODEL_c3a1eebd59d44f9db9e351eeabc79a9a",
            "value": 25000
          }
        },
        "cf4e654be55140b1ad6d9f5439081ee9": {
          "model_module": "@jupyter-widgets/base",
          "model_module_version": "1.2.0",
          "model_name": "LayoutModel",
          "state": {
            "_model_module": "@jupyter-widgets/base",
            "_model_module_version": "1.2.0",
            "_model_name": "LayoutModel",
            "_view_count": null,
            "_view_module": "@jupyter-widgets/base",
            "_view_module_version": "1.2.0",
            "_view_name": "LayoutView",
            "align_content": null,
            "align_items": null,
            "align_self": null,
            "border": null,
            "bottom": null,
            "display": null,
            "flex": null,
            "flex_flow": null,
            "grid_area": null,
            "grid_auto_columns": null,
            "grid_auto_flow": null,
            "grid_auto_rows": null,
            "grid_column": null,
            "grid_gap": null,
            "grid_row": null,
            "grid_template_areas": null,
            "grid_template_columns": null,
            "grid_template_rows": null,
            "height": null,
            "justify_content": null,
            "justify_items": null,
            "left": null,
            "margin": null,
            "max_height": null,
            "max_width": null,
            "min_height": null,
            "min_width": null,
            "object_fit": null,
            "object_position": null,
            "order": null,
            "overflow": null,
            "overflow_x": null,
            "overflow_y": null,
            "padding": null,
            "right": null,
            "top": null,
            "visibility": null,
            "width": null
          }
        },
        "cffa2115c14f40c5be8c0cee67193b49": {
          "model_module": "@jupyter-widgets/controls",
          "model_module_version": "1.5.0",
          "model_name": "ProgressStyleModel",
          "state": {
            "_model_module": "@jupyter-widgets/controls",
            "_model_module_version": "1.5.0",
            "_model_name": "ProgressStyleModel",
            "_view_count": null,
            "_view_module": "@jupyter-widgets/base",
            "_view_module_version": "1.2.0",
            "_view_name": "StyleView",
            "bar_color": null,
            "description_width": ""
          }
        },
        "d1a81417dae24a53a8b53c47e6b4381c": {
          "model_module": "@jupyter-widgets/controls",
          "model_module_version": "1.5.0",
          "model_name": "HBoxModel",
          "state": {
            "_dom_classes": [],
            "_model_module": "@jupyter-widgets/controls",
            "_model_module_version": "1.5.0",
            "_model_name": "HBoxModel",
            "_view_count": null,
            "_view_module": "@jupyter-widgets/controls",
            "_view_module_version": "1.5.0",
            "_view_name": "HBoxView",
            "box_style": "",
            "children": [
              "IPY_MODEL_36f0168cb84a4269bbcb22c73ab44d54",
              "IPY_MODEL_4e60b02fa07540cc81b3d8fc5101bc52",
              "IPY_MODEL_63ada6281f1d448b866e6068020f40ac"
            ],
            "layout": "IPY_MODEL_2d45cf6772d149bfafbd014365f8f191"
          }
        },
        "d35803ce3faf4011ade3032954d3fc49": {
          "model_module": "@jupyter-widgets/base",
          "model_module_version": "1.2.0",
          "model_name": "LayoutModel",
          "state": {
            "_model_module": "@jupyter-widgets/base",
            "_model_module_version": "1.2.0",
            "_model_name": "LayoutModel",
            "_view_count": null,
            "_view_module": "@jupyter-widgets/base",
            "_view_module_version": "1.2.0",
            "_view_name": "LayoutView",
            "align_content": null,
            "align_items": null,
            "align_self": null,
            "border": null,
            "bottom": null,
            "display": null,
            "flex": null,
            "flex_flow": null,
            "grid_area": null,
            "grid_auto_columns": null,
            "grid_auto_flow": null,
            "grid_auto_rows": null,
            "grid_column": null,
            "grid_gap": null,
            "grid_row": null,
            "grid_template_areas": null,
            "grid_template_columns": null,
            "grid_template_rows": null,
            "height": null,
            "justify_content": null,
            "justify_items": null,
            "left": null,
            "margin": null,
            "max_height": null,
            "max_width": null,
            "min_height": null,
            "min_width": null,
            "object_fit": null,
            "object_position": null,
            "order": null,
            "overflow": null,
            "overflow_x": null,
            "overflow_y": null,
            "padding": null,
            "right": null,
            "top": null,
            "visibility": null,
            "width": null
          }
        },
        "d686c7ce5f32456bb071c49d772678d0": {
          "model_module": "@jupyter-widgets/controls",
          "model_module_version": "1.5.0",
          "model_name": "HTMLModel",
          "state": {
            "_dom_classes": [],
            "_model_module": "@jupyter-widgets/controls",
            "_model_module_version": "1.5.0",
            "_model_name": "HTMLModel",
            "_view_count": null,
            "_view_module": "@jupyter-widgets/controls",
            "_view_module_version": "1.5.0",
            "_view_name": "HTMLView",
            "description": "",
            "description_tooltip": null,
            "layout": "IPY_MODEL_2c84144d7ea8458fafb216b32d1d6d3e",
            "placeholder": "​",
            "style": "IPY_MODEL_13e4f6d9a4be47209385c67158a45bb3",
            "value": " 20.5M/20.5M [00:00&lt;00:00, 36.8MB/s]"
          }
        },
        "d6b3ac69a446496eafc88a80347a5393": {
          "model_module": "@jupyter-widgets/base",
          "model_module_version": "1.2.0",
          "model_name": "LayoutModel",
          "state": {
            "_model_module": "@jupyter-widgets/base",
            "_model_module_version": "1.2.0",
            "_model_name": "LayoutModel",
            "_view_count": null,
            "_view_module": "@jupyter-widgets/base",
            "_view_module_version": "1.2.0",
            "_view_name": "LayoutView",
            "align_content": null,
            "align_items": null,
            "align_self": null,
            "border": null,
            "bottom": null,
            "display": null,
            "flex": null,
            "flex_flow": null,
            "grid_area": null,
            "grid_auto_columns": null,
            "grid_auto_flow": null,
            "grid_auto_rows": null,
            "grid_column": null,
            "grid_gap": null,
            "grid_row": null,
            "grid_template_areas": null,
            "grid_template_columns": null,
            "grid_template_rows": null,
            "height": null,
            "justify_content": null,
            "justify_items": null,
            "left": null,
            "margin": null,
            "max_height": null,
            "max_width": null,
            "min_height": null,
            "min_width": null,
            "object_fit": null,
            "object_position": null,
            "order": null,
            "overflow": null,
            "overflow_x": null,
            "overflow_y": null,
            "padding": null,
            "right": null,
            "top": null,
            "visibility": null,
            "width": null
          }
        },
        "e36d5e5b22e0407b810231a97acbf73e": {
          "model_module": "@jupyter-widgets/controls",
          "model_module_version": "1.5.0",
          "model_name": "DescriptionStyleModel",
          "state": {
            "_model_module": "@jupyter-widgets/controls",
            "_model_module_version": "1.5.0",
            "_model_name": "DescriptionStyleModel",
            "_view_count": null,
            "_view_module": "@jupyter-widgets/base",
            "_view_module_version": "1.2.0",
            "_view_name": "StyleView",
            "description_width": ""
          }
        },
        "e39eabb6495a47b08f1cf12abe3be236": {
          "model_module": "@jupyter-widgets/controls",
          "model_module_version": "1.5.0",
          "model_name": "DescriptionStyleModel",
          "state": {
            "_model_module": "@jupyter-widgets/controls",
            "_model_module_version": "1.5.0",
            "_model_name": "DescriptionStyleModel",
            "_view_count": null,
            "_view_module": "@jupyter-widgets/base",
            "_view_module_version": "1.2.0",
            "_view_name": "StyleView",
            "description_width": ""
          }
        },
        "e758295d086a495e99fca994d7509ad3": {
          "model_module": "@jupyter-widgets/controls",
          "model_module_version": "1.5.0",
          "model_name": "HTMLModel",
          "state": {
            "_dom_classes": [],
            "_model_module": "@jupyter-widgets/controls",
            "_model_module_version": "1.5.0",
            "_model_name": "HTMLModel",
            "_view_count": null,
            "_view_module": "@jupyter-widgets/controls",
            "_view_module_version": "1.5.0",
            "_view_name": "HTMLView",
            "description": "",
            "description_tooltip": null,
            "layout": "IPY_MODEL_7129ce8bc63745ad9605fc60bf086c3a",
            "placeholder": "​",
            "style": "IPY_MODEL_c2d63cd124644f59a7dabfc69f790948",
            "value": " 25000/25000 [00:12&lt;00:00, 1108.05 examples/s]"
          }
        },
        "eeb454382a57454893131f6521914a73": {
          "model_module": "@jupyter-widgets/controls",
          "model_module_version": "1.5.0",
          "model_name": "HBoxModel",
          "state": {
            "_dom_classes": [],
            "_model_module": "@jupyter-widgets/controls",
            "_model_module_version": "1.5.0",
            "_model_name": "HBoxModel",
            "_view_count": null,
            "_view_module": "@jupyter-widgets/controls",
            "_view_module_version": "1.5.0",
            "_view_name": "HBoxView",
            "box_style": "",
            "children": [
              "IPY_MODEL_19d1d9e90c5b4430ab42f323c4049c35",
              "IPY_MODEL_0a0b6fbdf84f4b48b9c2ef49a0250404",
              "IPY_MODEL_1a56cbd49d384c519b64714fea68a641"
            ],
            "layout": "IPY_MODEL_5de8dbc30dcc46bf91c6b06a4e13931b"
          }
        },
        "f32cbba9a7b6489a831f9a6bea21938c": {
          "model_module": "@jupyter-widgets/controls",
          "model_module_version": "1.5.0",
          "model_name": "DescriptionStyleModel",
          "state": {
            "_model_module": "@jupyter-widgets/controls",
            "_model_module_version": "1.5.0",
            "_model_name": "DescriptionStyleModel",
            "_view_count": null,
            "_view_module": "@jupyter-widgets/base",
            "_view_module_version": "1.2.0",
            "_view_name": "StyleView",
            "description_width": ""
          }
        },
        "f622826c23b647c78671cf589f8b389e": {
          "model_module": "@jupyter-widgets/base",
          "model_module_version": "1.2.0",
          "model_name": "LayoutModel",
          "state": {
            "_model_module": "@jupyter-widgets/base",
            "_model_module_version": "1.2.0",
            "_model_name": "LayoutModel",
            "_view_count": null,
            "_view_module": "@jupyter-widgets/base",
            "_view_module_version": "1.2.0",
            "_view_name": "LayoutView",
            "align_content": null,
            "align_items": null,
            "align_self": null,
            "border": null,
            "bottom": null,
            "display": null,
            "flex": null,
            "flex_flow": null,
            "grid_area": null,
            "grid_auto_columns": null,
            "grid_auto_flow": null,
            "grid_auto_rows": null,
            "grid_column": null,
            "grid_gap": null,
            "grid_row": null,
            "grid_template_areas": null,
            "grid_template_columns": null,
            "grid_template_rows": null,
            "height": null,
            "justify_content": null,
            "justify_items": null,
            "left": null,
            "margin": null,
            "max_height": null,
            "max_width": null,
            "min_height": null,
            "min_width": null,
            "object_fit": null,
            "object_position": null,
            "order": null,
            "overflow": null,
            "overflow_x": null,
            "overflow_y": null,
            "padding": null,
            "right": null,
            "top": null,
            "visibility": null,
            "width": null
          }
        },
        "f81a4981e95941c3a915b56f9e2f1ea0": {
          "model_module": "@jupyter-widgets/controls",
          "model_module_version": "1.5.0",
          "model_name": "ProgressStyleModel",
          "state": {
            "_model_module": "@jupyter-widgets/controls",
            "_model_module_version": "1.5.0",
            "_model_name": "ProgressStyleModel",
            "_view_count": null,
            "_view_module": "@jupyter-widgets/base",
            "_view_module_version": "1.2.0",
            "_view_name": "StyleView",
            "bar_color": null,
            "description_width": ""
          }
        },
        "fe4208bf6680465697a87889ec3f120c": {
          "model_module": "@jupyter-widgets/controls",
          "model_module_version": "1.5.0",
          "model_name": "FloatProgressModel",
          "state": {
            "_dom_classes": [],
            "_model_module": "@jupyter-widgets/controls",
            "_model_module_version": "1.5.0",
            "_model_name": "FloatProgressModel",
            "_view_count": null,
            "_view_module": "@jupyter-widgets/controls",
            "_view_module_version": "1.5.0",
            "_view_name": "ProgressView",
            "bar_style": "success",
            "description": "",
            "description_tooltip": null,
            "layout": "IPY_MODEL_8bc478ee4f37434a9e92e28a90c659ea",
            "max": 25000,
            "min": 0,
            "orientation": "horizontal",
            "style": "IPY_MODEL_cffa2115c14f40c5be8c0cee67193b49",
            "value": 25000
          }
        },
        "ff7a54f4cdcf4c8f9d82df85217c8309": {
          "model_module": "@jupyter-widgets/controls",
          "model_module_version": "1.5.0",
          "model_name": "HTMLModel",
          "state": {
            "_dom_classes": [],
            "_model_module": "@jupyter-widgets/controls",
            "_model_module_version": "1.5.0",
            "_model_name": "HTMLModel",
            "_view_count": null,
            "_view_module": "@jupyter-widgets/controls",
            "_view_module_version": "1.5.0",
            "_view_name": "HTMLView",
            "description": "",
            "description_tooltip": null,
            "layout": "IPY_MODEL_b364405e003e49afb820eac3827d422d",
            "placeholder": "​",
            "style": "IPY_MODEL_3d87aaa4f44148839e84d32f7292422e",
            "value": "Generating unsupervised split: 100%"
          }
        },
        "ffcb6442757c4d8fa0b64d6813c261f2": {
          "model_module": "@jupyter-widgets/base",
          "model_module_version": "1.2.0",
          "model_name": "LayoutModel",
          "state": {
            "_model_module": "@jupyter-widgets/base",
            "_model_module_version": "1.2.0",
            "_model_name": "LayoutModel",
            "_view_count": null,
            "_view_module": "@jupyter-widgets/base",
            "_view_module_version": "1.2.0",
            "_view_name": "LayoutView",
            "align_content": null,
            "align_items": null,
            "align_self": null,
            "border": null,
            "bottom": null,
            "display": null,
            "flex": null,
            "flex_flow": null,
            "grid_area": null,
            "grid_auto_columns": null,
            "grid_auto_flow": null,
            "grid_auto_rows": null,
            "grid_column": null,
            "grid_gap": null,
            "grid_row": null,
            "grid_template_areas": null,
            "grid_template_columns": null,
            "grid_template_rows": null,
            "height": null,
            "justify_content": null,
            "justify_items": null,
            "left": null,
            "margin": null,
            "max_height": null,
            "max_width": null,
            "min_height": null,
            "min_width": null,
            "object_fit": null,
            "object_position": null,
            "order": null,
            "overflow": null,
            "overflow_x": null,
            "overflow_y": null,
            "padding": null,
            "right": null,
            "top": null,
            "visibility": null,
            "width": null
          }
        }
      }
    }
  },
  "nbformat": 4,
  "nbformat_minor": 0
}
